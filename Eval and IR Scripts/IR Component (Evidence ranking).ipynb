{
 "cells": [
  {
   "cell_type": "code",
   "execution_count": null,
   "outputs": [],
   "source": [
    "import json\n",
    "import numpy as np\n",
    "from rank_bm25 import BM25Okapi\n",
    "from transformers import AutoTokenizer, AutoModelForSequenceClassification, pipeline\n",
    "from sentence_transformers import SentenceTransformer, util\n",
    "from sklearn.metrics import accuracy_score, precision_recall_fscore_support"
   ],
   "metadata": {
    "collapsed": false
   },
   "id": "9be314ec562d0ee7"
  },
  {
   "cell_type": "code",
   "execution_count": null,
   "outputs": [],
   "source": [
    "with open('Copy of corpus_evidence_unified.json','r') as f:\n",
    "    evidence_data = json.load(f)"
   ],
   "metadata": {
    "collapsed": false
   },
   "id": "9707978fb95a29ad"
  },
  {
   "cell_type": "code",
   "execution_count": null,
   "outputs": [],
   "source": [
    "# Extract and tokenize evidence documents\n",
    "evidence_snippets = [text for text in evidence_data.values()]\n",
    "tokenized_corpus = [doc.split() for doc in evidence_snippets]\n",
    "# Initialize BM25\n",
    "bm25 = BM25Okapi(tokenized_corpus)"
   ],
   "metadata": {
    "collapsed": false
   },
   "id": "ff815408eec8853a"
  },
  {
   "cell_type": "code",
   "execution_count": null,
   "outputs": [],
   "source": [
    "def retrieve_evidence_bm25(claim, k=100):\n",
    "    tokenized_query = claim.split()\n",
    "    scores = bm25.get_scores(tokenized_query)\n",
    "    top_k_indices = np.argsort(scores)[-k:][::-1]  \n",
    "    #combine the retrieved evidence as a single string. \n",
    "    return [evidence_snippets[i] for i in top_k_indices]\n",
    "    # return(\"\".join(selected_evidence))"
   ],
   "metadata": {
    "collapsed": false
   },
   "id": "5349a683e5d250ed"
  },
  {
   "cell_type": "code",
   "execution_count": null,
   "outputs": [],
   "source": [
    "def rerank_evidence(claim, evidence_list, reranker_model):\n",
    "    claim_embedding = reranker_model.encode(claim, convert_to_tensor=True)\n",
    "    evidence_embeddings = reranker_model.encode([e[0] for e in evidence_list], convert_to_tensor=True)\n",
    "\n",
    "    cos_scores = util.pytorch_cos_sim(claim_embedding, evidence_embeddings)[0]\n",
    "    cos_scores_cpu = cos_scores.cpu().numpy()\n",
    "    reranked_indices = np.argsort(cos_scores_cpu)[::-1]\n",
    "\n",
    "    reranked_evidence = [evidence_list[i] for i in reranked_indices]\n",
    "    return reranked_evidence"
   ],
   "metadata": {
    "collapsed": false
   },
   "id": "a65138e549e5a318"
  },
  {
   "cell_type": "code",
   "execution_count": null,
   "outputs": [],
   "source": [
    "with open('train_claims_quantemp.json','r') as f:\n",
    "    train_data = json.load(f)\n",
    "    \n",
    "# with open('ollama-decomposed-test.json','r') as f:\n",
    "#     test_data = json.load(f)"
   ],
   "metadata": {
    "collapsed": false
   },
   "id": "4b40e226303bb1b1"
  },
  {
   "cell_type": "code",
   "execution_count": null,
   "outputs": [],
   "source": [
    "results = []\n",
    "reranker_model = SentenceTransformer('paraphrase-MiniLM-L6-v2')\n",
    "\n",
    "for entry in train_data:\n",
    "    claim = entry['claim']\n",
    "    label = entry['label']\n",
    "    # subqueries = entry['subqueries']\n",
    "\n",
    "    # Retrieve top-100 evidence as a single string\n",
    "    # reranked_evidence = retrieve_evidence_bm25(claim,k=100)\n",
    "\n",
    "\n",
    "     # Retrieve top-100 evidence\n",
    "    initial_evidence = retrieve_evidence_bm25(claim, k=100)\n",
    "\n",
    "    # Re-rank evidence\n",
    "    reranked_evidence = rerank_evidence(claim, initial_evidence, reranker_model)[:5]  # Select top-5 after re-ranking\n",
    "    combined_evidence = \"\".join(reranked_evidence)\n",
    "\n",
    "    results.append({\n",
    "        \"claim\": claim,\n",
    "        \"label\": label,\n",
    "        # 'subqueries': subqueries, \n",
    "        \"doc\": combined_evidence, \n",
    "        \"retrieved_evidence\": reranked_evidence\n",
    "    })\n",
    "    \n",
    "    \n",
    "with open('val_claims_quantemp_bm25.json', 'w') as f:\n",
    "    json.dump(results, f)\n",
    "    \n",
    "print('done')"
   ],
   "metadata": {
    "collapsed": false,
    "is_executing": true
   },
   "id": "154cd6762d324c76"
  },
  {
   "cell_type": "code",
   "execution_count": null,
   "outputs": [],
   "source": [],
   "metadata": {
    "collapsed": false,
    "is_executing": true
   },
   "id": "4fafa07d63a820f8"
  }
 ],
 "metadata": {
  "kernelspec": {
   "display_name": "Python 3",
   "language": "python",
   "name": "python3"
  },
  "language_info": {
   "codemirror_mode": {
    "name": "ipython",
    "version": 2
   },
   "file_extension": ".py",
   "mimetype": "text/x-python",
   "name": "python",
   "nbconvert_exporter": "python",
   "pygments_lexer": "ipython2",
   "version": "2.7.6"
  }
 },
 "nbformat": 4,
 "nbformat_minor": 5
}
