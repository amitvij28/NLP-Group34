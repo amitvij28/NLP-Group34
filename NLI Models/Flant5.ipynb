{
 "cells": [
  {
   "cell_type": "code",
   "execution_count": 1,
   "id": "d40d6382",
   "metadata": {
    "execution": {
     "iopub.execute_input": "2024-06-10T19:48:42.828438Z",
     "iopub.status.busy": "2024-06-10T19:48:42.828129Z",
     "iopub.status.idle": "2024-06-10T19:48:46.459689Z",
     "shell.execute_reply": "2024-06-10T19:48:46.458622Z"
    },
    "id": "egtdWTvcOeTy",
    "outputId": "debf80c4-c20e-40a9-83b4-8e87320987f3",
    "papermill": {
     "duration": 3.662803,
     "end_time": "2024-06-10T19:48:46.462461",
     "exception": false,
     "start_time": "2024-06-10T19:48:42.799658",
     "status": "completed"
    },
    "tags": []
   },
   "outputs": [
    {
     "name": "stdout",
     "output_type": "stream",
     "text": [
      "There are 1 GPU(s) available.\n",
      "We will use the GPU: Tesla P100-PCIE-16GB\n"
     ]
    }
   ],
   "source": [
    "import os\n",
    "os.environ['CUDA_LAUNCH_BLOCKING'] = \"1\"\n",
    "import torch\n",
    "import logging\n",
    "logging.basicConfig(level=logging.ERROR)\n",
    "# If there's a GPU available...\n",
    "if torch.cuda.is_available():\n",
    "\n",
    "    # Tell PyTorch to use the GPU.\n",
    "    device = torch.device(\"cuda\")\n",
    "\n",
    "    print('There are %d GPU(s) available.' % torch.cuda.device_count())\n",
    "\n",
    "    print('We will use the GPU:', torch.cuda.get_device_name(0))\n",
    "\n",
    "# If not...\n",
    "else:\n",
    "    print('No GPU available, using the CPU instead.')\n",
    "    device = torch.device(\"cpu\")"
   ]
  },
  {
   "cell_type": "code",
   "execution_count": 2,
   "id": "94113415",
   "metadata": {
    "execution": {
     "iopub.execute_input": "2024-06-10T19:48:46.519041Z",
     "iopub.status.busy": "2024-06-10T19:48:46.518621Z",
     "iopub.status.idle": "2024-06-10T19:48:59.935709Z",
     "shell.execute_reply": "2024-06-10T19:48:59.934719Z"
    },
    "id": "8AlOzas-OzjA",
    "outputId": "de4e1517-a2e7-49e0-9cb0-fc6aa83b4c4d",
    "papermill": {
     "duration": 13.448549,
     "end_time": "2024-06-10T19:48:59.938334",
     "exception": false,
     "start_time": "2024-06-10T19:48:46.489785",
     "status": "completed"
    },
    "tags": []
   },
   "outputs": [
    {
     "name": "stdout",
     "output_type": "stream",
     "text": [
      "Requirement already satisfied: transformers in /opt/conda/lib/python3.10/site-packages (4.41.2)\r\n",
      "Requirement already satisfied: filelock in /opt/conda/lib/python3.10/site-packages (from transformers) (3.13.1)\r\n",
      "Requirement already satisfied: huggingface-hub<1.0,>=0.23.0 in /opt/conda/lib/python3.10/site-packages (from transformers) (0.23.2)\r\n",
      "Requirement already satisfied: numpy>=1.17 in /opt/conda/lib/python3.10/site-packages (from transformers) (1.26.4)\r\n",
      "Requirement already satisfied: packaging>=20.0 in /opt/conda/lib/python3.10/site-packages (from transformers) (21.3)\r\n",
      "Requirement already satisfied: pyyaml>=5.1 in /opt/conda/lib/python3.10/site-packages (from transformers) (6.0.1)\r\n",
      "Requirement already satisfied: regex!=2019.12.17 in /opt/conda/lib/python3.10/site-packages (from transformers) (2023.12.25)\r\n",
      "Requirement already satisfied: requests in /opt/conda/lib/python3.10/site-packages (from transformers) (2.32.3)\r\n",
      "Requirement already satisfied: tokenizers<0.20,>=0.19 in /opt/conda/lib/python3.10/site-packages (from transformers) (0.19.1)\r\n",
      "Requirement already satisfied: safetensors>=0.4.1 in /opt/conda/lib/python3.10/site-packages (from transformers) (0.4.3)\r\n",
      "Requirement already satisfied: tqdm>=4.27 in /opt/conda/lib/python3.10/site-packages (from transformers) (4.66.4)\r\n",
      "Requirement already satisfied: fsspec>=2023.5.0 in /opt/conda/lib/python3.10/site-packages (from huggingface-hub<1.0,>=0.23.0->transformers) (2024.3.1)\r\n",
      "Requirement already satisfied: typing-extensions>=3.7.4.3 in /opt/conda/lib/python3.10/site-packages (from huggingface-hub<1.0,>=0.23.0->transformers) (4.9.0)\r\n",
      "Requirement already satisfied: pyparsing!=3.0.5,>=2.0.2 in /opt/conda/lib/python3.10/site-packages (from packaging>=20.0->transformers) (3.1.1)\r\n",
      "Requirement already satisfied: charset-normalizer<4,>=2 in /opt/conda/lib/python3.10/site-packages (from requests->transformers) (3.3.2)\r\n",
      "Requirement already satisfied: idna<4,>=2.5 in /opt/conda/lib/python3.10/site-packages (from requests->transformers) (3.6)\r\n",
      "Requirement already satisfied: urllib3<3,>=1.21.1 in /opt/conda/lib/python3.10/site-packages (from requests->transformers) (1.26.18)\r\n",
      "Requirement already satisfied: certifi>=2017.4.17 in /opt/conda/lib/python3.10/site-packages (from requests->transformers) (2024.2.2)\r\n"
     ]
    }
   ],
   "source": [
    "!pip install transformers"
   ]
  },
  {
   "cell_type": "code",
   "execution_count": 3,
   "id": "cedbd6a1",
   "metadata": {
    "execution": {
     "iopub.execute_input": "2024-06-10T19:48:59.994806Z",
     "iopub.status.busy": "2024-06-10T19:48:59.994152Z",
     "iopub.status.idle": "2024-06-10T19:49:02.703821Z",
     "shell.execute_reply": "2024-06-10T19:49:02.703032Z"
    },
    "id": "C_-uxEt3O1Y_",
    "outputId": "eee2a937-4bc3-4bbe-e6e4-a8b595f447d7",
    "papermill": {
     "duration": 2.740071,
     "end_time": "2024-06-10T19:49:02.706154",
     "exception": false,
     "start_time": "2024-06-10T19:48:59.966083",
     "status": "completed"
    },
    "tags": []
   },
   "outputs": [
    {
     "name": "stdout",
     "output_type": "stream",
     "text": [
      "Loading FLANT5 tokenizer...\n"
     ]
    },
    {
     "data": {
      "application/vnd.jupyter.widget-view+json": {
       "model_id": "38f9d36d3262427f8bd43a5e77dcc7a8",
       "version_major": 2,
       "version_minor": 0
      },
      "text/plain": [
       "tokenizer_config.json:   0%|          | 0.00/2.54k [00:00<?, ?B/s]"
      ]
     },
     "metadata": {},
     "output_type": "display_data"
    },
    {
     "data": {
      "application/vnd.jupyter.widget-view+json": {
       "model_id": "61469731eaeb4decaeb1e2ea4ca8e9aa",
       "version_major": 2,
       "version_minor": 0
      },
      "text/plain": [
       "spiece.model:   0%|          | 0.00/792k [00:00<?, ?B/s]"
      ]
     },
     "metadata": {},
     "output_type": "display_data"
    },
    {
     "data": {
      "application/vnd.jupyter.widget-view+json": {
       "model_id": "06cfc9f0b2934e629034b96836ad4b1c",
       "version_major": 2,
       "version_minor": 0
      },
      "text/plain": [
       "tokenizer.json:   0%|          | 0.00/2.42M [00:00<?, ?B/s]"
      ]
     },
     "metadata": {},
     "output_type": "display_data"
    },
    {
     "data": {
      "application/vnd.jupyter.widget-view+json": {
       "model_id": "6eb0dfd21f4a4a1db30cf0db085cd2e5",
       "version_major": 2,
       "version_minor": 0
      },
      "text/plain": [
       "special_tokens_map.json:   0%|          | 0.00/2.20k [00:00<?, ?B/s]"
      ]
     },
     "metadata": {},
     "output_type": "display_data"
    }
   ],
   "source": [
    "from transformers import AutoTokenizer,AutoModel\n",
    "\n",
    "# Load the BERT tokenizer.\n",
    "print('Loading FLANT5 tokenizer...')\n",
    "tokenizer = AutoTokenizer.from_pretrained('google/flan-t5-base', do_lower_case=True)"
   ]
  },
  {
   "cell_type": "code",
   "execution_count": 4,
   "id": "3c3fa40e",
   "metadata": {
    "execution": {
     "iopub.execute_input": "2024-06-10T19:49:02.763963Z",
     "iopub.status.busy": "2024-06-10T19:49:02.763315Z",
     "iopub.status.idle": "2024-06-10T19:49:03.040335Z",
     "shell.execute_reply": "2024-06-10T19:49:03.039456Z"
    },
    "id": "wIK7glJvkXRH",
    "outputId": "5c96dbc9-28a8-4b38-e2ea-8097d7d339e6",
    "papermill": {
     "duration": 0.307968,
     "end_time": "2024-06-10T19:49:03.042318",
     "exception": false,
     "start_time": "2024-06-10T19:49:02.734350",
     "status": "completed"
    },
    "tags": []
   },
   "outputs": [
    {
     "data": {
      "text/plain": [
       "9935"
      ]
     },
     "execution_count": 4,
     "metadata": {},
     "output_type": "execute_result"
    }
   ],
   "source": [
    "import json\n",
    "with open(\"/kaggle/input/training/train_claims_quantemp_bm25.json\") as f:\n",
    "  train_data = json.load(f)\n",
    "len(train_data\n",
    "    )"
   ]
  },
  {
   "cell_type": "code",
   "execution_count": 5,
   "id": "9bddbe7e",
   "metadata": {
    "execution": {
     "iopub.execute_input": "2024-06-10T19:49:03.100824Z",
     "iopub.status.busy": "2024-06-10T19:49:03.100030Z",
     "iopub.status.idle": "2024-06-10T19:49:03.106144Z",
     "shell.execute_reply": "2024-06-10T19:49:03.105347Z"
    },
    "id": "LjbPPEMKW4CM",
    "outputId": "d0be2bfd-205d-4317-b98a-6ded99e5f7a4",
    "papermill": {
     "duration": 0.037097,
     "end_time": "2024-06-10T19:49:03.107891",
     "exception": false,
     "start_time": "2024-06-10T19:49:03.070794",
     "status": "completed"
    },
    "tags": []
   },
   "outputs": [
    {
     "data": {
      "text/plain": [
       "{'claim': 'FAKE:  Commandos from &#8220;Berkut&#8221; who refused to kneel have been burned alive in Lviv',\n",
       " 'label': 'False',\n",
       " 'doc': \"head injuries are rising dramatically--about 1.7 million people have a tbi each year. millions of americans are alive today who have had a head injury and now ...these settlements underwent periodical acts of destruction and re-creation, as they were burned and then rebuilt every 6080 years. ... have been consistently ...the corral fire was a wildfire that burned from november 24 until november 27, 2007 in the malibu creek state park. the fire, which burned 4,901 acres (20 ...the only animals skinned alive are skinned alive by peta, greenpeace and ... fact check: was this 7-month-old white fox skinned alive for lady gaga's fur ...the american dream is alive and well in this memoir of a muslim immigrant from india who arrived planning to start a business, working so hard toward his ...\",\n",
       " 'retrieved_evidence': ['head injuries are rising dramatically--about 1.7 million people have a tbi each year. millions of americans are alive today who have had a head injury and now ...',\n",
       "  'these settlements underwent periodical acts of destruction and re-creation, as they were burned and then rebuilt every 6080 years. ... have been consistently ...',\n",
       "  'the corral fire was a wildfire that burned from november 24 until november 27, 2007 in the malibu creek state park. the fire, which burned 4,901 acres (20 ...',\n",
       "  \"the only animals skinned alive are skinned alive by peta, greenpeace and ... fact check: was this 7-month-old white fox skinned alive for lady gaga's fur ...\",\n",
       "  'the american dream is alive and well in this memoir of a muslim immigrant from india who arrived planning to start a business, working so hard toward his ...']}"
      ]
     },
     "execution_count": 5,
     "metadata": {},
     "output_type": "execute_result"
    }
   ],
   "source": [
    "train_data[-1]"
   ]
  },
  {
   "cell_type": "code",
   "execution_count": 6,
   "id": "41dc634f",
   "metadata": {
    "execution": {
     "iopub.execute_input": "2024-06-10T19:49:03.165134Z",
     "iopub.status.busy": "2024-06-10T19:49:03.164639Z",
     "iopub.status.idle": "2024-06-10T19:49:03.257645Z",
     "shell.execute_reply": "2024-06-10T19:49:03.256736Z"
    },
    "id": "HD0NZfDFkvW1",
    "outputId": "92c030da-f946-4085-ff16-fe299cb44532",
    "papermill": {
     "duration": 0.123732,
     "end_time": "2024-06-10T19:49:03.259679",
     "exception": false,
     "start_time": "2024-06-10T19:49:03.135947",
     "status": "completed"
    },
    "tags": []
   },
   "outputs": [
    {
     "data": {
      "text/plain": [
       "3084"
      ]
     },
     "execution_count": 6,
     "metadata": {},
     "output_type": "execute_result"
    }
   ],
   "source": [
    "import json\n",
    "with open(\"/kaggle/input/validation/val_claims_quantemp_bm25.json\") as f:\n",
    "  val_data = json.load(f)\n",
    "len(val_data\n",
    "    )"
   ]
  },
  {
   "cell_type": "raw",
   "id": "9dd87cec",
   "metadata": {
    "execution": {
     "iopub.execute_input": "2024-06-10T17:34:11.351525Z",
     "iopub.status.busy": "2024-06-10T17:34:11.350449Z",
     "iopub.status.idle": "2024-06-10T17:34:11.359041Z",
     "shell.execute_reply": "2024-06-10T17:34:11.357769Z",
     "shell.execute_reply.started": "2024-06-10T17:34:11.351478Z"
    },
    "id": "ZT-q3h48kxdg",
    "outputId": "d5290e0b-29f5-4839-c1b2-065411713679",
    "papermill": {
     "duration": 0.028073,
     "end_time": "2024-06-10T19:49:03.316560",
     "exception": false,
     "start_time": "2024-06-10T19:49:03.288487",
     "status": "completed"
    },
    "tags": []
   },
   "source": [
    "val_data[-1]"
   ]
  },
  {
   "cell_type": "code",
   "execution_count": 7,
   "id": "c9d78f3d",
   "metadata": {
    "execution": {
     "iopub.execute_input": "2024-06-10T19:49:03.374386Z",
     "iopub.status.busy": "2024-06-10T19:49:03.374074Z",
     "iopub.status.idle": "2024-06-10T19:49:04.498897Z",
     "shell.execute_reply": "2024-06-10T19:49:04.497877Z"
    },
    "id": "7cYv6F4Nk4SJ",
    "papermill": {
     "duration": 1.157103,
     "end_time": "2024-06-10T19:49:04.501938",
     "exception": false,
     "start_time": "2024-06-10T19:49:03.344835",
     "status": "completed"
    },
    "tags": []
   },
   "outputs": [],
   "source": [
    "from sklearn.preprocessing import LabelEncoder\n",
    "LE = LabelEncoder()"
   ]
  },
  {
   "cell_type": "code",
   "execution_count": 8,
   "id": "501549f0",
   "metadata": {
    "execution": {
     "iopub.execute_input": "2024-06-10T19:49:04.564519Z",
     "iopub.status.busy": "2024-06-10T19:49:04.564132Z",
     "iopub.status.idle": "2024-06-10T19:49:04.569681Z",
     "shell.execute_reply": "2024-06-10T19:49:04.568744Z"
    },
    "id": "8eKFjiC3i8Yx",
    "papermill": {
     "duration": 0.037183,
     "end_time": "2024-06-10T19:49:04.571631",
     "exception": false,
     "start_time": "2024-06-10T19:49:04.534448",
     "status": "completed"
    },
    "tags": []
   },
   "outputs": [],
   "source": [
    "def get_features(data):\n",
    "  features = []\n",
    "  evidences = []\n",
    "\n",
    "  for index, fact in enumerate(data):\n",
    "    claim = fact[\"claim\"]\n",
    "\n",
    "\n",
    "    feature = \"[Claim]:\"+claim+\"[Evidences]:\"+\".\".join(fact[\"retrieved_evidence\"])\n",
    "    features.append(feature)\n",
    "  return features\n",
    "\n",
    "\n"
   ]
  },
  {
   "cell_type": "code",
   "execution_count": 9,
   "id": "3dcfe598",
   "metadata": {
    "execution": {
     "iopub.execute_input": "2024-06-10T19:49:04.630711Z",
     "iopub.status.busy": "2024-06-10T19:49:04.630249Z",
     "iopub.status.idle": "2024-06-10T19:49:04.662204Z",
     "shell.execute_reply": "2024-06-10T19:49:04.661393Z"
    },
    "id": "qY7Gux6Yn5rI",
    "papermill": {
     "duration": 0.064434,
     "end_time": "2024-06-10T19:49:04.664541",
     "exception": false,
     "start_time": "2024-06-10T19:49:04.600107",
     "status": "completed"
    },
    "tags": []
   },
   "outputs": [],
   "source": [
    "train_features = get_features(train_data)"
   ]
  },
  {
   "cell_type": "code",
   "execution_count": 10,
   "id": "00446fe4",
   "metadata": {
    "execution": {
     "iopub.execute_input": "2024-06-10T19:49:04.726991Z",
     "iopub.status.busy": "2024-06-10T19:49:04.726654Z",
     "iopub.status.idle": "2024-06-10T19:49:04.732422Z",
     "shell.execute_reply": "2024-06-10T19:49:04.731540Z"
    },
    "id": "VJ5AoF54oV2t",
    "outputId": "14f9f18c-766f-458e-80fc-fcab9760867d",
    "papermill": {
     "duration": 0.038171,
     "end_time": "2024-06-10T19:49:04.734727",
     "exception": false,
     "start_time": "2024-06-10T19:49:04.696556",
     "status": "completed"
    },
    "tags": []
   },
   "outputs": [
    {
     "data": {
      "text/plain": [
       "9935"
      ]
     },
     "execution_count": 10,
     "metadata": {},
     "output_type": "execute_result"
    }
   ],
   "source": [
    "len(train_features)"
   ]
  },
  {
   "cell_type": "code",
   "execution_count": 11,
   "id": "443be36e",
   "metadata": {
    "execution": {
     "iopub.execute_input": "2024-06-10T19:49:04.801101Z",
     "iopub.status.busy": "2024-06-10T19:49:04.800823Z",
     "iopub.status.idle": "2024-06-10T19:49:04.806390Z",
     "shell.execute_reply": "2024-06-10T19:49:04.805501Z"
    },
    "id": "FHml9DUHn_bh",
    "outputId": "90be9354-ed97-4bb1-8732-99ade572dd4e",
    "papermill": {
     "duration": 0.037625,
     "end_time": "2024-06-10T19:49:04.808450",
     "exception": false,
     "start_time": "2024-06-10T19:49:04.770825",
     "status": "completed"
    },
    "tags": []
   },
   "outputs": [
    {
     "data": {
      "text/plain": [
       "\"[Claim]:In her budget speech, Nirmala Sitharaman claimed that the Government distributed 35,000 crore LED bulbs in the country.[Evidences]:5 gen 2022  the power ministry has distributed 36.78 crore led lights under the ujala programme in seven years, which saved 47778 million units of ....5 gen 2023  state-owned energy efficiency services ltd (eesl) on thursday said it has distributed over 36.8 crore led bulbs under the government's unnat ....5 gen 2022  ujala completes 7 years of energy-efficient and affordable led distribution. 36.78 crore leds distributed across the country under ujala ujala ....5 gen 2022  with ujala, the cost of led bulbs has come down by 85 per cent. this ... for distribution of led bulbs under the ujala programme, it stated..nov 22, 2013  from incandescent bulbs to fluorescents to leds, we're exploring the long history of the light bulb.\""
      ]
     },
     "execution_count": 11,
     "metadata": {},
     "output_type": "execute_result"
    }
   ],
   "source": [
    "train_features[0]"
   ]
  },
  {
   "cell_type": "code",
   "execution_count": 12,
   "id": "26eabe9f",
   "metadata": {
    "execution": {
     "iopub.execute_input": "2024-06-10T19:49:04.866539Z",
     "iopub.status.busy": "2024-06-10T19:49:04.866235Z",
     "iopub.status.idle": "2024-06-10T19:49:04.877268Z",
     "shell.execute_reply": "2024-06-10T19:49:04.876504Z"
    },
    "id": "SeHEwL3doMD6",
    "papermill": {
     "duration": 0.042172,
     "end_time": "2024-06-10T19:49:04.879068",
     "exception": false,
     "start_time": "2024-06-10T19:49:04.836896",
     "status": "completed"
    },
    "tags": []
   },
   "outputs": [],
   "source": [
    "val_features = get_features(val_data)"
   ]
  },
  {
   "cell_type": "code",
   "execution_count": 13,
   "id": "e5740eab",
   "metadata": {
    "execution": {
     "iopub.execute_input": "2024-06-10T19:49:04.938082Z",
     "iopub.status.busy": "2024-06-10T19:49:04.937812Z",
     "iopub.status.idle": "2024-06-10T19:49:04.943239Z",
     "shell.execute_reply": "2024-06-10T19:49:04.942429Z"
    },
    "id": "DQ-ipHaHoiY-",
    "outputId": "90b3f16a-113f-430c-c913-a00750dc8ef7",
    "papermill": {
     "duration": 0.036947,
     "end_time": "2024-06-10T19:49:04.945284",
     "exception": false,
     "start_time": "2024-06-10T19:49:04.908337",
     "status": "completed"
    },
    "tags": []
   },
   "outputs": [
    {
     "data": {
      "text/plain": [
       "3084"
      ]
     },
     "execution_count": 13,
     "metadata": {},
     "output_type": "execute_result"
    }
   ],
   "source": [
    "len(val_features)"
   ]
  },
  {
   "cell_type": "code",
   "execution_count": 14,
   "id": "8e3c1668",
   "metadata": {
    "execution": {
     "iopub.execute_input": "2024-06-10T19:49:05.008320Z",
     "iopub.status.busy": "2024-06-10T19:49:05.007446Z",
     "iopub.status.idle": "2024-06-10T19:49:05.013402Z",
     "shell.execute_reply": "2024-06-10T19:49:05.012516Z"
    },
    "id": "Iyh75sm2ok_6",
    "outputId": "fdca02ac-410d-4380-a18e-c69f13ecbcdd",
    "papermill": {
     "duration": 0.03965,
     "end_time": "2024-06-10T19:49:05.015516",
     "exception": false,
     "start_time": "2024-06-10T19:49:04.975866",
     "status": "completed"
    },
    "tags": []
   },
   "outputs": [
    {
     "data": {
      "text/plain": [
       "'[Claim]:Says Dino Rossi \"stripped\" health care \"from 45,000 children.\"[Evidences]:... seniors can be charged five times what anybody else is charged for health care for pre-existing conditions\" under the republican health care bill. the ....state and local nondiscrimination laws prohibit health care discrimination against transgender people in many circumstances. ... health care to non-binary people ....spent on these beneficiaries, on average, according to medpac. this overall health care spending trends: higher health care price and cost.south carolina and across the country is health care costs themselves. single-payer health care system. kucinich: i actually introduced the.services provided at the primary health care level, are in fact, a shifting ... ayushman bharat: comprehensive primary health care through health and wellness ...96 pages'"
      ]
     },
     "execution_count": 14,
     "metadata": {},
     "output_type": "execute_result"
    }
   ],
   "source": [
    "val_features[2]"
   ]
  },
  {
   "cell_type": "code",
   "execution_count": 15,
   "id": "fbcb06dd",
   "metadata": {
    "execution": {
     "iopub.execute_input": "2024-06-10T19:49:05.077297Z",
     "iopub.status.busy": "2024-06-10T19:49:05.076455Z",
     "iopub.status.idle": "2024-06-10T19:49:05.082608Z",
     "shell.execute_reply": "2024-06-10T19:49:05.081720Z"
    },
    "id": "98BSyfIZontr",
    "papermill": {
     "duration": 0.03876,
     "end_time": "2024-06-10T19:49:05.084619",
     "exception": false,
     "start_time": "2024-06-10T19:49:05.045859",
     "status": "completed"
    },
    "tags": []
   },
   "outputs": [],
   "source": [
    "train_labels = [fact[\"label\"] for fact in train_data]\n",
    "val_labels = [fact[\"label\"] for fact in val_data]\n"
   ]
  },
  {
   "cell_type": "code",
   "execution_count": 16,
   "id": "aadd76b7",
   "metadata": {
    "execution": {
     "iopub.execute_input": "2024-06-10T19:49:05.144872Z",
     "iopub.status.busy": "2024-06-10T19:49:05.144565Z",
     "iopub.status.idle": "2024-06-10T19:49:05.156990Z",
     "shell.execute_reply": "2024-06-10T19:49:05.156058Z"
    },
    "id": "XJYf-sJ4pHCd",
    "outputId": "3d2253f8-668c-4e96-cbbc-5d9bf65eea3d",
    "papermill": {
     "duration": 0.044746,
     "end_time": "2024-06-10T19:49:05.159082",
     "exception": false,
     "start_time": "2024-06-10T19:49:05.114336",
     "status": "completed"
    },
    "tags": []
   },
   "outputs": [
    {
     "data": {
      "text/plain": [
       "array([1, 1, 1, ..., 0, 0, 1])"
      ]
     },
     "execution_count": 16,
     "metadata": {},
     "output_type": "execute_result"
    }
   ],
   "source": [
    "train_labels_final = LE.fit_transform(train_labels)\n",
    "train_labels_final"
   ]
  },
  {
   "cell_type": "code",
   "execution_count": 17,
   "id": "a781e3b6",
   "metadata": {
    "execution": {
     "iopub.execute_input": "2024-06-10T19:49:05.219952Z",
     "iopub.status.busy": "2024-06-10T19:49:05.219404Z",
     "iopub.status.idle": "2024-06-10T19:49:05.225206Z",
     "shell.execute_reply": "2024-06-10T19:49:05.224358Z"
    },
    "id": "-cjPop6cpdiA",
    "outputId": "78119f8a-6c25-44ff-eec7-c5bee7818f05",
    "papermill": {
     "duration": 0.038084,
     "end_time": "2024-06-10T19:49:05.227121",
     "exception": false,
     "start_time": "2024-06-10T19:49:05.189037",
     "status": "completed"
    },
    "tags": []
   },
   "outputs": [
    {
     "data": {
      "text/plain": [
       "array([1, 1, 1, 1, 1, 0, 1, 2, 1, 1, 1, 1, 1, 0, 1, 2, 2, 1, 1, 0])"
      ]
     },
     "execution_count": 17,
     "metadata": {},
     "output_type": "execute_result"
    }
   ],
   "source": [
    "train_labels_final[:20]"
   ]
  },
  {
   "cell_type": "code",
   "execution_count": 18,
   "id": "71171226",
   "metadata": {
    "execution": {
     "iopub.execute_input": "2024-06-10T19:49:05.329348Z",
     "iopub.status.busy": "2024-06-10T19:49:05.328997Z",
     "iopub.status.idle": "2024-06-10T19:49:05.338384Z",
     "shell.execute_reply": "2024-06-10T19:49:05.337507Z"
    },
    "id": "9dO586pApTPH",
    "outputId": "ba546759-5897-46be-95f3-e61e3645287f",
    "papermill": {
     "duration": 0.041746,
     "end_time": "2024-06-10T19:49:05.340304",
     "exception": false,
     "start_time": "2024-06-10T19:49:05.298558",
     "status": "completed"
    },
    "tags": []
   },
   "outputs": [
    {
     "data": {
      "text/plain": [
       "array([1, 1, 2, ..., 1, 0, 2])"
      ]
     },
     "execution_count": 18,
     "metadata": {},
     "output_type": "execute_result"
    }
   ],
   "source": [
    "val_labels_final = LE.transform(val_labels)\n",
    "val_labels_final"
   ]
  },
  {
   "cell_type": "code",
   "execution_count": 19,
   "id": "7acc5f0d",
   "metadata": {
    "execution": {
     "iopub.execute_input": "2024-06-10T19:49:05.404213Z",
     "iopub.status.busy": "2024-06-10T19:49:05.403357Z",
     "iopub.status.idle": "2024-06-10T19:49:05.409869Z",
     "shell.execute_reply": "2024-06-10T19:49:05.408980Z"
    },
    "id": "sDzDVC1lnmwD",
    "outputId": "add42126-81b8-479f-bf94-8e82e6a261ed",
    "papermill": {
     "duration": 0.04029,
     "end_time": "2024-06-10T19:49:05.411804",
     "exception": false,
     "start_time": "2024-06-10T19:49:05.371514",
     "status": "completed"
    },
    "tags": []
   },
   "outputs": [
    {
     "data": {
      "text/plain": [
       "{'claim': 'The Biden administration \"published a study concluding 4 (of) 5 new cars on the road by 2050 will still require liquid fuels.\"',\n",
       " 'label': 'True',\n",
       " 'doc': \"5 ott 2020  on my second visit to the site of the former huanan seafood wholesale market, at the intersection of new china road and development road, ...5 avr. 2012  africa's urban population will increase from 414 million to over 1.2 billion by 2050 ... india and china. also, the 2011 revision, for the first ...5 apr 2023  the state, heavily dependent on the auto industry, is a case study in whether electric vehicles will create or destroy jobs.5 apr 2021  a new space jam movie is coming, but the original still remains a classic. the promotional site for space jam still exists, and has remained ...5 set 2023  new jersey will raise its gasoline tax by about a penny per gallon next month, gov. phil murphy's administration said friday.\",\n",
       " 'retrieved_evidence': ['5 ott 2020  on my second visit to the site of the former huanan seafood wholesale market, at the intersection of new china road and development road, ...',\n",
       "  \"5 avr. 2012  africa's urban population will increase from 414 million to over 1.2 billion by 2050 ... india and china. also, the 2011 revision, for the first ...\",\n",
       "  '5 apr 2023  the state, heavily dependent on the auto industry, is a case study in whether electric vehicles will create or destroy jobs.',\n",
       "  '5 apr 2021  a new space jam movie is coming, but the original still remains a classic. the promotional site for space jam still exists, and has remained ...',\n",
       "  \"5 set 2023  new jersey will raise its gasoline tax by about a penny per gallon next month, gov. phil murphy's administration said friday.\"]}"
      ]
     },
     "execution_count": 19,
     "metadata": {},
     "output_type": "execute_result"
    }
   ],
   "source": [
    "val_data[-1]"
   ]
  },
  {
   "cell_type": "code",
   "execution_count": 20,
   "id": "71729044",
   "metadata": {
    "execution": {
     "iopub.execute_input": "2024-06-10T19:49:05.472923Z",
     "iopub.status.busy": "2024-06-10T19:49:05.472625Z",
     "iopub.status.idle": "2024-06-10T19:49:05.478300Z",
     "shell.execute_reply": "2024-06-10T19:49:05.477334Z"
    },
    "id": "FardkyUtyT2B",
    "outputId": "16afac45-15ea-4959-9e5e-f439fb1f5347",
    "papermill": {
     "duration": 0.038916,
     "end_time": "2024-06-10T19:49:05.480296",
     "exception": false,
     "start_time": "2024-06-10T19:49:05.441380",
     "status": "completed"
    },
    "tags": []
   },
   "outputs": [
    {
     "data": {
      "text/plain": [
       "3084"
      ]
     },
     "execution_count": 20,
     "metadata": {},
     "output_type": "execute_result"
    }
   ],
   "source": [
    "len(val_labels_final)"
   ]
  },
  {
   "cell_type": "code",
   "execution_count": 21,
   "id": "d4200197",
   "metadata": {
    "execution": {
     "iopub.execute_input": "2024-06-10T19:49:05.541795Z",
     "iopub.status.busy": "2024-06-10T19:49:05.541497Z",
     "iopub.status.idle": "2024-06-10T19:49:17.812091Z",
     "shell.execute_reply": "2024-06-10T19:49:17.811098Z"
    },
    "id": "M9xEVEmzpcSS",
    "outputId": "b55649a1-d8ed-425b-8a6f-86dfd39b506c",
    "papermill": {
     "duration": 12.303578,
     "end_time": "2024-06-10T19:49:17.814356",
     "exception": false,
     "start_time": "2024-06-10T19:49:05.510778",
     "status": "completed"
    },
    "tags": []
   },
   "outputs": [
    {
     "name": "stderr",
     "output_type": "stream",
     "text": [
      "/opt/conda/lib/python3.10/site-packages/transformers/tokenization_utils_base.py:2699: FutureWarning: The `pad_to_max_length` argument is deprecated and will be removed in a future version, use `padding=True` or `padding='longest'` to pad to the longest sequence in the batch, or use `padding='max_length'` to pad to a max length. In this case, you can give a specific length with `max_length` (e.g. `max_length=45`) or leave max_length to None to pad to the maximal input size of the model (e.g. 512 for Bert).\n",
      "  warnings.warn(\n"
     ]
    },
    {
     "name": "stdout",
     "output_type": "stream",
     "text": [
      "Original:  [Claim]:In her budget speech, Nirmala Sitharaman claimed that the Government distributed 35,000 crore LED bulbs in the country.[Evidences]:5 gen 2022  the power ministry has distributed 36.78 crore led lights under the ujala programme in seven years, which saved 47778 million units of ....5 gen 2023  state-owned energy efficiency services ltd (eesl) on thursday said it has distributed over 36.8 crore led bulbs under the government's unnat ....5 gen 2022  ujala completes 7 years of energy-efficient and affordable led distribution. 36.78 crore leds distributed across the country under ujala ujala ....5 gen 2022  with ujala, the cost of led bulbs has come down by 85 per cent. this ... for distribution of led bulbs under the ujala programme, it stated..nov 22, 2013  from incandescent bulbs to fluorescents to leds, we're exploring the long history of the light bulb.\n",
      "Token IDs: tensor([  784,   254,   521,   603,   908,    10,  1570,   160,  1487,  5023,\n",
      "            6,  2504,    52,  1982,     9,   925,    17, 14888,   348,  7760,\n",
      "           24,     8,  3141,  8308,   220,  5898, 23095,  4429, 18851,    16,\n",
      "            8,   684,     5,  6306,   427,  6961,  1433,     7,   908,    10,\n",
      "          755,     3,   729,   460,  2884,     8,   579,  8409,    65,  8308,\n",
      "         4475,     5,  3940, 23095,  2237,  4113,   365,     8,     3,    76,\n",
      "         1191,   521,  2486,    16,  2391,   203,     6,    84,  6024,   314,\n",
      "         4013,  3940,   770,  3173,    13,     3,  2824,   755,     3,   729,\n",
      "          460,  2773,   538,    18,  9160,   827,  3949,   364,     3,    40,\n",
      "           17,    26,    41,    15,    15,     7,    40,    61,    30,     3,\n",
      "          189,  3589,  1135,   243,    34,    65,  8308,   147,  4475,     5,\n",
      "          927, 23095,  2237, 18851,   365,     8,   789,    31,     7,    73,\n",
      "           29,   144,     3,  2824,   755,     3,   729,   460,  2884,     3,\n",
      "           76,  1191,   521,   743,     7,   489,   203,    13,   827,    18,\n",
      "        16995,    11,  2950,  2237,  3438,     5,  4475,     5,  3940, 23095,\n",
      "         2237,     7,  8308,   640,     8,   684,   365,     3,    76,  1191,\n",
      "          521,     3,    76,  1191,   521,     3,  2824,   755,     3,   729,\n",
      "          460,  2884,    28,     3,    76,  1191,   521,     6,     8,   583,\n",
      "           13,  2237, 18851,    65,   369,   323,    57, 11989,   399,  3151,\n",
      "            5,    48,     3,   233,    21,  3438,    13,  2237, 18851,   365,\n",
      "            8,     3,    76,  1191,   521,  2486,     6,    34,  4568,     5,\n",
      "            5,  5326, 12889,  2038,    45,    16,    75,   232, 11719, 18851,\n",
      "           12, 27468,     7,    12,  2237,     7,     6,    62,    31,    60,\n",
      "         6990,     8,   307,   892,    13,     8,   659, 16905,     5,     1,\n",
      "            0,     0,     0,     0,     0,     0,     0,     0,     0,     0,\n",
      "            0,     0,     0,     0,     0,     0])\n"
     ]
    }
   ],
   "source": [
    "input_ids = []\n",
    "attention_masks = []\n",
    "\n",
    "for sent in train_features:\n",
    "    # `encode_plus` will:\n",
    "    #   (1) Tokenize the sentence.\n",
    "    #   (2) Prepend the `[CLS]` token to the start.\n",
    "    #   (3) Append the `[SEP]` token to the end.\n",
    "    #   (4) Map tokens to their IDs.\n",
    "    #   (5) Pad or truncate the sentence to `max_length`\n",
    "    #   (6) Create attention masks for [PAD] tokens.\n",
    "    encoded_dict = tokenizer.encode_plus(\n",
    "                        sent,                      # Sentence to encode.\n",
    "                        add_special_tokens = True, # Add '[CLS]' and '[SEP]'\n",
    "                        max_length = 256,           # Pad & truncate all sentences.\n",
    "                        pad_to_max_length = True,\n",
    "                        truncation=True,\n",
    "                        return_attention_mask = True,   # Construct attn. masks.\n",
    "                        return_tensors = 'pt',     # Return pytorch tensors.\n",
    "                   )\n",
    "\n",
    "    # Add the encoded sentence to the list.\n",
    "    input_ids.append(encoded_dict['input_ids'])\n",
    "\n",
    "    # And its attention mask (simply differentiates padding from non-padding).\n",
    "    attention_masks.append(encoded_dict['attention_mask'])\n",
    "# Convert the lists into tensors.\n",
    "input_ids = torch.cat(input_ids, dim=0)\n",
    "attention_masks = torch.cat(attention_masks, dim=0)\n",
    "\n",
    "\n",
    "# Print sentence 0, now as a list of IDs.\n",
    "print('Original: ', train_features[0])\n",
    "print('Token IDs:', input_ids[0])"
   ]
  },
  {
   "cell_type": "code",
   "execution_count": 22,
   "id": "e5c967b9",
   "metadata": {
    "execution": {
     "iopub.execute_input": "2024-06-10T19:49:17.879436Z",
     "iopub.status.busy": "2024-06-10T19:49:17.878733Z",
     "iopub.status.idle": "2024-06-10T19:49:21.865548Z",
     "shell.execute_reply": "2024-06-10T19:49:21.864589Z"
    },
    "id": "qZavNUqipvVV",
    "outputId": "6b8e05f9-15b9-4e2e-a406-d73025b7ebc2",
    "papermill": {
     "duration": 4.023134,
     "end_time": "2024-06-10T19:49:21.867919",
     "exception": false,
     "start_time": "2024-06-10T19:49:17.844785",
     "status": "completed"
    },
    "tags": []
   },
   "outputs": [
    {
     "name": "stdout",
     "output_type": "stream",
     "text": [
      "Original:  [Claim]:Amit Shah said Narendra Modi sleeps for 24 hours for the welfare of the poor.[Evidences]:mar 23, 2022  he sleeps for 3.5 to 4 hours every day. he sleeps late at around 12 o clock and gets up early around 4 o clock. yet, he is so fresh and energetic throughout the ....mar 20, 2020  the study found that the virus is viable for up to 72 hours on plastics, 48 hours on stainless steel, 24 hours on cardboard, and 4 hours on ....march 12, 2013: the obama administration issued a statement of administration policy on h.r. 890, noting that ultimately, no states formally applied for state waivers of welfare work requirements. friday, july 12, 2013 marks one year since the obama administration first declared that it had the authority to waive the work requirements for welfare recipients. work requirements were created in the 1996 welfare reform law, and they have been key to the success of welfare reform in increasing work and earnings and reducing poverty and welfare dependence. no prior administration has ever claimed to have authority to waive these requirements, and for one simple reason  because it doesnt exist in law..many states had waivers of the rules for the cash welfare program for states to account for certain administrative costs that previously had.in august president kenyatta died, passing responsibility for the welfare of the average citizen to daniel arap moi. karanja was urged to ease the shortage by ...\n",
      "Token IDs: tensor([1, 1, 1, 1, 1, 1, 1, 1, 1, 1, 1, 1, 1, 1, 1, 1, 1, 1, 1, 1, 1, 1, 1, 1,\n",
      "        1, 1, 1, 1, 1, 1, 1, 1, 1, 1, 1, 1, 1, 1, 1, 1, 1, 1, 1, 1, 1, 1, 1, 1,\n",
      "        1, 1, 1, 1, 1, 1, 1, 1, 1, 1, 1, 1, 1, 1, 1, 1, 1, 1, 1, 1, 1, 1, 1, 1,\n",
      "        1, 1, 1, 1, 1, 1, 1, 1, 1, 1, 1, 1, 1, 1, 1, 1, 1, 1, 1, 1, 1, 1, 1, 1,\n",
      "        1, 1, 1, 1, 1, 1, 1, 1, 1, 1, 1, 1, 1, 1, 1, 1, 1, 1, 1, 1, 1, 1, 1, 1,\n",
      "        1, 1, 1, 1, 1, 1, 1, 1, 1, 1, 1, 1, 1, 1, 1, 1, 1, 1, 1, 1, 1, 1, 1, 1,\n",
      "        1, 1, 1, 1, 1, 1, 1, 1, 1, 1, 1, 1, 1, 1, 1, 1, 1, 1, 1, 1, 1, 1, 1, 1,\n",
      "        1, 1, 1, 1, 1, 1, 1, 1, 1, 1, 1, 1, 1, 1, 1, 1, 1, 1, 1, 1, 1, 1, 1, 1,\n",
      "        1, 1, 1, 1, 1, 1, 1, 1, 1, 1, 1, 1, 1, 1, 1, 1, 1, 1, 1, 1, 1, 1, 1, 1,\n",
      "        1, 1, 1, 1, 1, 1, 1, 1, 1, 1, 1, 1, 1, 1, 1, 1, 1, 1, 1, 1, 1, 1, 1, 1,\n",
      "        1, 1, 1, 1, 1, 1, 1, 1, 1, 1, 1, 1, 1, 1, 1, 1])\n"
     ]
    }
   ],
   "source": [
    "val_input_ids = []\n",
    "val_attention_masks = []\n",
    "\n",
    "for sent in val_features:\n",
    "    # `encode_plus` will:\n",
    "    #   (1) Tokenize the sentence.\n",
    "    #   (2) Prepend the `[CLS]` token to the start.\n",
    "    #   (3) Append the `[SEP]` token to the end.\n",
    "    #   (4) Map tokens to their IDs.\n",
    "    #   (5) Pad or truncate the sentence to `max_length`\n",
    "    #   (6) Create attention masks for [PAD] tokens.\n",
    "    encoded_dict = tokenizer.encode_plus(\n",
    "                        sent,                      # Sentence to encode.\n",
    "                        add_special_tokens = True, # Add '[CLS]' and '[SEP]'\n",
    "                        max_length = 256,           # Pad & truncate all sentences.\n",
    "                        pad_to_max_length = True,\n",
    "                        truncation=True,\n",
    "                        return_attention_mask = True,   # Construct attn. masks.\n",
    "                        return_tensors = 'pt',     # Return pytorch tensors.\n",
    "                   )\n",
    "\n",
    "    # Add the encoded sentence to the list.\n",
    "    val_input_ids.append(encoded_dict['input_ids'])\n",
    "\n",
    "    # And its attention mask (simply differentiates padding from non-padding).\n",
    "    val_attention_masks.append(encoded_dict['attention_mask'])\n",
    "# Convert the lists into tensors.\n",
    "val_input_ids = torch.cat(val_input_ids, dim=0)\n",
    "val_attention_masks = torch.cat(val_attention_masks, dim=0)\n",
    "\n",
    "\n",
    "# Print sentence 0, now as a list of IDs.\n",
    "print('Original: ', val_features[0])\n",
    "print('Token IDs:', val_attention_masks[0])"
   ]
  },
  {
   "cell_type": "code",
   "execution_count": 23,
   "id": "2ebb4e77",
   "metadata": {
    "execution": {
     "iopub.execute_input": "2024-06-10T19:49:21.929480Z",
     "iopub.status.busy": "2024-06-10T19:49:21.929139Z",
     "iopub.status.idle": "2024-06-10T19:49:21.936673Z",
     "shell.execute_reply": "2024-06-10T19:49:21.935927Z"
    },
    "id": "evSioYADp_y4",
    "papermill": {
     "duration": 0.040064,
     "end_time": "2024-06-10T19:49:21.938587",
     "exception": false,
     "start_time": "2024-06-10T19:49:21.898523",
     "status": "completed"
    },
    "tags": []
   },
   "outputs": [],
   "source": [
    "train_labels_final = torch.tensor(train_labels_final)\n",
    "val_labels_final = torch.tensor(val_labels_final)"
   ]
  },
  {
   "cell_type": "code",
   "execution_count": null,
   "id": "0869d988",
   "metadata": {
    "id": "7Nk-HGh0yWwf",
    "papermill": {
     "duration": 0.029595,
     "end_time": "2024-06-10T19:49:21.997759",
     "exception": false,
     "start_time": "2024-06-10T19:49:21.968164",
     "status": "completed"
    },
    "tags": []
   },
   "outputs": [],
   "source": []
  },
  {
   "cell_type": "code",
   "execution_count": 24,
   "id": "95e0b019",
   "metadata": {
    "execution": {
     "iopub.execute_input": "2024-06-10T19:49:22.059115Z",
     "iopub.status.busy": "2024-06-10T19:49:22.058803Z",
     "iopub.status.idle": "2024-06-10T19:49:22.064787Z",
     "shell.execute_reply": "2024-06-10T19:49:22.063877Z"
    },
    "id": "GC7Tt92syW5Z",
    "outputId": "6b969187-8d7e-4806-cd2d-56e51e9fe2be",
    "papermill": {
     "duration": 0.03855,
     "end_time": "2024-06-10T19:49:22.066774",
     "exception": false,
     "start_time": "2024-06-10T19:49:22.028224",
     "status": "completed"
    },
    "tags": []
   },
   "outputs": [
    {
     "data": {
      "text/plain": [
       "torch.Size([3084])"
      ]
     },
     "execution_count": 24,
     "metadata": {},
     "output_type": "execute_result"
    }
   ],
   "source": [
    "val_labels_final.shape"
   ]
  },
  {
   "cell_type": "code",
   "execution_count": 25,
   "id": "c312b4d8",
   "metadata": {
    "execution": {
     "iopub.execute_input": "2024-06-10T19:49:22.128821Z",
     "iopub.status.busy": "2024-06-10T19:49:22.128503Z",
     "iopub.status.idle": "2024-06-10T19:49:22.133996Z",
     "shell.execute_reply": "2024-06-10T19:49:22.133160Z"
    },
    "id": "SLCxP_iqzspd",
    "outputId": "11f76ebe-8b98-44ee-f603-9344c4e04107",
    "papermill": {
     "duration": 0.038261,
     "end_time": "2024-06-10T19:49:22.135820",
     "exception": false,
     "start_time": "2024-06-10T19:49:22.097559",
     "status": "completed"
    },
    "tags": []
   },
   "outputs": [
    {
     "data": {
      "text/plain": [
       "3084"
      ]
     },
     "execution_count": 25,
     "metadata": {},
     "output_type": "execute_result"
    }
   ],
   "source": [
    "len(val_input_ids)"
   ]
  },
  {
   "cell_type": "code",
   "execution_count": 26,
   "id": "f945c313",
   "metadata": {
    "execution": {
     "iopub.execute_input": "2024-06-10T19:49:22.197533Z",
     "iopub.status.busy": "2024-06-10T19:49:22.197180Z",
     "iopub.status.idle": "2024-06-10T19:49:22.204229Z",
     "shell.execute_reply": "2024-06-10T19:49:22.203369Z"
    },
    "id": "HIo3GxyUrMml",
    "outputId": "d87f91f2-ec0e-4408-b44f-1a9d5aa40ed3",
    "papermill": {
     "duration": 0.040383,
     "end_time": "2024-06-10T19:49:22.206160",
     "exception": false,
     "start_time": "2024-06-10T19:49:22.165777",
     "status": "completed"
    },
    "tags": []
   },
   "outputs": [
    {
     "data": {
      "text/plain": [
       "['True', 'False', 'Conflicting']"
      ]
     },
     "execution_count": 26,
     "metadata": {},
     "output_type": "execute_result"
    }
   ],
   "source": [
    "num_classes = len(list(set(train_labels)))\n",
    "list(set(train_labels))"
   ]
  },
  {
   "cell_type": "code",
   "execution_count": 27,
   "id": "519cb45b",
   "metadata": {
    "execution": {
     "iopub.execute_input": "2024-06-10T19:49:22.269249Z",
     "iopub.status.busy": "2024-06-10T19:49:22.268941Z",
     "iopub.status.idle": "2024-06-10T19:49:22.274266Z",
     "shell.execute_reply": "2024-06-10T19:49:22.273482Z"
    },
    "id": "Wg90AQJcrZFD",
    "outputId": "6a755727-4055-4303-f742-75497e0e52f2",
    "papermill": {
     "duration": 0.038822,
     "end_time": "2024-06-10T19:49:22.276126",
     "exception": false,
     "start_time": "2024-06-10T19:49:22.237304",
     "status": "completed"
    },
    "tags": []
   },
   "outputs": [
    {
     "data": {
      "text/plain": [
       "3"
      ]
     },
     "execution_count": 27,
     "metadata": {},
     "output_type": "execute_result"
    }
   ],
   "source": [
    "num_classes"
   ]
  },
  {
   "cell_type": "code",
   "execution_count": 28,
   "id": "65193028",
   "metadata": {
    "execution": {
     "iopub.execute_input": "2024-06-10T19:49:22.337924Z",
     "iopub.status.busy": "2024-06-10T19:49:22.337630Z",
     "iopub.status.idle": "2024-06-10T19:49:22.342426Z",
     "shell.execute_reply": "2024-06-10T19:49:22.341605Z"
    },
    "id": "KOK3P-9Gra78",
    "papermill": {
     "duration": 0.038083,
     "end_time": "2024-06-10T19:49:22.344414",
     "exception": false,
     "start_time": "2024-06-10T19:49:22.306331",
     "status": "completed"
    },
    "tags": []
   },
   "outputs": [],
   "source": [
    "from torch.utils.data import TensorDataset, random_split\n",
    "# train_poincare_tensor = torch.tensor(poincare_embeddings_final,dtype=torch.float)\n",
    "# difficulty_tensor = torch.tensor(difficulty_level_vectors,dtype=torch.float)\n",
    "# Combine the training inputs into a TensorDataset.\n",
    "dataset = TensorDataset(input_ids, attention_masks, train_labels_final)\n",
    "val_dataset = TensorDataset(val_input_ids, val_attention_masks,val_labels_final)\n",
    "#"
   ]
  },
  {
   "cell_type": "code",
   "execution_count": 29,
   "id": "cfb427e7",
   "metadata": {
    "execution": {
     "iopub.execute_input": "2024-06-10T19:49:22.406236Z",
     "iopub.status.busy": "2024-06-10T19:49:22.405723Z",
     "iopub.status.idle": "2024-06-10T19:49:22.411219Z",
     "shell.execute_reply": "2024-06-10T19:49:22.410369Z"
    },
    "id": "c6ALqnRkrjBN",
    "papermill": {
     "duration": 0.038502,
     "end_time": "2024-06-10T19:49:22.413053",
     "exception": false,
     "start_time": "2024-06-10T19:49:22.374551",
     "status": "completed"
    },
    "tags": []
   },
   "outputs": [],
   "source": [
    "from torch.utils.data import DataLoader, RandomSampler, SequentialSampler\n",
    "batch_size = 16\n",
    "train_dataloader = DataLoader(\n",
    "            dataset,  # The training samples.\n",
    "            sampler = RandomSampler(dataset), # Select batches randomly\n",
    "            batch_size = batch_size # Trains with this batch size.\n",
    "        )\n",
    "\n",
    "validation_dataloader = DataLoader(\n",
    "            val_dataset, # The validation samples.\n",
    "            sampler = SequentialSampler(val_dataset),\n",
    "            batch_size = batch_size\n",
    "        )"
   ]
  },
  {
   "cell_type": "code",
   "execution_count": 30,
   "id": "6fe0484e",
   "metadata": {
    "execution": {
     "iopub.execute_input": "2024-06-10T19:49:22.474912Z",
     "iopub.status.busy": "2024-06-10T19:49:22.474199Z",
     "iopub.status.idle": "2024-06-10T19:49:23.647636Z",
     "shell.execute_reply": "2024-06-10T19:49:23.646632Z"
    },
    "id": "cKSZPwobrl8y",
    "papermill": {
     "duration": 1.20691,
     "end_time": "2024-06-10T19:49:23.650007",
     "exception": false,
     "start_time": "2024-06-10T19:49:22.443097",
     "status": "completed"
    },
    "tags": []
   },
   "outputs": [],
   "source": [
    "from torch import nn\n",
    "from transformers import T5EncoderModel\n",
    "class MultiClassClassifier(nn.Module):\n",
    "    def __init__(self, t5_model_path, labels_count, hidden_dim=768, mlp_dim=500, extras_dim=100, dropout=0.1, freeze_t5=False):\n",
    "        super().__init__()\n",
    "\n",
    "        self.t5_encoder = T5EncoderModel.from_pretrained(t5_model_path)\n",
    "        self.dropout = nn.Dropout(dropout)\n",
    "        self.mlp = nn.Sequential(\n",
    "            nn.Linear(hidden_dim, mlp_dim),\n",
    "            nn.ReLU(),\n",
    "            nn.Linear(mlp_dim, labels_count)\n",
    "        )\n",
    "        if freeze_t5:\n",
    "            print(\"Freezing T5 layers\")\n",
    "            for param in self.t5_encoder.parameters():\n",
    "                param.requires_grad = False\n",
    "\n",
    "# TODO:    There might be errors here\n",
    "    def forward(self, tokens, masks):\n",
    "        output = self.t5_encoder(input_ids=tokens, attention_mask=masks)\n",
    "        encoder_hidden_states = output.last_hidden_state\n",
    "        pooled_output = encoder_hidden_states[:, 0]  # Taking the representation of the [CLS] token\n",
    "        dropout_output = self.dropout(pooled_output)\n",
    "        mlp_output = self.mlp(dropout_output)\n",
    "\n",
    "        return mlp_output"
   ]
  },
  {
   "cell_type": "code",
   "execution_count": 31,
   "id": "fae09f8a",
   "metadata": {
    "execution": {
     "iopub.execute_input": "2024-06-10T19:49:23.715514Z",
     "iopub.status.busy": "2024-06-10T19:49:23.714725Z",
     "iopub.status.idle": "2024-06-10T19:49:27.711157Z",
     "shell.execute_reply": "2024-06-10T19:49:27.710045Z"
    },
    "id": "CAxysrcNsFl8",
    "outputId": "d5157441-9cfd-44e1-9056-5de06078e1ad",
    "papermill": {
     "duration": 4.031104,
     "end_time": "2024-06-10T19:49:27.713108",
     "exception": false,
     "start_time": "2024-06-10T19:49:23.682004",
     "status": "completed"
    },
    "tags": []
   },
   "outputs": [
    {
     "data": {
      "application/vnd.jupyter.widget-view+json": {
       "model_id": "cc58736b422e41bbb1246cc20f0aff1c",
       "version_major": 2,
       "version_minor": 0
      },
      "text/plain": [
       "config.json:   0%|          | 0.00/1.40k [00:00<?, ?B/s]"
      ]
     },
     "metadata": {},
     "output_type": "display_data"
    },
    {
     "data": {
      "application/vnd.jupyter.widget-view+json": {
       "model_id": "ce68c93ffe464898b308bb1e95a2f706",
       "version_major": 2,
       "version_minor": 0
      },
      "text/plain": [
       "model.safetensors:   0%|          | 0.00/990M [00:00<?, ?B/s]"
      ]
     },
     "metadata": {},
     "output_type": "display_data"
    },
    {
     "data": {
      "text/plain": [
       "MultiClassClassifier(\n",
       "  (t5_encoder): T5EncoderModel(\n",
       "    (shared): Embedding(32128, 768)\n",
       "    (encoder): T5Stack(\n",
       "      (embed_tokens): Embedding(32128, 768)\n",
       "      (block): ModuleList(\n",
       "        (0): T5Block(\n",
       "          (layer): ModuleList(\n",
       "            (0): T5LayerSelfAttention(\n",
       "              (SelfAttention): T5Attention(\n",
       "                (q): Linear(in_features=768, out_features=768, bias=False)\n",
       "                (k): Linear(in_features=768, out_features=768, bias=False)\n",
       "                (v): Linear(in_features=768, out_features=768, bias=False)\n",
       "                (o): Linear(in_features=768, out_features=768, bias=False)\n",
       "                (relative_attention_bias): Embedding(32, 12)\n",
       "              )\n",
       "              (layer_norm): T5LayerNorm()\n",
       "              (dropout): Dropout(p=0.1, inplace=False)\n",
       "            )\n",
       "            (1): T5LayerFF(\n",
       "              (DenseReluDense): T5DenseGatedActDense(\n",
       "                (wi_0): Linear(in_features=768, out_features=2048, bias=False)\n",
       "                (wi_1): Linear(in_features=768, out_features=2048, bias=False)\n",
       "                (wo): Linear(in_features=2048, out_features=768, bias=False)\n",
       "                (dropout): Dropout(p=0.1, inplace=False)\n",
       "                (act): NewGELUActivation()\n",
       "              )\n",
       "              (layer_norm): T5LayerNorm()\n",
       "              (dropout): Dropout(p=0.1, inplace=False)\n",
       "            )\n",
       "          )\n",
       "        )\n",
       "        (1-11): 11 x T5Block(\n",
       "          (layer): ModuleList(\n",
       "            (0): T5LayerSelfAttention(\n",
       "              (SelfAttention): T5Attention(\n",
       "                (q): Linear(in_features=768, out_features=768, bias=False)\n",
       "                (k): Linear(in_features=768, out_features=768, bias=False)\n",
       "                (v): Linear(in_features=768, out_features=768, bias=False)\n",
       "                (o): Linear(in_features=768, out_features=768, bias=False)\n",
       "              )\n",
       "              (layer_norm): T5LayerNorm()\n",
       "              (dropout): Dropout(p=0.1, inplace=False)\n",
       "            )\n",
       "            (1): T5LayerFF(\n",
       "              (DenseReluDense): T5DenseGatedActDense(\n",
       "                (wi_0): Linear(in_features=768, out_features=2048, bias=False)\n",
       "                (wi_1): Linear(in_features=768, out_features=2048, bias=False)\n",
       "                (wo): Linear(in_features=2048, out_features=768, bias=False)\n",
       "                (dropout): Dropout(p=0.1, inplace=False)\n",
       "                (act): NewGELUActivation()\n",
       "              )\n",
       "              (layer_norm): T5LayerNorm()\n",
       "              (dropout): Dropout(p=0.1, inplace=False)\n",
       "            )\n",
       "          )\n",
       "        )\n",
       "      )\n",
       "      (final_layer_norm): T5LayerNorm()\n",
       "      (dropout): Dropout(p=0.1, inplace=False)\n",
       "    )\n",
       "  )\n",
       "  (dropout): Dropout(p=0.1, inplace=False)\n",
       "  (mlp): Sequential(\n",
       "    (0): Linear(in_features=768, out_features=500, bias=True)\n",
       "    (1): ReLU()\n",
       "    (2): Linear(in_features=500, out_features=3, bias=True)\n",
       "  )\n",
       ")"
      ]
     },
     "execution_count": 31,
     "metadata": {},
     "output_type": "execute_result"
    }
   ],
   "source": [
    "from transformers import BertForSequenceClassification, AdamW, BertConfig\n",
    "\n",
    "# Loads BertForSequenceClassification, the pretrained BERT model with a single\n",
    "model = MultiClassClassifier('google/flan-t5-base',num_classes, 768 ,500,100,dropout=0.1,freeze_t5=False)\n",
    "\n",
    "# model.load_state_dict(torch.load(\"model_bert_difficulty_prediction/model_weights\"))\n",
    "\n",
    "# Tell pytorch to run this model on the GPU.\n",
    "model.cuda()\n"
   ]
  },
  {
   "cell_type": "code",
   "execution_count": null,
   "id": "8e1405a3",
   "metadata": {
    "id": "iilNEZRCsJjH",
    "papermill": {
     "duration": 0.031753,
     "end_time": "2024-06-10T19:49:27.777128",
     "exception": false,
     "start_time": "2024-06-10T19:49:27.745375",
     "status": "completed"
    },
    "tags": []
   },
   "outputs": [],
   "source": []
  },
  {
   "cell_type": "code",
   "execution_count": 32,
   "id": "44f211f3",
   "metadata": {
    "execution": {
     "iopub.execute_input": "2024-06-10T19:49:27.839693Z",
     "iopub.status.busy": "2024-06-10T19:49:27.839261Z",
     "iopub.status.idle": "2024-06-10T19:49:27.848818Z",
     "shell.execute_reply": "2024-06-10T19:49:27.847849Z"
    },
    "id": "awQ2Y9Jb3kht",
    "outputId": "6bd25a81-24c2-4789-99d4-eb6a55d7b88e",
    "papermill": {
     "duration": 0.043377,
     "end_time": "2024-06-10T19:49:27.851119",
     "exception": false,
     "start_time": "2024-06-10T19:49:27.807742",
     "status": "completed"
    },
    "tags": []
   },
   "outputs": [
    {
     "name": "stderr",
     "output_type": "stream",
     "text": [
      "/opt/conda/lib/python3.10/site-packages/transformers/optimization.py:588: FutureWarning: This implementation of AdamW is deprecated and will be removed in a future version. Use the PyTorch implementation torch.optim.AdamW instead, or set `no_deprecation_warning=True` to disable this warning\n",
      "  warnings.warn(\n"
     ]
    }
   ],
   "source": [
    "optimizer = AdamW(model.parameters(),\n",
    "                  lr = 2e-5,\n",
    "                  eps = 1e-8 # args.adam_epsilon  - default is 1e-8.\n",
    "                )"
   ]
  },
  {
   "cell_type": "code",
   "execution_count": 33,
   "id": "dec900fd",
   "metadata": {
    "execution": {
     "iopub.execute_input": "2024-06-10T19:49:27.917559Z",
     "iopub.status.busy": "2024-06-10T19:49:27.916709Z",
     "iopub.status.idle": "2024-06-10T19:49:27.922134Z",
     "shell.execute_reply": "2024-06-10T19:49:27.921434Z"
    },
    "id": "2Ys-M4-e3khv",
    "papermill": {
     "duration": 0.039861,
     "end_time": "2024-06-10T19:49:27.923990",
     "exception": false,
     "start_time": "2024-06-10T19:49:27.884129",
     "status": "completed"
    },
    "tags": []
   },
   "outputs": [],
   "source": [
    "from transformers import get_linear_schedule_with_warmup\n",
    "\n",
    "\n",
    "epochs = 20\n",
    "\n",
    "# Total number of training steps is [number of batches] x [number of epochs].\n",
    "total_steps = len(train_dataloader) * epochs\n",
    "\n"
   ]
  },
  {
   "cell_type": "code",
   "execution_count": 34,
   "id": "c9d50419",
   "metadata": {
    "execution": {
     "iopub.execute_input": "2024-06-10T19:49:27.998332Z",
     "iopub.status.busy": "2024-06-10T19:49:27.997832Z",
     "iopub.status.idle": "2024-06-10T19:49:28.004358Z",
     "shell.execute_reply": "2024-06-10T19:49:28.003393Z"
    },
    "id": "QrYqErOD3khx",
    "outputId": "9bb715bc-10e2-49ec-cf5b-634d15d98b99",
    "papermill": {
     "duration": 0.052104,
     "end_time": "2024-06-10T19:49:28.006972",
     "exception": false,
     "start_time": "2024-06-10T19:49:27.954868",
     "status": "completed"
    },
    "tags": []
   },
   "outputs": [
    {
     "data": {
      "text/plain": [
       "621"
      ]
     },
     "execution_count": 34,
     "metadata": {},
     "output_type": "execute_result"
    }
   ],
   "source": [
    "len(train_dataloader)"
   ]
  },
  {
   "cell_type": "code",
   "execution_count": 35,
   "id": "84524d5b",
   "metadata": {
    "execution": {
     "iopub.execute_input": "2024-06-10T19:49:28.096328Z",
     "iopub.status.busy": "2024-06-10T19:49:28.095666Z",
     "iopub.status.idle": "2024-06-10T19:49:28.101677Z",
     "shell.execute_reply": "2024-06-10T19:49:28.100694Z"
    },
    "id": "EWVSE9LM3kh0",
    "outputId": "ae089d08-c38d-414a-e8a0-ffe4cbe3a818",
    "papermill": {
     "duration": 0.052304,
     "end_time": "2024-06-10T19:49:28.103741",
     "exception": false,
     "start_time": "2024-06-10T19:49:28.051437",
     "status": "completed"
    },
    "tags": []
   },
   "outputs": [
    {
     "data": {
      "text/plain": [
       "61920"
      ]
     },
     "execution_count": 35,
     "metadata": {},
     "output_type": "execute_result"
    }
   ],
   "source": [
    "1935 * 32"
   ]
  },
  {
   "cell_type": "code",
   "execution_count": 36,
   "id": "e2be0c30",
   "metadata": {
    "execution": {
     "iopub.execute_input": "2024-06-10T19:49:28.168841Z",
     "iopub.status.busy": "2024-06-10T19:49:28.168153Z",
     "iopub.status.idle": "2024-06-10T19:49:28.172304Z",
     "shell.execute_reply": "2024-06-10T19:49:28.171502Z"
    },
    "id": "rcvxVVi63kh3",
    "papermill": {
     "duration": 0.038211,
     "end_time": "2024-06-10T19:49:28.174229",
     "exception": false,
     "start_time": "2024-06-10T19:49:28.136018",
     "status": "completed"
    },
    "tags": []
   },
   "outputs": [],
   "source": [
    "scheduler = get_linear_schedule_with_warmup(optimizer,\n",
    "                                            num_warmup_steps = 0, # Default value in run_glue.py\n",
    "                                            num_training_steps = total_steps)"
   ]
  },
  {
   "cell_type": "code",
   "execution_count": 37,
   "id": "afccecd5",
   "metadata": {
    "execution": {
     "iopub.execute_input": "2024-06-10T19:49:28.239349Z",
     "iopub.status.busy": "2024-06-10T19:49:28.238960Z",
     "iopub.status.idle": "2024-06-10T19:49:28.244143Z",
     "shell.execute_reply": "2024-06-10T19:49:28.243288Z"
    },
    "id": "GUw3zm6g3kh5",
    "papermill": {
     "duration": 0.04018,
     "end_time": "2024-06-10T19:49:28.246179",
     "exception": false,
     "start_time": "2024-06-10T19:49:28.205999",
     "status": "completed"
    },
    "tags": []
   },
   "outputs": [],
   "source": [
    "import numpy as np\n",
    "\n",
    "# Function to calculate the accuracy of our predictions vs labels\n",
    "def flat_accuracy(preds, labels):\n",
    "    pred_flat = np.argmax(preds, axis=1).flatten()\n",
    "    labels_flat = labels.flatten()\n",
    "    return np.sum(pred_flat == labels_flat) / len(labels_flat)"
   ]
  },
  {
   "cell_type": "code",
   "execution_count": 38,
   "id": "d1a93e18",
   "metadata": {
    "execution": {
     "iopub.execute_input": "2024-06-10T19:49:28.310714Z",
     "iopub.status.busy": "2024-06-10T19:49:28.310409Z",
     "iopub.status.idle": "2024-06-10T19:49:28.315362Z",
     "shell.execute_reply": "2024-06-10T19:49:28.314528Z"
    },
    "id": "ta6zfUTa3kh7",
    "papermill": {
     "duration": 0.039225,
     "end_time": "2024-06-10T19:49:28.317222",
     "exception": false,
     "start_time": "2024-06-10T19:49:28.277997",
     "status": "completed"
    },
    "tags": []
   },
   "outputs": [],
   "source": [
    "import time\n",
    "import datetime\n",
    "\n",
    "def format_time(elapsed):\n",
    "    '''\n",
    "    Takes a time in seconds and returns a string hh:mm:ss\n",
    "    '''\n",
    "    # Round to the nearest second.\n",
    "    elapsed_rounded = int(round((elapsed)))\n",
    "\n",
    "    # Format as hh:mm:ss\n",
    "    return str(datetime.timedelta(seconds=elapsed_rounded))"
   ]
  },
  {
   "cell_type": "code",
   "execution_count": 39,
   "id": "4000ac38",
   "metadata": {
    "execution": {
     "iopub.execute_input": "2024-06-10T19:49:28.382028Z",
     "iopub.status.busy": "2024-06-10T19:49:28.381342Z",
     "iopub.status.idle": "2024-06-10T19:49:28.385576Z",
     "shell.execute_reply": "2024-06-10T19:49:28.384702Z"
    },
    "id": "GFq9gd5kQSHb",
    "papermill": {
     "duration": 0.03834,
     "end_time": "2024-06-10T19:49:28.387447",
     "exception": false,
     "start_time": "2024-06-10T19:49:28.349107",
     "status": "completed"
    },
    "tags": []
   },
   "outputs": [],
   "source": [
    "import os\n",
    "os.environ['CUDA_LAUNCH_BLOCKING'] = \"1\"\n"
   ]
  },
  {
   "cell_type": "code",
   "execution_count": 40,
   "id": "fa9daae4",
   "metadata": {
    "execution": {
     "iopub.execute_input": "2024-06-10T19:49:28.452736Z",
     "iopub.status.busy": "2024-06-10T19:49:28.452128Z",
     "iopub.status.idle": "2024-06-10T19:49:28.462234Z",
     "shell.execute_reply": "2024-06-10T19:49:28.461438Z"
    },
    "id": "a_nmuoSgQ5t3",
    "papermill": {
     "duration": 0.044639,
     "end_time": "2024-06-10T19:49:28.464056",
     "exception": false,
     "start_time": "2024-06-10T19:49:28.419417",
     "status": "completed"
    },
    "tags": []
   },
   "outputs": [],
   "source": [
    "class EarlyStopping:\n",
    "    \"\"\"Early stops the training if validation loss doesn't improve after a given patience.\"\"\"\n",
    "    def __init__(self, patience=7, verbose=False, delta=0, path='checkpoint.pt', trace_func=print):\n",
    "        \"\"\"\n",
    "        Args:\n",
    "            patience (int): How long to wait after last time validation loss improved.\n",
    "                            Default: 7\n",
    "            verbose (bool): If True, prints a message for each validation loss improvement.\n",
    "                            Default: False\n",
    "            delta (float): Minimum change in the monitored quantity to qualify as an improvement.\n",
    "                            Default: 0\n",
    "            path (str): Path for the checkpoint to be saved to.\n",
    "                            Default: 'checkpoint.pt'\n",
    "            trace_func (function): trace print function.\n",
    "                            Default: print\n",
    "        \"\"\"\n",
    "        self.patience = patience\n",
    "        self.verbose = verbose\n",
    "        self.counter = 0\n",
    "        self.best_score = None\n",
    "        self.early_stop = False\n",
    "        self.val_loss_min = np.Inf\n",
    "        self.delta = delta\n",
    "        self.path = path\n",
    "        self.trace_func = trace_func\n",
    "    def __call__(self, val_loss, model):\n",
    "\n",
    "        score = -val_loss\n",
    "\n",
    "        if self.best_score is None:\n",
    "            self.best_score = score\n",
    "            self.save_checkpoint(val_loss, model)\n",
    "        elif score < self.best_score + self.delta:\n",
    "            self.counter += 1\n",
    "            self.trace_func(f'EarlyStopping counter: {self.counter} out of {self.patience}')\n",
    "            if self.counter >= self.patience:\n",
    "                self.early_stop = True\n",
    "        else:\n",
    "            self.best_score = score\n",
    "            self.save_checkpoint(val_loss, model)\n",
    "            self.counter = 0\n",
    "\n",
    "    def save_checkpoint(self, val_loss, model):\n",
    "        '''Saves model when validation loss decrease.'''\n",
    "        if self.verbose:\n",
    "            self.trace_func(f'Validation loss decreased ({self.val_loss_min:.6f} --> {val_loss:.6f}).  Saving model ...')\n",
    "        torch.save(model.state_dict(), self.path)\n",
    "        self.val_loss_min = val_loss"
   ]
  },
  {
   "cell_type": "code",
   "execution_count": 41,
   "id": "22ae1d4d",
   "metadata": {
    "execution": {
     "iopub.execute_input": "2024-06-10T19:49:28.528950Z",
     "iopub.status.busy": "2024-06-10T19:49:28.528584Z",
     "iopub.status.idle": "2024-06-10T19:49:28.532489Z",
     "shell.execute_reply": "2024-06-10T19:49:28.531634Z"
    },
    "id": "ugVDrHu20c8G",
    "outputId": "f08a9064-0756-4eda-bc63-3048b430f934",
    "papermill": {
     "duration": 0.038992,
     "end_time": "2024-06-10T19:49:28.534405",
     "exception": false,
     "start_time": "2024-06-10T19:49:28.495413",
     "status": "completed"
    },
    "tags": []
   },
   "outputs": [],
   "source": [
    "# for param in model.t5_encoder.encoder.layer[0:5].parameters():\n",
    "#     param.requires_grad=False"
   ]
  },
  {
   "cell_type": "code",
   "execution_count": 42,
   "id": "3b4c3d9e",
   "metadata": {
    "execution": {
     "iopub.execute_input": "2024-06-10T19:49:28.599462Z",
     "iopub.status.busy": "2024-06-10T19:49:28.598820Z",
     "iopub.status.idle": "2024-06-10T19:49:28.603136Z",
     "shell.execute_reply": "2024-06-10T19:49:28.602269Z"
    },
    "id": "E1rDO58zMfc8",
    "papermill": {
     "duration": 0.03889,
     "end_time": "2024-06-10T19:49:28.604973",
     "exception": false,
     "start_time": "2024-06-10T19:49:28.566083",
     "status": "completed"
    },
    "tags": []
   },
   "outputs": [],
   "source": [
    "loss_func = nn.CrossEntropyLoss()\n"
   ]
  },
  {
   "cell_type": "code",
   "execution_count": 43,
   "id": "388b3dd2",
   "metadata": {
    "execution": {
     "iopub.execute_input": "2024-06-10T19:49:28.671211Z",
     "iopub.status.busy": "2024-06-10T19:49:28.670795Z",
     "iopub.status.idle": "2024-06-10T20:27:51.841101Z",
     "shell.execute_reply": "2024-06-10T20:27:51.840174Z"
    },
    "id": "6LhAy2hZ3kh9",
    "outputId": "cbb0e4e3-0b28-410d-da5c-f43bace6a8c9",
    "papermill": {
     "duration": 2303.24822,
     "end_time": "2024-06-10T20:27:51.885355",
     "exception": false,
     "start_time": "2024-06-10T19:49:28.637135",
     "status": "completed"
    },
    "tags": []
   },
   "outputs": [
    {
     "name": "stdout",
     "output_type": "stream",
     "text": [
      "\n",
      "======== Epoch 1 / 20 ========\n",
      "Training...\n",
      "  Batch    40  of    621.    Elapsed: 0:00:20.\n",
      "  Batch    80  of    621.    Elapsed: 0:00:40.\n",
      "  Batch   120  of    621.    Elapsed: 0:00:59.\n",
      "  Batch   160  of    621.    Elapsed: 0:01:18.\n",
      "  Batch   200  of    621.    Elapsed: 0:01:37.\n",
      "  Batch   240  of    621.    Elapsed: 0:01:56.\n",
      "  Batch   280  of    621.    Elapsed: 0:02:16.\n",
      "  Batch   320  of    621.    Elapsed: 0:02:35.\n",
      "  Batch   360  of    621.    Elapsed: 0:02:54.\n",
      "  Batch   400  of    621.    Elapsed: 0:03:13.\n",
      "  Batch   440  of    621.    Elapsed: 0:03:32.\n",
      "  Batch   480  of    621.    Elapsed: 0:03:52.\n",
      "  Batch   520  of    621.    Elapsed: 0:04:11.\n",
      "  Batch   560  of    621.    Elapsed: 0:04:30.\n",
      "  Batch   600  of    621.    Elapsed: 0:04:49.\n",
      " Train Accuracy: 0.59\n",
      "\n",
      "  Average training loss: 0.91\n",
      "  Training epcoh took: 0:04:59\n",
      "\n",
      "Running Validation...\n",
      "  Accuracy: 0.58\n",
      "Validation loss decreased (inf --> 0.851258).  Saving model ...\n",
      "  Validation Loss: 0.85\n",
      "  Validation took: 0:00:30\n",
      "Saving model to /kaggle/working/model_t5/\n",
      "\n",
      "======== Epoch 2 / 20 ========\n",
      "Training...\n",
      "  Batch    40  of    621.    Elapsed: 0:00:19.\n",
      "  Batch    80  of    621.    Elapsed: 0:00:38.\n",
      "  Batch   120  of    621.    Elapsed: 0:00:58.\n",
      "  Batch   160  of    621.    Elapsed: 0:01:17.\n",
      "  Batch   200  of    621.    Elapsed: 0:01:36.\n",
      "  Batch   240  of    621.    Elapsed: 0:01:55.\n",
      "  Batch   280  of    621.    Elapsed: 0:02:14.\n",
      "  Batch   320  of    621.    Elapsed: 0:02:34.\n",
      "  Batch   360  of    621.    Elapsed: 0:02:53.\n",
      "  Batch   400  of    621.    Elapsed: 0:03:12.\n",
      "  Batch   440  of    621.    Elapsed: 0:03:31.\n",
      "  Batch   480  of    621.    Elapsed: 0:03:51.\n",
      "  Batch   520  of    621.    Elapsed: 0:04:10.\n",
      "  Batch   560  of    621.    Elapsed: 0:04:29.\n",
      "  Batch   600  of    621.    Elapsed: 0:04:48.\n",
      " Train Accuracy: 0.63\n",
      "\n",
      "  Average training loss: 0.82\n",
      "  Training epcoh took: 0:04:58\n",
      "\n",
      "Running Validation...\n",
      "  Accuracy: 0.62\n",
      "Validation loss decreased (0.851258 --> 0.811648).  Saving model ...\n",
      "  Validation Loss: 0.81\n",
      "  Validation took: 0:00:30\n",
      "Saving model to /kaggle/working/model_t5/\n",
      "\n",
      "======== Epoch 3 / 20 ========\n",
      "Training...\n",
      "  Batch    40  of    621.    Elapsed: 0:00:19.\n",
      "  Batch    80  of    621.    Elapsed: 0:00:38.\n",
      "  Batch   120  of    621.    Elapsed: 0:00:58.\n",
      "  Batch   160  of    621.    Elapsed: 0:01:17.\n",
      "  Batch   200  of    621.    Elapsed: 0:01:36.\n",
      "  Batch   240  of    621.    Elapsed: 0:01:55.\n",
      "  Batch   280  of    621.    Elapsed: 0:02:14.\n",
      "  Batch   320  of    621.    Elapsed: 0:02:34.\n",
      "  Batch   360  of    621.    Elapsed: 0:02:53.\n",
      "  Batch   400  of    621.    Elapsed: 0:03:12.\n",
      "  Batch   440  of    621.    Elapsed: 0:03:31.\n",
      "  Batch   480  of    621.    Elapsed: 0:03:50.\n",
      "  Batch   520  of    621.    Elapsed: 0:04:10.\n",
      "  Batch   560  of    621.    Elapsed: 0:04:29.\n",
      "  Batch   600  of    621.    Elapsed: 0:04:48.\n",
      " Train Accuracy: 0.64\n",
      "\n",
      "  Average training loss: 0.80\n",
      "  Training epcoh took: 0:04:58\n",
      "\n",
      "Running Validation...\n",
      "  Accuracy: 0.62\n",
      "EarlyStopping counter: 1 out of 2\n",
      "  Validation Loss: 0.81\n",
      "  Validation took: 0:00:29\n",
      "Saving model to /kaggle/working/model_t5/\n",
      "\n",
      "======== Epoch 4 / 20 ========\n",
      "Training...\n",
      "  Batch    40  of    621.    Elapsed: 0:00:19.\n",
      "  Batch    80  of    621.    Elapsed: 0:00:39.\n",
      "  Batch   120  of    621.    Elapsed: 0:00:58.\n",
      "  Batch   160  of    621.    Elapsed: 0:01:17.\n",
      "  Batch   200  of    621.    Elapsed: 0:01:37.\n",
      "  Batch   240  of    621.    Elapsed: 0:01:56.\n",
      "  Batch   280  of    621.    Elapsed: 0:02:15.\n",
      "  Batch   320  of    621.    Elapsed: 0:02:34.\n",
      "  Batch   360  of    621.    Elapsed: 0:02:53.\n",
      "  Batch   400  of    621.    Elapsed: 0:03:13.\n",
      "  Batch   440  of    621.    Elapsed: 0:03:32.\n",
      "  Batch   480  of    621.    Elapsed: 0:03:51.\n",
      "  Batch   520  of    621.    Elapsed: 0:04:10.\n",
      "  Batch   560  of    621.    Elapsed: 0:04:30.\n",
      "  Batch   600  of    621.    Elapsed: 0:04:49.\n",
      " Train Accuracy: 0.65\n",
      "\n",
      "  Average training loss: 0.78\n",
      "  Training epcoh took: 0:04:59\n",
      "\n",
      "Running Validation...\n",
      "  Accuracy: 0.62\n",
      "Validation loss decreased (0.811648 --> 0.796445).  Saving model ...\n",
      "  Validation Loss: 0.80\n",
      "  Validation took: 0:00:30\n",
      "Saving model to /kaggle/working/model_t5/\n",
      "\n",
      "======== Epoch 5 / 20 ========\n",
      "Training...\n",
      "  Batch    40  of    621.    Elapsed: 0:00:19.\n",
      "  Batch    80  of    621.    Elapsed: 0:00:38.\n",
      "  Batch   120  of    621.    Elapsed: 0:00:58.\n",
      "  Batch   160  of    621.    Elapsed: 0:01:17.\n",
      "  Batch   200  of    621.    Elapsed: 0:01:36.\n",
      "  Batch   240  of    621.    Elapsed: 0:01:55.\n",
      "  Batch   280  of    621.    Elapsed: 0:02:14.\n",
      "  Batch   320  of    621.    Elapsed: 0:02:34.\n",
      "  Batch   360  of    621.    Elapsed: 0:02:53.\n",
      "  Batch   400  of    621.    Elapsed: 0:03:12.\n",
      "  Batch   440  of    621.    Elapsed: 0:03:32.\n",
      "  Batch   480  of    621.    Elapsed: 0:03:51.\n",
      "  Batch   520  of    621.    Elapsed: 0:04:10.\n",
      "  Batch   560  of    621.    Elapsed: 0:04:29.\n",
      "  Batch   600  of    621.    Elapsed: 0:04:49.\n",
      " Train Accuracy: 0.66\n",
      "\n",
      "  Average training loss: 0.75\n",
      "  Training epcoh took: 0:04:59\n",
      "\n",
      "Running Validation...\n",
      "  Accuracy: 0.62\n",
      "Validation loss decreased (0.796445 --> 0.791438).  Saving model ...\n",
      "  Validation Loss: 0.79\n",
      "  Validation took: 0:00:30\n",
      "Saving model to /kaggle/working/model_t5/\n",
      "\n",
      "======== Epoch 6 / 20 ========\n",
      "Training...\n",
      "  Batch    40  of    621.    Elapsed: 0:00:19.\n",
      "  Batch    80  of    621.    Elapsed: 0:00:39.\n",
      "  Batch   120  of    621.    Elapsed: 0:00:58.\n",
      "  Batch   160  of    621.    Elapsed: 0:01:17.\n",
      "  Batch   200  of    621.    Elapsed: 0:01:36.\n",
      "  Batch   240  of    621.    Elapsed: 0:01:56.\n",
      "  Batch   280  of    621.    Elapsed: 0:02:15.\n",
      "  Batch   320  of    621.    Elapsed: 0:02:34.\n",
      "  Batch   360  of    621.    Elapsed: 0:02:53.\n",
      "  Batch   400  of    621.    Elapsed: 0:03:12.\n",
      "  Batch   440  of    621.    Elapsed: 0:03:32.\n",
      "  Batch   480  of    621.    Elapsed: 0:03:51.\n",
      "  Batch   520  of    621.    Elapsed: 0:04:10.\n",
      "  Batch   560  of    621.    Elapsed: 0:04:29.\n",
      "  Batch   600  of    621.    Elapsed: 0:04:49.\n",
      " Train Accuracy: 0.68\n",
      "\n",
      "  Average training loss: 0.72\n",
      "  Training epcoh took: 0:04:59\n",
      "\n",
      "Running Validation...\n",
      "  Accuracy: 0.61\n",
      "EarlyStopping counter: 1 out of 2\n",
      "  Validation Loss: 0.82\n",
      "  Validation took: 0:00:29\n",
      "Saving model to /kaggle/working/model_t5/\n",
      "\n",
      "======== Epoch 7 / 20 ========\n",
      "Training...\n",
      "  Batch    40  of    621.    Elapsed: 0:00:19.\n",
      "  Batch    80  of    621.    Elapsed: 0:00:39.\n",
      "  Batch   120  of    621.    Elapsed: 0:00:58.\n",
      "  Batch   160  of    621.    Elapsed: 0:01:17.\n",
      "  Batch   200  of    621.    Elapsed: 0:01:36.\n",
      "  Batch   240  of    621.    Elapsed: 0:01:55.\n",
      "  Batch   280  of    621.    Elapsed: 0:02:15.\n",
      "  Batch   320  of    621.    Elapsed: 0:02:34.\n",
      "  Batch   360  of    621.    Elapsed: 0:02:53.\n",
      "  Batch   400  of    621.    Elapsed: 0:03:12.\n",
      "  Batch   440  of    621.    Elapsed: 0:03:32.\n",
      "  Batch   480  of    621.    Elapsed: 0:03:51.\n",
      "  Batch   520  of    621.    Elapsed: 0:04:10.\n",
      "  Batch   560  of    621.    Elapsed: 0:04:29.\n",
      "  Batch   600  of    621.    Elapsed: 0:04:49.\n",
      " Train Accuracy: 0.69\n",
      "\n",
      "  Average training loss: 0.69\n",
      "  Training epcoh took: 0:04:59\n",
      "\n",
      "Running Validation...\n",
      "  Accuracy: 0.61\n",
      "EarlyStopping counter: 2 out of 2\n",
      "Early stopping\n",
      "\n",
      "Training complete!\n",
      "Total training took 0:38:23 (h:mm:ss)\n"
     ]
    }
   ],
   "source": [
    "import random\n",
    "import numpy as np\n",
    "\n",
    "# This training code is based on the `run_glue.py` script here:\n",
    "# https://github.com/huggingface/transformers/blob/5bfcd0485ece086ebcbed2d008813037968a9e58/examples/run_glue.py#L128\n",
    "\n",
    "# Set the seed value all over the place to make this reproducible.\n",
    "seed_val = 42\n",
    "\n",
    "random.seed(seed_val)\n",
    "np.random.seed(seed_val)\n",
    "torch.manual_seed(seed_val)\n",
    "torch.cuda.manual_seed_all(seed_val)\n",
    "\n",
    "# We'll store a number of quantities such as training and validation loss,\n",
    "# validation accuracy, and timings.\n",
    "training_stats = []\n",
    "\n",
    "# Measure the total training time for the whole run.\n",
    "total_t0 = time.time()\n",
    "early_stopping = EarlyStopping(patience=2, verbose=True)\n",
    "# For each epoch...\n",
    "for epoch_i in range(0, epochs):\n",
    "\n",
    "    # ========================================\n",
    "    #               Training\n",
    "    # ========================================\n",
    "\n",
    "    # Perform one full pass over the training set.\n",
    "\n",
    "    print(\"\")\n",
    "    print('======== Epoch {:} / {:} ========'.format(epoch_i + 1, epochs))\n",
    "    print('Training...')\n",
    "\n",
    "    # Measure how long the training epoch takes.\n",
    "    t0 = time.time()\n",
    "\n",
    "    # Reset the total loss for this epoch.\n",
    "    total_train_accuracy = 0\n",
    "    total_train_loss = 0\n",
    "\n",
    "    # Put the model into training mode. Don't be mislead--the call to\n",
    "    # `train` just changes the *mode*, it doesn't *perform* the training.\n",
    "    # `dropout` and `batchnorm` layers behave differently during training\n",
    "    # vs. test (source: https://stackoverflow.com/questimport gensim.downloader as api\n",
    "    model.train()\n",
    "\n",
    "    # For each batch of training data...\n",
    "    for step, batch in enumerate(train_dataloader):\n",
    "\n",
    "        # Progress update every 40 batches.\n",
    "        if step % 40 == 0 and not step == 0:\n",
    "            # Calculate elapsed time in minutes.\n",
    "            elapsed = format_time(time.time() - t0)\n",
    "\n",
    "            # Report progress.\n",
    "            print('  Batch {:>5,}  of  {:>5,}.    Elapsed: {:}.'.format(step, len(train_dataloader), elapsed))\n",
    "\n",
    "        # Unpack this training batch from our dataloader.\n",
    "        #\n",
    "        # As we unpack the batch, we'll also copy each tensor to the GPU using the\n",
    "        # `to` method.\n",
    "        #\n",
    "        # `batch` contains three pytorch tensors:\n",
    "        #   [0]: input ids\n",
    "        #   [1]: attention masks\n",
    "        #   [2]: labels\n",
    "\n",
    "        b_input_ids = batch[0].to(device)\n",
    "        b_input_mask = batch[1].to(device)\n",
    "        # b_poincare = batch[2].to(device)\n",
    "        # b_difficulty = batch[3].to(device)\n",
    "        b_labels = batch[2].to(device)\n",
    "        # skill_labels = batch[3].to(device)\n",
    "\n",
    "        # Always clear any previously calculated gradients before performing a\n",
    "        # backward pass. PyTorch doesn't do this automatically because\n",
    "        # accumulating the gradients is \"convenient while training RNNs\".\n",
    "        # (source: https://stackoverflow.com/questions/48001598/why-do-we-need-to-call-zero-grad-in-pytorch)\n",
    "        model.zero_grad()\n",
    "\n",
    "        # Perform a forward pass (evaluate the model on this training batch).\n",
    "        probas = model(b_input_ids,b_input_mask)\n",
    "\n",
    "        # Accumulate the training loss over all of the batches so that we can\n",
    "        # calculate the average loss at the end. `loss` is a Tensor containing a\n",
    "        # single value; the `.item()` function just returns the Python value\n",
    "        # from the tensor.\n",
    "        loss = loss_func(probas, b_labels)\n",
    "        total_train_loss += loss.item()\n",
    "\n",
    "        # Perform a backward pass to calculate the gradients.\n",
    "        loss.backward()\n",
    "\n",
    "        # Clip the norm of the gradients to 1.0.\n",
    "        # This is to help prevent the \"exploding gradients\" problem.\n",
    "        # torch.nn.utils.clip_grad_norm_(model.parameters(), 1.0)\n",
    "\n",
    "        # Update parameters and take a step using the computed gradient.\n",
    "        # The optimizer dictates the \"update rule\"--how the parameters are\n",
    "        # modified based on their gradients, the learning rate, etc.\n",
    "        optimizer.step()\n",
    "\n",
    "        # Update the learning rate.\n",
    "        # scheduler.step()\n",
    "        logits = probas.detach().cpu().numpy()\n",
    "        label_ids = b_labels.to('cpu').numpy()\n",
    "        total_train_accuracy += flat_accuracy(logits, label_ids)\n",
    "    avg_train_accuracy = total_train_accuracy / len(train_dataloader)\n",
    "    print(\" Train Accuracy: {0:.2f}\".format(avg_train_accuracy))\n",
    "\n",
    "    # Calculate the average loss over all of the batches.\n",
    "    avg_train_loss = total_train_loss / len(train_dataloader)\n",
    "\n",
    "\n",
    "\n",
    "    # Measure how long this epoch took.\n",
    "    training_time = format_time(time.time() - t0)\n",
    "\n",
    "    print(\"\")\n",
    "    print(\"  Average training loss: {0:.2f}\".format(avg_train_loss))\n",
    "    print(\"  Training epcoh took: {:}\".format(training_time))\n",
    "\n",
    "    # ========================================\n",
    "    #               Validation\n",
    "    # ========================================\n",
    "    # After the completion of each training epoch, measure our performance on\n",
    "    # our validation set.\n",
    "\n",
    "    print(\"\")\n",
    "    print(\"Running Validation...\")\n",
    "\n",
    "    t0 = time.time()\n",
    "\n",
    "    # Put the model in evaluation mode--the dropout layers behave differently\n",
    "    # during evaluation.\n",
    "    model.eval()\n",
    "\n",
    "    # Tracking variables\n",
    "    total_eval_accuracy = 0\n",
    "    total_eval_loss = 0\n",
    "    nb_eval_steps = 0\n",
    "\n",
    "    # Evaluate data for one epoch\n",
    "    for batch in validation_dataloader:\n",
    "\n",
    "        # Unpack this training batch from our dataloader.\n",
    "        #\n",
    "        # As we unpack the batch, we'll also copy each tensor to the GPU using\n",
    "        # the `to` method.\n",
    "        #\n",
    "        # `batch` contains three pytorch tensors:\n",
    "        #   [0]: input ids\n",
    "        #   [1]: attention masks\n",
    "        #   [2]: labels\n",
    "        b_input_ids = batch[0].to(device)\n",
    "\n",
    "        b_input_mask = batch[1].to(device)\n",
    "        # b_poincare = batch[2].to(device)\n",
    "        # b_difficulty = batch[3].to(device)\n",
    "        b_labels = batch[2].to(device)\n",
    "        # skill_labels = batch[3].to(device)\n",
    "\n",
    "        # Tell pytorch not to bother with constructing the compute graph during\n",
    "        # the forward pass, since this is only needed for backprop (training).\n",
    "        with torch.no_grad():\n",
    "\n",
    "            # Forward pass, calculate logit predictions.\n",
    "\n",
    "          logits = model(b_input_ids,b_input_mask)\n",
    "\n",
    "        # Accumulate the validation loss.\n",
    "        loss = loss_func(logits, b_labels)\n",
    "        total_eval_loss += loss.item()\n",
    "\n",
    "        # Move logits and labels to CPU\n",
    "        logits = logits.detach().cpu().numpy()\n",
    "        label_ids = b_labels.to('cpu').numpy()\n",
    "\n",
    "        # Calculate the accuracy for this batch of test sentences, and\n",
    "        # accumulate it over all batches.\n",
    "        total_eval_accuracy += flat_accuracy(logits, label_ids)\n",
    "\n",
    "\n",
    "    # Report the final accuracy for this validation run.\n",
    "    avg_val_accuracy = total_eval_accuracy / len(validation_dataloader)\n",
    "    print(\"  Accuracy: {0:.2f}\".format(avg_val_accuracy))\n",
    "\n",
    "    # Calculate the average loss over all of the batches.\n",
    "    avg_val_loss = total_eval_loss / len(validation_dataloader)\n",
    "    early_stopping(avg_val_loss, model)\n",
    "    if early_stopping.early_stop:\n",
    "      print(\"Early stopping\")\n",
    "      break\n",
    "    # Measure how long the validation run took.\n",
    "    validation_time = format_time(time.time() - t0)\n",
    "\n",
    "    print(\"  Validation Loss: {0:.2f}\".format(avg_val_loss))\n",
    "    print(\"  Validation took: {:}\".format(validation_time))\n",
    "    output_dir = \"/kaggle/working/model_t5/\"\n",
    "    if not os.path.exists(output_dir):\n",
    "        os.makedirs(output_dir)\n",
    "\n",
    "    print(\"Saving model to %s\" % output_dir)\n",
    "    tokenizer.save_pretrained(output_dir)\n",
    "    torch.save(model.state_dict(), os.path.join(output_dir, 'model_weights'))\n",
    "\n",
    "#     !rm -rf \"/kaggle/working/models\"\n",
    "#     !mv model_roberta_large_oracle \"/content/drive/My Drive/ecir_compnumfacts/\"\n",
    "    # Record all statistics from this epoch.\n",
    "    training_stats.append(\n",
    "        {\n",
    "            'epoch': epoch_i + 1,\n",
    "            'Training Loss': avg_train_loss,\n",
    "            'Valid. Loss': avg_val_loss,\n",
    "            'Valid. Accur.': avg_val_accuracy,\n",
    "            'Training Time': training_time,\n",
    "            'Validation Time': validation_time\n",
    "        }\n",
    "    )\n",
    "\n",
    "print(\"\")\n",
    "print(\"Training complete!\")\n",
    "\n",
    "print(\"Total training took {:} (h:mm:ss)\".format(format_time(time.time()-total_t0)))"
   ]
  },
  {
   "cell_type": "code",
   "execution_count": 44,
   "id": "6c316732",
   "metadata": {
    "execution": {
     "iopub.execute_input": "2024-06-10T20:27:51.971048Z",
     "iopub.status.busy": "2024-06-10T20:27:51.970209Z",
     "iopub.status.idle": "2024-06-10T20:27:51.974244Z",
     "shell.execute_reply": "2024-06-10T20:27:51.973417Z"
    },
    "id": "Y85_jMDiw9uP",
    "outputId": "3d185869-d3c4-4d52-9007-d894d3dc6427",
    "papermill": {
     "duration": 0.048431,
     "end_time": "2024-06-10T20:27:51.976130",
     "exception": false,
     "start_time": "2024-06-10T20:27:51.927699",
     "status": "completed"
    },
    "tags": []
   },
   "outputs": [],
   "source": [
    "# from google.colab import drive\n",
    "# drive.mount('/content/drive')"
   ]
  },
  {
   "cell_type": "code",
   "execution_count": 45,
   "id": "3b2faf05",
   "metadata": {
    "execution": {
     "iopub.execute_input": "2024-06-10T20:27:52.060283Z",
     "iopub.status.busy": "2024-06-10T20:27:52.059986Z",
     "iopub.status.idle": "2024-06-10T20:27:52.063951Z",
     "shell.execute_reply": "2024-06-10T20:27:52.063013Z"
    },
    "id": "TEEKmPey0a8-",
    "papermill": {
     "duration": 0.048496,
     "end_time": "2024-06-10T20:27:52.065820",
     "exception": false,
     "start_time": "2024-06-10T20:27:52.017324",
     "status": "completed"
    },
    "tags": []
   },
   "outputs": [],
   "source": [
    "# from huggingface_hub import login"
   ]
  },
  {
   "cell_type": "code",
   "execution_count": 46,
   "id": "2b0ac303",
   "metadata": {
    "execution": {
     "iopub.execute_input": "2024-06-10T20:27:52.150036Z",
     "iopub.status.busy": "2024-06-10T20:27:52.149762Z",
     "iopub.status.idle": "2024-06-10T20:27:52.153580Z",
     "shell.execute_reply": "2024-06-10T20:27:52.152732Z"
    },
    "id": "MFR-s_8ZtATC",
    "outputId": "ba9e4dfc-d784-4191-fe58-36b5b97a648d",
    "papermill": {
     "duration": 0.048239,
     "end_time": "2024-06-10T20:27:52.155481",
     "exception": false,
     "start_time": "2024-06-10T20:27:52.107242",
     "status": "completed"
    },
    "tags": []
   },
   "outputs": [],
   "source": [
    "# login()"
   ]
  },
  {
   "cell_type": "code",
   "execution_count": 47,
   "id": "d1122de0",
   "metadata": {
    "execution": {
     "iopub.execute_input": "2024-06-10T20:27:52.241417Z",
     "iopub.status.busy": "2024-06-10T20:27:52.240888Z",
     "iopub.status.idle": "2024-06-10T20:27:52.244935Z",
     "shell.execute_reply": "2024-06-10T20:27:52.244156Z"
    },
    "id": "GWkkt0F4Ifwc",
    "papermill": {
     "duration": 0.049905,
     "end_time": "2024-06-10T20:27:52.246938",
     "exception": false,
     "start_time": "2024-06-10T20:27:52.197033",
     "status": "completed"
    },
    "tags": []
   },
   "outputs": [],
   "source": [
    "# LE.classes_"
   ]
  },
  {
   "cell_type": "code",
   "execution_count": null,
   "id": "d2991c0b",
   "metadata": {
    "id": "xy__BpY8VOQp",
    "papermill": {
     "duration": 0.042877,
     "end_time": "2024-06-10T20:27:52.331844",
     "exception": false,
     "start_time": "2024-06-10T20:27:52.288967",
     "status": "completed"
    },
    "tags": []
   },
   "outputs": [],
   "source": []
  }
 ],
 "metadata": {
  "accelerator": "GPU",
  "colab": {
   "gpuType": "T4",
   "machine_shape": "hm",
   "provenance": []
  },
  "kaggle": {
   "accelerator": "gpu",
   "dataSources": [
    {
     "datasetId": 5187260,
     "sourceId": 8658376,
     "sourceType": "datasetVersion"
    },
    {
     "datasetId": 5187265,
     "sourceId": 8658382,
     "sourceType": "datasetVersion"
    }
   ],
   "dockerImageVersionId": 30733,
   "isGpuEnabled": true,
   "isInternetEnabled": true,
   "language": "python",
   "sourceType": "notebook"
  },
  "kernelspec": {
   "display_name": "Python 3",
   "language": "python",
   "name": "python3"
  },
  "language_info": {
   "codemirror_mode": {
    "name": "ipython",
    "version": 3
   },
   "file_extension": ".py",
   "mimetype": "text/x-python",
   "name": "python",
   "nbconvert_exporter": "python",
   "pygments_lexer": "ipython3",
   "version": "3.10.13"
  },
  "papermill": {
   "default_parameters": {},
   "duration": 2353.868498,
   "end_time": "2024-06-10T20:27:53.904028",
   "environment_variables": {},
   "exception": null,
   "input_path": "__notebook__.ipynb",
   "output_path": "__notebook__.ipynb",
   "parameters": {},
   "start_time": "2024-06-10T19:48:40.035530",
   "version": "2.5.0"
  },
  "widgets": {
   "application/vnd.jupyter.widget-state+json": {
    "state": {
     "060dd4a297af4580a2b3edacdf82e857": {
      "model_module": "@jupyter-widgets/base",
      "model_module_version": "1.2.0",
      "model_name": "LayoutModel",
      "state": {
       "_model_module": "@jupyter-widgets/base",
       "_model_module_version": "1.2.0",
       "_model_name": "LayoutModel",
       "_view_count": null,
       "_view_module": "@jupyter-widgets/base",
       "_view_module_version": "1.2.0",
       "_view_name": "LayoutView",
       "align_content": null,
       "align_items": null,
       "align_self": null,
       "border": null,
       "bottom": null,
       "display": null,
       "flex": null,
       "flex_flow": null,
       "grid_area": null,
       "grid_auto_columns": null,
       "grid_auto_flow": null,
       "grid_auto_rows": null,
       "grid_column": null,
       "grid_gap": null,
       "grid_row": null,
       "grid_template_areas": null,
       "grid_template_columns": null,
       "grid_template_rows": null,
       "height": null,
       "justify_content": null,
       "justify_items": null,
       "left": null,
       "margin": null,
       "max_height": null,
       "max_width": null,
       "min_height": null,
       "min_width": null,
       "object_fit": null,
       "object_position": null,
       "order": null,
       "overflow": null,
       "overflow_x": null,
       "overflow_y": null,
       "padding": null,
       "right": null,
       "top": null,
       "visibility": null,
       "width": null
      }
     },
     "06cfc9f0b2934e629034b96836ad4b1c": {
      "model_module": "@jupyter-widgets/controls",
      "model_module_version": "1.5.0",
      "model_name": "HBoxModel",
      "state": {
       "_dom_classes": [],
       "_model_module": "@jupyter-widgets/controls",
       "_model_module_version": "1.5.0",
       "_model_name": "HBoxModel",
       "_view_count": null,
       "_view_module": "@jupyter-widgets/controls",
       "_view_module_version": "1.5.0",
       "_view_name": "HBoxView",
       "box_style": "",
       "children": [
        "IPY_MODEL_bd659ae633b146b698f0cc10839549f5",
        "IPY_MODEL_ad55908914584aa984b31465898cf87a",
        "IPY_MODEL_51c4c26dda7a4085ad10ba55b8a8fa39"
       ],
       "layout": "IPY_MODEL_7a65b1765a8b441da44b1084d9abfcfb"
      }
     },
     "14b21ae9c9cd4a7b9d9d3ba12d08ed84": {
      "model_module": "@jupyter-widgets/base",
      "model_module_version": "1.2.0",
      "model_name": "LayoutModel",
      "state": {
       "_model_module": "@jupyter-widgets/base",
       "_model_module_version": "1.2.0",
       "_model_name": "LayoutModel",
       "_view_count": null,
       "_view_module": "@jupyter-widgets/base",
       "_view_module_version": "1.2.0",
       "_view_name": "LayoutView",
       "align_content": null,
       "align_items": null,
       "align_self": null,
       "border": null,
       "bottom": null,
       "display": null,
       "flex": null,
       "flex_flow": null,
       "grid_area": null,
       "grid_auto_columns": null,
       "grid_auto_flow": null,
       "grid_auto_rows": null,
       "grid_column": null,
       "grid_gap": null,
       "grid_row": null,
       "grid_template_areas": null,
       "grid_template_columns": null,
       "grid_template_rows": null,
       "height": null,
       "justify_content": null,
       "justify_items": null,
       "left": null,
       "margin": null,
       "max_height": null,
       "max_width": null,
       "min_height": null,
       "min_width": null,
       "object_fit": null,
       "object_position": null,
       "order": null,
       "overflow": null,
       "overflow_x": null,
       "overflow_y": null,
       "padding": null,
       "right": null,
       "top": null,
       "visibility": null,
       "width": null
      }
     },
     "1aa2bb18c6f24a839fe90be6f29ddefd": {
      "model_module": "@jupyter-widgets/base",
      "model_module_version": "1.2.0",
      "model_name": "LayoutModel",
      "state": {
       "_model_module": "@jupyter-widgets/base",
       "_model_module_version": "1.2.0",
       "_model_name": "LayoutModel",
       "_view_count": null,
       "_view_module": "@jupyter-widgets/base",
       "_view_module_version": "1.2.0",
       "_view_name": "LayoutView",
       "align_content": null,
       "align_items": null,
       "align_self": null,
       "border": null,
       "bottom": null,
       "display": null,
       "flex": null,
       "flex_flow": null,
       "grid_area": null,
       "grid_auto_columns": null,
       "grid_auto_flow": null,
       "grid_auto_rows": null,
       "grid_column": null,
       "grid_gap": null,
       "grid_row": null,
       "grid_template_areas": null,
       "grid_template_columns": null,
       "grid_template_rows": null,
       "height": null,
       "justify_content": null,
       "justify_items": null,
       "left": null,
       "margin": null,
       "max_height": null,
       "max_width": null,
       "min_height": null,
       "min_width": null,
       "object_fit": null,
       "object_position": null,
       "order": null,
       "overflow": null,
       "overflow_x": null,
       "overflow_y": null,
       "padding": null,
       "right": null,
       "top": null,
       "visibility": null,
       "width": null
      }
     },
     "206eb01463044e78a554cdc72bfa482e": {
      "model_module": "@jupyter-widgets/controls",
      "model_module_version": "1.5.0",
      "model_name": "ProgressStyleModel",
      "state": {
       "_model_module": "@jupyter-widgets/controls",
       "_model_module_version": "1.5.0",
       "_model_name": "ProgressStyleModel",
       "_view_count": null,
       "_view_module": "@jupyter-widgets/base",
       "_view_module_version": "1.2.0",
       "_view_name": "StyleView",
       "bar_color": null,
       "description_width": ""
      }
     },
     "324b51b462a544548b28322fb28f0a70": {
      "model_module": "@jupyter-widgets/controls",
      "model_module_version": "1.5.0",
      "model_name": "ProgressStyleModel",
      "state": {
       "_model_module": "@jupyter-widgets/controls",
       "_model_module_version": "1.5.0",
       "_model_name": "ProgressStyleModel",
       "_view_count": null,
       "_view_module": "@jupyter-widgets/base",
       "_view_module_version": "1.2.0",
       "_view_name": "StyleView",
       "bar_color": null,
       "description_width": ""
      }
     },
     "38f9d36d3262427f8bd43a5e77dcc7a8": {
      "model_module": "@jupyter-widgets/controls",
      "model_module_version": "1.5.0",
      "model_name": "HBoxModel",
      "state": {
       "_dom_classes": [],
       "_model_module": "@jupyter-widgets/controls",
       "_model_module_version": "1.5.0",
       "_model_name": "HBoxModel",
       "_view_count": null,
       "_view_module": "@jupyter-widgets/controls",
       "_view_module_version": "1.5.0",
       "_view_name": "HBoxView",
       "box_style": "",
       "children": [
        "IPY_MODEL_46cc8875d5024d069a273f0520a5e288",
        "IPY_MODEL_42462514caed4ae49b20cd90247e60af",
        "IPY_MODEL_a39b1d889a334b1e98587950eb74c448"
       ],
       "layout": "IPY_MODEL_66d75794bbe44ee1814f7e2063886970"
      }
     },
     "3e3cf0647bba4d7e8d0d87aec7b6e793": {
      "model_module": "@jupyter-widgets/controls",
      "model_module_version": "1.5.0",
      "model_name": "DescriptionStyleModel",
      "state": {
       "_model_module": "@jupyter-widgets/controls",
       "_model_module_version": "1.5.0",
       "_model_name": "DescriptionStyleModel",
       "_view_count": null,
       "_view_module": "@jupyter-widgets/base",
       "_view_module_version": "1.2.0",
       "_view_name": "StyleView",
       "description_width": ""
      }
     },
     "3f4aadbf40b14cc98aa903ee7fa8d0b2": {
      "model_module": "@jupyter-widgets/base",
      "model_module_version": "1.2.0",
      "model_name": "LayoutModel",
      "state": {
       "_model_module": "@jupyter-widgets/base",
       "_model_module_version": "1.2.0",
       "_model_name": "LayoutModel",
       "_view_count": null,
       "_view_module": "@jupyter-widgets/base",
       "_view_module_version": "1.2.0",
       "_view_name": "LayoutView",
       "align_content": null,
       "align_items": null,
       "align_self": null,
       "border": null,
       "bottom": null,
       "display": null,
       "flex": null,
       "flex_flow": null,
       "grid_area": null,
       "grid_auto_columns": null,
       "grid_auto_flow": null,
       "grid_auto_rows": null,
       "grid_column": null,
       "grid_gap": null,
       "grid_row": null,
       "grid_template_areas": null,
       "grid_template_columns": null,
       "grid_template_rows": null,
       "height": null,
       "justify_content": null,
       "justify_items": null,
       "left": null,
       "margin": null,
       "max_height": null,
       "max_width": null,
       "min_height": null,
       "min_width": null,
       "object_fit": null,
       "object_position": null,
       "order": null,
       "overflow": null,
       "overflow_x": null,
       "overflow_y": null,
       "padding": null,
       "right": null,
       "top": null,
       "visibility": null,
       "width": null
      }
     },
     "41aefebd245f4a73907ccb8b1313307e": {
      "model_module": "@jupyter-widgets/controls",
      "model_module_version": "1.5.0",
      "model_name": "HTMLModel",
      "state": {
       "_dom_classes": [],
       "_model_module": "@jupyter-widgets/controls",
       "_model_module_version": "1.5.0",
       "_model_name": "HTMLModel",
       "_view_count": null,
       "_view_module": "@jupyter-widgets/controls",
       "_view_module_version": "1.5.0",
       "_view_name": "HTMLView",
       "description": "",
       "description_tooltip": null,
       "layout": "IPY_MODEL_d6d16cf9e4cf4775b178c35b2c3995f5",
       "placeholder": "​",
       "style": "IPY_MODEL_8e8dfc60e6dc4d038215d95c73376c67",
       "value": "model.safetensors: 100%"
      }
     },
     "42462514caed4ae49b20cd90247e60af": {
      "model_module": "@jupyter-widgets/controls",
      "model_module_version": "1.5.0",
      "model_name": "FloatProgressModel",
      "state": {
       "_dom_classes": [],
       "_model_module": "@jupyter-widgets/controls",
       "_model_module_version": "1.5.0",
       "_model_name": "FloatProgressModel",
       "_view_count": null,
       "_view_module": "@jupyter-widgets/controls",
       "_view_module_version": "1.5.0",
       "_view_name": "ProgressView",
       "bar_style": "success",
       "description": "",
       "description_tooltip": null,
       "layout": "IPY_MODEL_9b0b8d44c4464d7f95b159508523a281",
       "max": 2537.0,
       "min": 0.0,
       "orientation": "horizontal",
       "style": "IPY_MODEL_4cfb6192e20b47be897a7f28f741b261",
       "value": 2537.0
      }
     },
     "46cc8875d5024d069a273f0520a5e288": {
      "model_module": "@jupyter-widgets/controls",
      "model_module_version": "1.5.0",
      "model_name": "HTMLModel",
      "state": {
       "_dom_classes": [],
       "_model_module": "@jupyter-widgets/controls",
       "_model_module_version": "1.5.0",
       "_model_name": "HTMLModel",
       "_view_count": null,
       "_view_module": "@jupyter-widgets/controls",
       "_view_module_version": "1.5.0",
       "_view_name": "HTMLView",
       "description": "",
       "description_tooltip": null,
       "layout": "IPY_MODEL_61e96bd844b84efdbd65efb46d28afe7",
       "placeholder": "​",
       "style": "IPY_MODEL_e3ac3d58bd2b419ca610518148f6e531",
       "value": "tokenizer_config.json: 100%"
      }
     },
     "4cfb6192e20b47be897a7f28f741b261": {
      "model_module": "@jupyter-widgets/controls",
      "model_module_version": "1.5.0",
      "model_name": "ProgressStyleModel",
      "state": {
       "_model_module": "@jupyter-widgets/controls",
       "_model_module_version": "1.5.0",
       "_model_name": "ProgressStyleModel",
       "_view_count": null,
       "_view_module": "@jupyter-widgets/base",
       "_view_module_version": "1.2.0",
       "_view_name": "StyleView",
       "bar_color": null,
       "description_width": ""
      }
     },
     "4de5d8dd9f3345da9d0992e022480c26": {
      "model_module": "@jupyter-widgets/controls",
      "model_module_version": "1.5.0",
      "model_name": "ProgressStyleModel",
      "state": {
       "_model_module": "@jupyter-widgets/controls",
       "_model_module_version": "1.5.0",
       "_model_name": "ProgressStyleModel",
       "_view_count": null,
       "_view_module": "@jupyter-widgets/base",
       "_view_module_version": "1.2.0",
       "_view_name": "StyleView",
       "bar_color": null,
       "description_width": ""
      }
     },
     "51c4c26dda7a4085ad10ba55b8a8fa39": {
      "model_module": "@jupyter-widgets/controls",
      "model_module_version": "1.5.0",
      "model_name": "HTMLModel",
      "state": {
       "_dom_classes": [],
       "_model_module": "@jupyter-widgets/controls",
       "_model_module_version": "1.5.0",
       "_model_name": "HTMLModel",
       "_view_count": null,
       "_view_module": "@jupyter-widgets/controls",
       "_view_module_version": "1.5.0",
       "_view_name": "HTMLView",
       "description": "",
       "description_tooltip": null,
       "layout": "IPY_MODEL_8a83498fb117498abcb2d65e78b7d682",
       "placeholder": "​",
       "style": "IPY_MODEL_f0af4f606c094eefb0cdd5be1a3fa68f",
       "value": " 2.42M/2.42M [00:00&lt;00:00, 4.89MB/s]"
      }
     },
     "51ff50ec35434424801ad87f1fdf3d65": {
      "model_module": "@jupyter-widgets/base",
      "model_module_version": "1.2.0",
      "model_name": "LayoutModel",
      "state": {
       "_model_module": "@jupyter-widgets/base",
       "_model_module_version": "1.2.0",
       "_model_name": "LayoutModel",
       "_view_count": null,
       "_view_module": "@jupyter-widgets/base",
       "_view_module_version": "1.2.0",
       "_view_name": "LayoutView",
       "align_content": null,
       "align_items": null,
       "align_self": null,
       "border": null,
       "bottom": null,
       "display": null,
       "flex": null,
       "flex_flow": null,
       "grid_area": null,
       "grid_auto_columns": null,
       "grid_auto_flow": null,
       "grid_auto_rows": null,
       "grid_column": null,
       "grid_gap": null,
       "grid_row": null,
       "grid_template_areas": null,
       "grid_template_columns": null,
       "grid_template_rows": null,
       "height": null,
       "justify_content": null,
       "justify_items": null,
       "left": null,
       "margin": null,
       "max_height": null,
       "max_width": null,
       "min_height": null,
       "min_width": null,
       "object_fit": null,
       "object_position": null,
       "order": null,
       "overflow": null,
       "overflow_x": null,
       "overflow_y": null,
       "padding": null,
       "right": null,
       "top": null,
       "visibility": null,
       "width": null
      }
     },
     "5717fdbe0b45449888570a43675e9a00": {
      "model_module": "@jupyter-widgets/controls",
      "model_module_version": "1.5.0",
      "model_name": "HTMLModel",
      "state": {
       "_dom_classes": [],
       "_model_module": "@jupyter-widgets/controls",
       "_model_module_version": "1.5.0",
       "_model_name": "HTMLModel",
       "_view_count": null,
       "_view_module": "@jupyter-widgets/controls",
       "_view_module_version": "1.5.0",
       "_view_name": "HTMLView",
       "description": "",
       "description_tooltip": null,
       "layout": "IPY_MODEL_1aa2bb18c6f24a839fe90be6f29ddefd",
       "placeholder": "​",
       "style": "IPY_MODEL_c8be00c8288940f293949ef3a82f5f10",
       "value": "special_tokens_map.json: 100%"
      }
     },
     "5953ad60cfc84465a5bf6673d12ae60a": {
      "model_module": "@jupyter-widgets/base",
      "model_module_version": "1.2.0",
      "model_name": "LayoutModel",
      "state": {
       "_model_module": "@jupyter-widgets/base",
       "_model_module_version": "1.2.0",
       "_model_name": "LayoutModel",
       "_view_count": null,
       "_view_module": "@jupyter-widgets/base",
       "_view_module_version": "1.2.0",
       "_view_name": "LayoutView",
       "align_content": null,
       "align_items": null,
       "align_self": null,
       "border": null,
       "bottom": null,
       "display": null,
       "flex": null,
       "flex_flow": null,
       "grid_area": null,
       "grid_auto_columns": null,
       "grid_auto_flow": null,
       "grid_auto_rows": null,
       "grid_column": null,
       "grid_gap": null,
       "grid_row": null,
       "grid_template_areas": null,
       "grid_template_columns": null,
       "grid_template_rows": null,
       "height": null,
       "justify_content": null,
       "justify_items": null,
       "left": null,
       "margin": null,
       "max_height": null,
       "max_width": null,
       "min_height": null,
       "min_width": null,
       "object_fit": null,
       "object_position": null,
       "order": null,
       "overflow": null,
       "overflow_x": null,
       "overflow_y": null,
       "padding": null,
       "right": null,
       "top": null,
       "visibility": null,
       "width": null
      }
     },
     "596cd0a0c2f64a2391666f59f3bfbd5a": {
      "model_module": "@jupyter-widgets/base",
      "model_module_version": "1.2.0",
      "model_name": "LayoutModel",
      "state": {
       "_model_module": "@jupyter-widgets/base",
       "_model_module_version": "1.2.0",
       "_model_name": "LayoutModel",
       "_view_count": null,
       "_view_module": "@jupyter-widgets/base",
       "_view_module_version": "1.2.0",
       "_view_name": "LayoutView",
       "align_content": null,
       "align_items": null,
       "align_self": null,
       "border": null,
       "bottom": null,
       "display": null,
       "flex": null,
       "flex_flow": null,
       "grid_area": null,
       "grid_auto_columns": null,
       "grid_auto_flow": null,
       "grid_auto_rows": null,
       "grid_column": null,
       "grid_gap": null,
       "grid_row": null,
       "grid_template_areas": null,
       "grid_template_columns": null,
       "grid_template_rows": null,
       "height": null,
       "justify_content": null,
       "justify_items": null,
       "left": null,
       "margin": null,
       "max_height": null,
       "max_width": null,
       "min_height": null,
       "min_width": null,
       "object_fit": null,
       "object_position": null,
       "order": null,
       "overflow": null,
       "overflow_x": null,
       "overflow_y": null,
       "padding": null,
       "right": null,
       "top": null,
       "visibility": null,
       "width": null
      }
     },
     "61469731eaeb4decaeb1e2ea4ca8e9aa": {
      "model_module": "@jupyter-widgets/controls",
      "model_module_version": "1.5.0",
      "model_name": "HBoxModel",
      "state": {
       "_dom_classes": [],
       "_model_module": "@jupyter-widgets/controls",
       "_model_module_version": "1.5.0",
       "_model_name": "HBoxModel",
       "_view_count": null,
       "_view_module": "@jupyter-widgets/controls",
       "_view_module_version": "1.5.0",
       "_view_name": "HBoxView",
       "box_style": "",
       "children": [
        "IPY_MODEL_70a065cd29bd46bcb655391431da4b27",
        "IPY_MODEL_dd5991974a38499980318274ff32d639",
        "IPY_MODEL_eaa48b0f027d4417ba6dd71d1e2535e3"
       ],
       "layout": "IPY_MODEL_3f4aadbf40b14cc98aa903ee7fa8d0b2"
      }
     },
     "61e96bd844b84efdbd65efb46d28afe7": {
      "model_module": "@jupyter-widgets/base",
      "model_module_version": "1.2.0",
      "model_name": "LayoutModel",
      "state": {
       "_model_module": "@jupyter-widgets/base",
       "_model_module_version": "1.2.0",
       "_model_name": "LayoutModel",
       "_view_count": null,
       "_view_module": "@jupyter-widgets/base",
       "_view_module_version": "1.2.0",
       "_view_name": "LayoutView",
       "align_content": null,
       "align_items": null,
       "align_self": null,
       "border": null,
       "bottom": null,
       "display": null,
       "flex": null,
       "flex_flow": null,
       "grid_area": null,
       "grid_auto_columns": null,
       "grid_auto_flow": null,
       "grid_auto_rows": null,
       "grid_column": null,
       "grid_gap": null,
       "grid_row": null,
       "grid_template_areas": null,
       "grid_template_columns": null,
       "grid_template_rows": null,
       "height": null,
       "justify_content": null,
       "justify_items": null,
       "left": null,
       "margin": null,
       "max_height": null,
       "max_width": null,
       "min_height": null,
       "min_width": null,
       "object_fit": null,
       "object_position": null,
       "order": null,
       "overflow": null,
       "overflow_x": null,
       "overflow_y": null,
       "padding": null,
       "right": null,
       "top": null,
       "visibility": null,
       "width": null
      }
     },
     "62004e90f9fb4b7d90a4ced595d9f817": {
      "model_module": "@jupyter-widgets/controls",
      "model_module_version": "1.5.0",
      "model_name": "FloatProgressModel",
      "state": {
       "_dom_classes": [],
       "_model_module": "@jupyter-widgets/controls",
       "_model_module_version": "1.5.0",
       "_model_name": "FloatProgressModel",
       "_view_count": null,
       "_view_module": "@jupyter-widgets/controls",
       "_view_module_version": "1.5.0",
       "_view_name": "ProgressView",
       "bar_style": "success",
       "description": "",
       "description_tooltip": null,
       "layout": "IPY_MODEL_060dd4a297af4580a2b3edacdf82e857",
       "max": 990345061.0,
       "min": 0.0,
       "orientation": "horizontal",
       "style": "IPY_MODEL_7fa9c655b11143c29365154fe110ac44",
       "value": 990345061.0
      }
     },
     "66d75794bbe44ee1814f7e2063886970": {
      "model_module": "@jupyter-widgets/base",
      "model_module_version": "1.2.0",
      "model_name": "LayoutModel",
      "state": {
       "_model_module": "@jupyter-widgets/base",
       "_model_module_version": "1.2.0",
       "_model_name": "LayoutModel",
       "_view_count": null,
       "_view_module": "@jupyter-widgets/base",
       "_view_module_version": "1.2.0",
       "_view_name": "LayoutView",
       "align_content": null,
       "align_items": null,
       "align_self": null,
       "border": null,
       "bottom": null,
       "display": null,
       "flex": null,
       "flex_flow": null,
       "grid_area": null,
       "grid_auto_columns": null,
       "grid_auto_flow": null,
       "grid_auto_rows": null,
       "grid_column": null,
       "grid_gap": null,
       "grid_row": null,
       "grid_template_areas": null,
       "grid_template_columns": null,
       "grid_template_rows": null,
       "height": null,
       "justify_content": null,
       "justify_items": null,
       "left": null,
       "margin": null,
       "max_height": null,
       "max_width": null,
       "min_height": null,
       "min_width": null,
       "object_fit": null,
       "object_position": null,
       "order": null,
       "overflow": null,
       "overflow_x": null,
       "overflow_y": null,
       "padding": null,
       "right": null,
       "top": null,
       "visibility": null,
       "width": null
      }
     },
     "69a2d64404a14b489689c5ed2c2fb9c1": {
      "model_module": "@jupyter-widgets/base",
      "model_module_version": "1.2.0",
      "model_name": "LayoutModel",
      "state": {
       "_model_module": "@jupyter-widgets/base",
       "_model_module_version": "1.2.0",
       "_model_name": "LayoutModel",
       "_view_count": null,
       "_view_module": "@jupyter-widgets/base",
       "_view_module_version": "1.2.0",
       "_view_name": "LayoutView",
       "align_content": null,
       "align_items": null,
       "align_self": null,
       "border": null,
       "bottom": null,
       "display": null,
       "flex": null,
       "flex_flow": null,
       "grid_area": null,
       "grid_auto_columns": null,
       "grid_auto_flow": null,
       "grid_auto_rows": null,
       "grid_column": null,
       "grid_gap": null,
       "grid_row": null,
       "grid_template_areas": null,
       "grid_template_columns": null,
       "grid_template_rows": null,
       "height": null,
       "justify_content": null,
       "justify_items": null,
       "left": null,
       "margin": null,
       "max_height": null,
       "max_width": null,
       "min_height": null,
       "min_width": null,
       "object_fit": null,
       "object_position": null,
       "order": null,
       "overflow": null,
       "overflow_x": null,
       "overflow_y": null,
       "padding": null,
       "right": null,
       "top": null,
       "visibility": null,
       "width": null
      }
     },
     "6eb0dfd21f4a4a1db30cf0db085cd2e5": {
      "model_module": "@jupyter-widgets/controls",
      "model_module_version": "1.5.0",
      "model_name": "HBoxModel",
      "state": {
       "_dom_classes": [],
       "_model_module": "@jupyter-widgets/controls",
       "_model_module_version": "1.5.0",
       "_model_name": "HBoxModel",
       "_view_count": null,
       "_view_module": "@jupyter-widgets/controls",
       "_view_module_version": "1.5.0",
       "_view_name": "HBoxView",
       "box_style": "",
       "children": [
        "IPY_MODEL_5717fdbe0b45449888570a43675e9a00",
        "IPY_MODEL_8ee7c30484004f2aa33985c8703f27f0",
        "IPY_MODEL_e935347174b34ced887cdf5b5e60850e"
       ],
       "layout": "IPY_MODEL_51ff50ec35434424801ad87f1fdf3d65"
      }
     },
     "70a065cd29bd46bcb655391431da4b27": {
      "model_module": "@jupyter-widgets/controls",
      "model_module_version": "1.5.0",
      "model_name": "HTMLModel",
      "state": {
       "_dom_classes": [],
       "_model_module": "@jupyter-widgets/controls",
       "_model_module_version": "1.5.0",
       "_model_name": "HTMLModel",
       "_view_count": null,
       "_view_module": "@jupyter-widgets/controls",
       "_view_module_version": "1.5.0",
       "_view_name": "HTMLView",
       "description": "",
       "description_tooltip": null,
       "layout": "IPY_MODEL_d2f0dd7473034198bbfcc4aee0c6d0fa",
       "placeholder": "​",
       "style": "IPY_MODEL_9bde719d894b4922ab3cfd588d020780",
       "value": "spiece.model: 100%"
      }
     },
     "71e148d6ea744a008d81eb6eadbdb714": {
      "model_module": "@jupyter-widgets/controls",
      "model_module_version": "1.5.0",
      "model_name": "HTMLModel",
      "state": {
       "_dom_classes": [],
       "_model_module": "@jupyter-widgets/controls",
       "_model_module_version": "1.5.0",
       "_model_name": "HTMLModel",
       "_view_count": null,
       "_view_module": "@jupyter-widgets/controls",
       "_view_module_version": "1.5.0",
       "_view_name": "HTMLView",
       "description": "",
       "description_tooltip": null,
       "layout": "IPY_MODEL_a8625bbd26e54933ac7323108886f47c",
       "placeholder": "​",
       "style": "IPY_MODEL_e207b7c814bd44328714d0473785f41a",
       "value": " 990M/990M [00:02&lt;00:00, 378MB/s]"
      }
     },
     "73efff5e5c7f43dda19509a13b55f9d6": {
      "model_module": "@jupyter-widgets/controls",
      "model_module_version": "1.5.0",
      "model_name": "ProgressStyleModel",
      "state": {
       "_model_module": "@jupyter-widgets/controls",
       "_model_module_version": "1.5.0",
       "_model_name": "ProgressStyleModel",
       "_view_count": null,
       "_view_module": "@jupyter-widgets/base",
       "_view_module_version": "1.2.0",
       "_view_name": "StyleView",
       "bar_color": null,
       "description_width": ""
      }
     },
     "7a65b1765a8b441da44b1084d9abfcfb": {
      "model_module": "@jupyter-widgets/base",
      "model_module_version": "1.2.0",
      "model_name": "LayoutModel",
      "state": {
       "_model_module": "@jupyter-widgets/base",
       "_model_module_version": "1.2.0",
       "_model_name": "LayoutModel",
       "_view_count": null,
       "_view_module": "@jupyter-widgets/base",
       "_view_module_version": "1.2.0",
       "_view_name": "LayoutView",
       "align_content": null,
       "align_items": null,
       "align_self": null,
       "border": null,
       "bottom": null,
       "display": null,
       "flex": null,
       "flex_flow": null,
       "grid_area": null,
       "grid_auto_columns": null,
       "grid_auto_flow": null,
       "grid_auto_rows": null,
       "grid_column": null,
       "grid_gap": null,
       "grid_row": null,
       "grid_template_areas": null,
       "grid_template_columns": null,
       "grid_template_rows": null,
       "height": null,
       "justify_content": null,
       "justify_items": null,
       "left": null,
       "margin": null,
       "max_height": null,
       "max_width": null,
       "min_height": null,
       "min_width": null,
       "object_fit": null,
       "object_position": null,
       "order": null,
       "overflow": null,
       "overflow_x": null,
       "overflow_y": null,
       "padding": null,
       "right": null,
       "top": null,
       "visibility": null,
       "width": null
      }
     },
     "7fa9c655b11143c29365154fe110ac44": {
      "model_module": "@jupyter-widgets/controls",
      "model_module_version": "1.5.0",
      "model_name": "ProgressStyleModel",
      "state": {
       "_model_module": "@jupyter-widgets/controls",
       "_model_module_version": "1.5.0",
       "_model_name": "ProgressStyleModel",
       "_view_count": null,
       "_view_module": "@jupyter-widgets/base",
       "_view_module_version": "1.2.0",
       "_view_name": "StyleView",
       "bar_color": null,
       "description_width": ""
      }
     },
     "8a83498fb117498abcb2d65e78b7d682": {
      "model_module": "@jupyter-widgets/base",
      "model_module_version": "1.2.0",
      "model_name": "LayoutModel",
      "state": {
       "_model_module": "@jupyter-widgets/base",
       "_model_module_version": "1.2.0",
       "_model_name": "LayoutModel",
       "_view_count": null,
       "_view_module": "@jupyter-widgets/base",
       "_view_module_version": "1.2.0",
       "_view_name": "LayoutView",
       "align_content": null,
       "align_items": null,
       "align_self": null,
       "border": null,
       "bottom": null,
       "display": null,
       "flex": null,
       "flex_flow": null,
       "grid_area": null,
       "grid_auto_columns": null,
       "grid_auto_flow": null,
       "grid_auto_rows": null,
       "grid_column": null,
       "grid_gap": null,
       "grid_row": null,
       "grid_template_areas": null,
       "grid_template_columns": null,
       "grid_template_rows": null,
       "height": null,
       "justify_content": null,
       "justify_items": null,
       "left": null,
       "margin": null,
       "max_height": null,
       "max_width": null,
       "min_height": null,
       "min_width": null,
       "object_fit": null,
       "object_position": null,
       "order": null,
       "overflow": null,
       "overflow_x": null,
       "overflow_y": null,
       "padding": null,
       "right": null,
       "top": null,
       "visibility": null,
       "width": null
      }
     },
     "8d18ea0619ed400f86aa19a236d18dac": {
      "model_module": "@jupyter-widgets/controls",
      "model_module_version": "1.5.0",
      "model_name": "HTMLModel",
      "state": {
       "_dom_classes": [],
       "_model_module": "@jupyter-widgets/controls",
       "_model_module_version": "1.5.0",
       "_model_name": "HTMLModel",
       "_view_count": null,
       "_view_module": "@jupyter-widgets/controls",
       "_view_module_version": "1.5.0",
       "_view_name": "HTMLView",
       "description": "",
       "description_tooltip": null,
       "layout": "IPY_MODEL_ee2bc853b9e7435f93ea4b4dce089128",
       "placeholder": "​",
       "style": "IPY_MODEL_d6ffc22e52244d38ad07371c4b58b965",
       "value": " 1.40k/1.40k [00:00&lt;00:00, 116kB/s]"
      }
     },
     "8e8dfc60e6dc4d038215d95c73376c67": {
      "model_module": "@jupyter-widgets/controls",
      "model_module_version": "1.5.0",
      "model_name": "DescriptionStyleModel",
      "state": {
       "_model_module": "@jupyter-widgets/controls",
       "_model_module_version": "1.5.0",
       "_model_name": "DescriptionStyleModel",
       "_view_count": null,
       "_view_module": "@jupyter-widgets/base",
       "_view_module_version": "1.2.0",
       "_view_name": "StyleView",
       "description_width": ""
      }
     },
     "8ee7c30484004f2aa33985c8703f27f0": {
      "model_module": "@jupyter-widgets/controls",
      "model_module_version": "1.5.0",
      "model_name": "FloatProgressModel",
      "state": {
       "_dom_classes": [],
       "_model_module": "@jupyter-widgets/controls",
       "_model_module_version": "1.5.0",
       "_model_name": "FloatProgressModel",
       "_view_count": null,
       "_view_module": "@jupyter-widgets/controls",
       "_view_module_version": "1.5.0",
       "_view_name": "ProgressView",
       "bar_style": "success",
       "description": "",
       "description_tooltip": null,
       "layout": "IPY_MODEL_596cd0a0c2f64a2391666f59f3bfbd5a",
       "max": 2201.0,
       "min": 0.0,
       "orientation": "horizontal",
       "style": "IPY_MODEL_324b51b462a544548b28322fb28f0a70",
       "value": 2201.0
      }
     },
     "91e07545e21f4328b38391900b6f45ee": {
      "model_module": "@jupyter-widgets/base",
      "model_module_version": "1.2.0",
      "model_name": "LayoutModel",
      "state": {
       "_model_module": "@jupyter-widgets/base",
       "_model_module_version": "1.2.0",
       "_model_name": "LayoutModel",
       "_view_count": null,
       "_view_module": "@jupyter-widgets/base",
       "_view_module_version": "1.2.0",
       "_view_name": "LayoutView",
       "align_content": null,
       "align_items": null,
       "align_self": null,
       "border": null,
       "bottom": null,
       "display": null,
       "flex": null,
       "flex_flow": null,
       "grid_area": null,
       "grid_auto_columns": null,
       "grid_auto_flow": null,
       "grid_auto_rows": null,
       "grid_column": null,
       "grid_gap": null,
       "grid_row": null,
       "grid_template_areas": null,
       "grid_template_columns": null,
       "grid_template_rows": null,
       "height": null,
       "justify_content": null,
       "justify_items": null,
       "left": null,
       "margin": null,
       "max_height": null,
       "max_width": null,
       "min_height": null,
       "min_width": null,
       "object_fit": null,
       "object_position": null,
       "order": null,
       "overflow": null,
       "overflow_x": null,
       "overflow_y": null,
       "padding": null,
       "right": null,
       "top": null,
       "visibility": null,
       "width": null
      }
     },
     "955628625df146f6969b25feaad6810a": {
      "model_module": "@jupyter-widgets/base",
      "model_module_version": "1.2.0",
      "model_name": "LayoutModel",
      "state": {
       "_model_module": "@jupyter-widgets/base",
       "_model_module_version": "1.2.0",
       "_model_name": "LayoutModel",
       "_view_count": null,
       "_view_module": "@jupyter-widgets/base",
       "_view_module_version": "1.2.0",
       "_view_name": "LayoutView",
       "align_content": null,
       "align_items": null,
       "align_self": null,
       "border": null,
       "bottom": null,
       "display": null,
       "flex": null,
       "flex_flow": null,
       "grid_area": null,
       "grid_auto_columns": null,
       "grid_auto_flow": null,
       "grid_auto_rows": null,
       "grid_column": null,
       "grid_gap": null,
       "grid_row": null,
       "grid_template_areas": null,
       "grid_template_columns": null,
       "grid_template_rows": null,
       "height": null,
       "justify_content": null,
       "justify_items": null,
       "left": null,
       "margin": null,
       "max_height": null,
       "max_width": null,
       "min_height": null,
       "min_width": null,
       "object_fit": null,
       "object_position": null,
       "order": null,
       "overflow": null,
       "overflow_x": null,
       "overflow_y": null,
       "padding": null,
       "right": null,
       "top": null,
       "visibility": null,
       "width": null
      }
     },
     "9af5fb45fd6b4f2f9167df06eb6f3411": {
      "model_module": "@jupyter-widgets/base",
      "model_module_version": "1.2.0",
      "model_name": "LayoutModel",
      "state": {
       "_model_module": "@jupyter-widgets/base",
       "_model_module_version": "1.2.0",
       "_model_name": "LayoutModel",
       "_view_count": null,
       "_view_module": "@jupyter-widgets/base",
       "_view_module_version": "1.2.0",
       "_view_name": "LayoutView",
       "align_content": null,
       "align_items": null,
       "align_self": null,
       "border": null,
       "bottom": null,
       "display": null,
       "flex": null,
       "flex_flow": null,
       "grid_area": null,
       "grid_auto_columns": null,
       "grid_auto_flow": null,
       "grid_auto_rows": null,
       "grid_column": null,
       "grid_gap": null,
       "grid_row": null,
       "grid_template_areas": null,
       "grid_template_columns": null,
       "grid_template_rows": null,
       "height": null,
       "justify_content": null,
       "justify_items": null,
       "left": null,
       "margin": null,
       "max_height": null,
       "max_width": null,
       "min_height": null,
       "min_width": null,
       "object_fit": null,
       "object_position": null,
       "order": null,
       "overflow": null,
       "overflow_x": null,
       "overflow_y": null,
       "padding": null,
       "right": null,
       "top": null,
       "visibility": null,
       "width": null
      }
     },
     "9b0b8d44c4464d7f95b159508523a281": {
      "model_module": "@jupyter-widgets/base",
      "model_module_version": "1.2.0",
      "model_name": "LayoutModel",
      "state": {
       "_model_module": "@jupyter-widgets/base",
       "_model_module_version": "1.2.0",
       "_model_name": "LayoutModel",
       "_view_count": null,
       "_view_module": "@jupyter-widgets/base",
       "_view_module_version": "1.2.0",
       "_view_name": "LayoutView",
       "align_content": null,
       "align_items": null,
       "align_self": null,
       "border": null,
       "bottom": null,
       "display": null,
       "flex": null,
       "flex_flow": null,
       "grid_area": null,
       "grid_auto_columns": null,
       "grid_auto_flow": null,
       "grid_auto_rows": null,
       "grid_column": null,
       "grid_gap": null,
       "grid_row": null,
       "grid_template_areas": null,
       "grid_template_columns": null,
       "grid_template_rows": null,
       "height": null,
       "justify_content": null,
       "justify_items": null,
       "left": null,
       "margin": null,
       "max_height": null,
       "max_width": null,
       "min_height": null,
       "min_width": null,
       "object_fit": null,
       "object_position": null,
       "order": null,
       "overflow": null,
       "overflow_x": null,
       "overflow_y": null,
       "padding": null,
       "right": null,
       "top": null,
       "visibility": null,
       "width": null
      }
     },
     "9bde719d894b4922ab3cfd588d020780": {
      "model_module": "@jupyter-widgets/controls",
      "model_module_version": "1.5.0",
      "model_name": "DescriptionStyleModel",
      "state": {
       "_model_module": "@jupyter-widgets/controls",
       "_model_module_version": "1.5.0",
       "_model_name": "DescriptionStyleModel",
       "_view_count": null,
       "_view_module": "@jupyter-widgets/base",
       "_view_module_version": "1.2.0",
       "_view_name": "StyleView",
       "description_width": ""
      }
     },
     "a39b1d889a334b1e98587950eb74c448": {
      "model_module": "@jupyter-widgets/controls",
      "model_module_version": "1.5.0",
      "model_name": "HTMLModel",
      "state": {
       "_dom_classes": [],
       "_model_module": "@jupyter-widgets/controls",
       "_model_module_version": "1.5.0",
       "_model_name": "HTMLModel",
       "_view_count": null,
       "_view_module": "@jupyter-widgets/controls",
       "_view_module_version": "1.5.0",
       "_view_name": "HTMLView",
       "description": "",
       "description_tooltip": null,
       "layout": "IPY_MODEL_f2d1f43d500f4100bb1b53393c72899e",
       "placeholder": "​",
       "style": "IPY_MODEL_b6d6cbe9c1c6446092c5da3238f85e03",
       "value": " 2.54k/2.54k [00:00&lt;00:00, 206kB/s]"
      }
     },
     "a8625bbd26e54933ac7323108886f47c": {
      "model_module": "@jupyter-widgets/base",
      "model_module_version": "1.2.0",
      "model_name": "LayoutModel",
      "state": {
       "_model_module": "@jupyter-widgets/base",
       "_model_module_version": "1.2.0",
       "_model_name": "LayoutModel",
       "_view_count": null,
       "_view_module": "@jupyter-widgets/base",
       "_view_module_version": "1.2.0",
       "_view_name": "LayoutView",
       "align_content": null,
       "align_items": null,
       "align_self": null,
       "border": null,
       "bottom": null,
       "display": null,
       "flex": null,
       "flex_flow": null,
       "grid_area": null,
       "grid_auto_columns": null,
       "grid_auto_flow": null,
       "grid_auto_rows": null,
       "grid_column": null,
       "grid_gap": null,
       "grid_row": null,
       "grid_template_areas": null,
       "grid_template_columns": null,
       "grid_template_rows": null,
       "height": null,
       "justify_content": null,
       "justify_items": null,
       "left": null,
       "margin": null,
       "max_height": null,
       "max_width": null,
       "min_height": null,
       "min_width": null,
       "object_fit": null,
       "object_position": null,
       "order": null,
       "overflow": null,
       "overflow_x": null,
       "overflow_y": null,
       "padding": null,
       "right": null,
       "top": null,
       "visibility": null,
       "width": null
      }
     },
     "ad55908914584aa984b31465898cf87a": {
      "model_module": "@jupyter-widgets/controls",
      "model_module_version": "1.5.0",
      "model_name": "FloatProgressModel",
      "state": {
       "_dom_classes": [],
       "_model_module": "@jupyter-widgets/controls",
       "_model_module_version": "1.5.0",
       "_model_name": "FloatProgressModel",
       "_view_count": null,
       "_view_module": "@jupyter-widgets/controls",
       "_view_module_version": "1.5.0",
       "_view_name": "ProgressView",
       "bar_style": "success",
       "description": "",
       "description_tooltip": null,
       "layout": "IPY_MODEL_91e07545e21f4328b38391900b6f45ee",
       "max": 2424064.0,
       "min": 0.0,
       "orientation": "horizontal",
       "style": "IPY_MODEL_4de5d8dd9f3345da9d0992e022480c26",
       "value": 2424064.0
      }
     },
     "b6d6cbe9c1c6446092c5da3238f85e03": {
      "model_module": "@jupyter-widgets/controls",
      "model_module_version": "1.5.0",
      "model_name": "DescriptionStyleModel",
      "state": {
       "_model_module": "@jupyter-widgets/controls",
       "_model_module_version": "1.5.0",
       "_model_name": "DescriptionStyleModel",
       "_view_count": null,
       "_view_module": "@jupyter-widgets/base",
       "_view_module_version": "1.2.0",
       "_view_name": "StyleView",
       "description_width": ""
      }
     },
     "bd659ae633b146b698f0cc10839549f5": {
      "model_module": "@jupyter-widgets/controls",
      "model_module_version": "1.5.0",
      "model_name": "HTMLModel",
      "state": {
       "_dom_classes": [],
       "_model_module": "@jupyter-widgets/controls",
       "_model_module_version": "1.5.0",
       "_model_name": "HTMLModel",
       "_view_count": null,
       "_view_module": "@jupyter-widgets/controls",
       "_view_module_version": "1.5.0",
       "_view_name": "HTMLView",
       "description": "",
       "description_tooltip": null,
       "layout": "IPY_MODEL_14b21ae9c9cd4a7b9d9d3ba12d08ed84",
       "placeholder": "​",
       "style": "IPY_MODEL_cadce4eca9744a76b480b8b867bdcda7",
       "value": "tokenizer.json: 100%"
      }
     },
     "be4f5ae4f801436f8865878449792515": {
      "model_module": "@jupyter-widgets/controls",
      "model_module_version": "1.5.0",
      "model_name": "HTMLModel",
      "state": {
       "_dom_classes": [],
       "_model_module": "@jupyter-widgets/controls",
       "_model_module_version": "1.5.0",
       "_model_name": "HTMLModel",
       "_view_count": null,
       "_view_module": "@jupyter-widgets/controls",
       "_view_module_version": "1.5.0",
       "_view_name": "HTMLView",
       "description": "",
       "description_tooltip": null,
       "layout": "IPY_MODEL_5953ad60cfc84465a5bf6673d12ae60a",
       "placeholder": "​",
       "style": "IPY_MODEL_c4a6613a98ed4ac19f9cd484a45b0afc",
       "value": "config.json: 100%"
      }
     },
     "bf409433c6274599b92b250fb51bb17f": {
      "model_module": "@jupyter-widgets/base",
      "model_module_version": "1.2.0",
      "model_name": "LayoutModel",
      "state": {
       "_model_module": "@jupyter-widgets/base",
       "_model_module_version": "1.2.0",
       "_model_name": "LayoutModel",
       "_view_count": null,
       "_view_module": "@jupyter-widgets/base",
       "_view_module_version": "1.2.0",
       "_view_name": "LayoutView",
       "align_content": null,
       "align_items": null,
       "align_self": null,
       "border": null,
       "bottom": null,
       "display": null,
       "flex": null,
       "flex_flow": null,
       "grid_area": null,
       "grid_auto_columns": null,
       "grid_auto_flow": null,
       "grid_auto_rows": null,
       "grid_column": null,
       "grid_gap": null,
       "grid_row": null,
       "grid_template_areas": null,
       "grid_template_columns": null,
       "grid_template_rows": null,
       "height": null,
       "justify_content": null,
       "justify_items": null,
       "left": null,
       "margin": null,
       "max_height": null,
       "max_width": null,
       "min_height": null,
       "min_width": null,
       "object_fit": null,
       "object_position": null,
       "order": null,
       "overflow": null,
       "overflow_x": null,
       "overflow_y": null,
       "padding": null,
       "right": null,
       "top": null,
       "visibility": null,
       "width": null
      }
     },
     "c4a6613a98ed4ac19f9cd484a45b0afc": {
      "model_module": "@jupyter-widgets/controls",
      "model_module_version": "1.5.0",
      "model_name": "DescriptionStyleModel",
      "state": {
       "_model_module": "@jupyter-widgets/controls",
       "_model_module_version": "1.5.0",
       "_model_name": "DescriptionStyleModel",
       "_view_count": null,
       "_view_module": "@jupyter-widgets/base",
       "_view_module_version": "1.2.0",
       "_view_name": "StyleView",
       "description_width": ""
      }
     },
     "c8be00c8288940f293949ef3a82f5f10": {
      "model_module": "@jupyter-widgets/controls",
      "model_module_version": "1.5.0",
      "model_name": "DescriptionStyleModel",
      "state": {
       "_model_module": "@jupyter-widgets/controls",
       "_model_module_version": "1.5.0",
       "_model_name": "DescriptionStyleModel",
       "_view_count": null,
       "_view_module": "@jupyter-widgets/base",
       "_view_module_version": "1.2.0",
       "_view_name": "StyleView",
       "description_width": ""
      }
     },
     "cadce4eca9744a76b480b8b867bdcda7": {
      "model_module": "@jupyter-widgets/controls",
      "model_module_version": "1.5.0",
      "model_name": "DescriptionStyleModel",
      "state": {
       "_model_module": "@jupyter-widgets/controls",
       "_model_module_version": "1.5.0",
       "_model_name": "DescriptionStyleModel",
       "_view_count": null,
       "_view_module": "@jupyter-widgets/base",
       "_view_module_version": "1.2.0",
       "_view_name": "StyleView",
       "description_width": ""
      }
     },
     "cc58736b422e41bbb1246cc20f0aff1c": {
      "model_module": "@jupyter-widgets/controls",
      "model_module_version": "1.5.0",
      "model_name": "HBoxModel",
      "state": {
       "_dom_classes": [],
       "_model_module": "@jupyter-widgets/controls",
       "_model_module_version": "1.5.0",
       "_model_name": "HBoxModel",
       "_view_count": null,
       "_view_module": "@jupyter-widgets/controls",
       "_view_module_version": "1.5.0",
       "_view_name": "HBoxView",
       "box_style": "",
       "children": [
        "IPY_MODEL_be4f5ae4f801436f8865878449792515",
        "IPY_MODEL_dfd0f8bdc7ad494081487f946c7164cf",
        "IPY_MODEL_8d18ea0619ed400f86aa19a236d18dac"
       ],
       "layout": "IPY_MODEL_f6175c8d4d124be39e28d09c1fc11dca"
      }
     },
     "ce68c93ffe464898b308bb1e95a2f706": {
      "model_module": "@jupyter-widgets/controls",
      "model_module_version": "1.5.0",
      "model_name": "HBoxModel",
      "state": {
       "_dom_classes": [],
       "_model_module": "@jupyter-widgets/controls",
       "_model_module_version": "1.5.0",
       "_model_name": "HBoxModel",
       "_view_count": null,
       "_view_module": "@jupyter-widgets/controls",
       "_view_module_version": "1.5.0",
       "_view_name": "HBoxView",
       "box_style": "",
       "children": [
        "IPY_MODEL_41aefebd245f4a73907ccb8b1313307e",
        "IPY_MODEL_62004e90f9fb4b7d90a4ced595d9f817",
        "IPY_MODEL_71e148d6ea744a008d81eb6eadbdb714"
       ],
       "layout": "IPY_MODEL_bf409433c6274599b92b250fb51bb17f"
      }
     },
     "d2f0dd7473034198bbfcc4aee0c6d0fa": {
      "model_module": "@jupyter-widgets/base",
      "model_module_version": "1.2.0",
      "model_name": "LayoutModel",
      "state": {
       "_model_module": "@jupyter-widgets/base",
       "_model_module_version": "1.2.0",
       "_model_name": "LayoutModel",
       "_view_count": null,
       "_view_module": "@jupyter-widgets/base",
       "_view_module_version": "1.2.0",
       "_view_name": "LayoutView",
       "align_content": null,
       "align_items": null,
       "align_self": null,
       "border": null,
       "bottom": null,
       "display": null,
       "flex": null,
       "flex_flow": null,
       "grid_area": null,
       "grid_auto_columns": null,
       "grid_auto_flow": null,
       "grid_auto_rows": null,
       "grid_column": null,
       "grid_gap": null,
       "grid_row": null,
       "grid_template_areas": null,
       "grid_template_columns": null,
       "grid_template_rows": null,
       "height": null,
       "justify_content": null,
       "justify_items": null,
       "left": null,
       "margin": null,
       "max_height": null,
       "max_width": null,
       "min_height": null,
       "min_width": null,
       "object_fit": null,
       "object_position": null,
       "order": null,
       "overflow": null,
       "overflow_x": null,
       "overflow_y": null,
       "padding": null,
       "right": null,
       "top": null,
       "visibility": null,
       "width": null
      }
     },
     "d6d16cf9e4cf4775b178c35b2c3995f5": {
      "model_module": "@jupyter-widgets/base",
      "model_module_version": "1.2.0",
      "model_name": "LayoutModel",
      "state": {
       "_model_module": "@jupyter-widgets/base",
       "_model_module_version": "1.2.0",
       "_model_name": "LayoutModel",
       "_view_count": null,
       "_view_module": "@jupyter-widgets/base",
       "_view_module_version": "1.2.0",
       "_view_name": "LayoutView",
       "align_content": null,
       "align_items": null,
       "align_self": null,
       "border": null,
       "bottom": null,
       "display": null,
       "flex": null,
       "flex_flow": null,
       "grid_area": null,
       "grid_auto_columns": null,
       "grid_auto_flow": null,
       "grid_auto_rows": null,
       "grid_column": null,
       "grid_gap": null,
       "grid_row": null,
       "grid_template_areas": null,
       "grid_template_columns": null,
       "grid_template_rows": null,
       "height": null,
       "justify_content": null,
       "justify_items": null,
       "left": null,
       "margin": null,
       "max_height": null,
       "max_width": null,
       "min_height": null,
       "min_width": null,
       "object_fit": null,
       "object_position": null,
       "order": null,
       "overflow": null,
       "overflow_x": null,
       "overflow_y": null,
       "padding": null,
       "right": null,
       "top": null,
       "visibility": null,
       "width": null
      }
     },
     "d6ffc22e52244d38ad07371c4b58b965": {
      "model_module": "@jupyter-widgets/controls",
      "model_module_version": "1.5.0",
      "model_name": "DescriptionStyleModel",
      "state": {
       "_model_module": "@jupyter-widgets/controls",
       "_model_module_version": "1.5.0",
       "_model_name": "DescriptionStyleModel",
       "_view_count": null,
       "_view_module": "@jupyter-widgets/base",
       "_view_module_version": "1.2.0",
       "_view_name": "StyleView",
       "description_width": ""
      }
     },
     "dc6d5844624442c19c47419fefc78e08": {
      "model_module": "@jupyter-widgets/base",
      "model_module_version": "1.2.0",
      "model_name": "LayoutModel",
      "state": {
       "_model_module": "@jupyter-widgets/base",
       "_model_module_version": "1.2.0",
       "_model_name": "LayoutModel",
       "_view_count": null,
       "_view_module": "@jupyter-widgets/base",
       "_view_module_version": "1.2.0",
       "_view_name": "LayoutView",
       "align_content": null,
       "align_items": null,
       "align_self": null,
       "border": null,
       "bottom": null,
       "display": null,
       "flex": null,
       "flex_flow": null,
       "grid_area": null,
       "grid_auto_columns": null,
       "grid_auto_flow": null,
       "grid_auto_rows": null,
       "grid_column": null,
       "grid_gap": null,
       "grid_row": null,
       "grid_template_areas": null,
       "grid_template_columns": null,
       "grid_template_rows": null,
       "height": null,
       "justify_content": null,
       "justify_items": null,
       "left": null,
       "margin": null,
       "max_height": null,
       "max_width": null,
       "min_height": null,
       "min_width": null,
       "object_fit": null,
       "object_position": null,
       "order": null,
       "overflow": null,
       "overflow_x": null,
       "overflow_y": null,
       "padding": null,
       "right": null,
       "top": null,
       "visibility": null,
       "width": null
      }
     },
     "dd5991974a38499980318274ff32d639": {
      "model_module": "@jupyter-widgets/controls",
      "model_module_version": "1.5.0",
      "model_name": "FloatProgressModel",
      "state": {
       "_dom_classes": [],
       "_model_module": "@jupyter-widgets/controls",
       "_model_module_version": "1.5.0",
       "_model_name": "FloatProgressModel",
       "_view_count": null,
       "_view_module": "@jupyter-widgets/controls",
       "_view_module_version": "1.5.0",
       "_view_name": "ProgressView",
       "bar_style": "success",
       "description": "",
       "description_tooltip": null,
       "layout": "IPY_MODEL_dc6d5844624442c19c47419fefc78e08",
       "max": 791656.0,
       "min": 0.0,
       "orientation": "horizontal",
       "style": "IPY_MODEL_206eb01463044e78a554cdc72bfa482e",
       "value": 791656.0
      }
     },
     "dfd0f8bdc7ad494081487f946c7164cf": {
      "model_module": "@jupyter-widgets/controls",
      "model_module_version": "1.5.0",
      "model_name": "FloatProgressModel",
      "state": {
       "_dom_classes": [],
       "_model_module": "@jupyter-widgets/controls",
       "_model_module_version": "1.5.0",
       "_model_name": "FloatProgressModel",
       "_view_count": null,
       "_view_module": "@jupyter-widgets/controls",
       "_view_module_version": "1.5.0",
       "_view_name": "ProgressView",
       "bar_style": "success",
       "description": "",
       "description_tooltip": null,
       "layout": "IPY_MODEL_69a2d64404a14b489689c5ed2c2fb9c1",
       "max": 1404.0,
       "min": 0.0,
       "orientation": "horizontal",
       "style": "IPY_MODEL_73efff5e5c7f43dda19509a13b55f9d6",
       "value": 1404.0
      }
     },
     "e207b7c814bd44328714d0473785f41a": {
      "model_module": "@jupyter-widgets/controls",
      "model_module_version": "1.5.0",
      "model_name": "DescriptionStyleModel",
      "state": {
       "_model_module": "@jupyter-widgets/controls",
       "_model_module_version": "1.5.0",
       "_model_name": "DescriptionStyleModel",
       "_view_count": null,
       "_view_module": "@jupyter-widgets/base",
       "_view_module_version": "1.2.0",
       "_view_name": "StyleView",
       "description_width": ""
      }
     },
     "e3ac3d58bd2b419ca610518148f6e531": {
      "model_module": "@jupyter-widgets/controls",
      "model_module_version": "1.5.0",
      "model_name": "DescriptionStyleModel",
      "state": {
       "_model_module": "@jupyter-widgets/controls",
       "_model_module_version": "1.5.0",
       "_model_name": "DescriptionStyleModel",
       "_view_count": null,
       "_view_module": "@jupyter-widgets/base",
       "_view_module_version": "1.2.0",
       "_view_name": "StyleView",
       "description_width": ""
      }
     },
     "e3d7ffed0c6d40aaad5d396f979e4d0c": {
      "model_module": "@jupyter-widgets/controls",
      "model_module_version": "1.5.0",
      "model_name": "DescriptionStyleModel",
      "state": {
       "_model_module": "@jupyter-widgets/controls",
       "_model_module_version": "1.5.0",
       "_model_name": "DescriptionStyleModel",
       "_view_count": null,
       "_view_module": "@jupyter-widgets/base",
       "_view_module_version": "1.2.0",
       "_view_name": "StyleView",
       "description_width": ""
      }
     },
     "e935347174b34ced887cdf5b5e60850e": {
      "model_module": "@jupyter-widgets/controls",
      "model_module_version": "1.5.0",
      "model_name": "HTMLModel",
      "state": {
       "_dom_classes": [],
       "_model_module": "@jupyter-widgets/controls",
       "_model_module_version": "1.5.0",
       "_model_name": "HTMLModel",
       "_view_count": null,
       "_view_module": "@jupyter-widgets/controls",
       "_view_module_version": "1.5.0",
       "_view_name": "HTMLView",
       "description": "",
       "description_tooltip": null,
       "layout": "IPY_MODEL_955628625df146f6969b25feaad6810a",
       "placeholder": "​",
       "style": "IPY_MODEL_e3d7ffed0c6d40aaad5d396f979e4d0c",
       "value": " 2.20k/2.20k [00:00&lt;00:00, 200kB/s]"
      }
     },
     "eaa48b0f027d4417ba6dd71d1e2535e3": {
      "model_module": "@jupyter-widgets/controls",
      "model_module_version": "1.5.0",
      "model_name": "HTMLModel",
      "state": {
       "_dom_classes": [],
       "_model_module": "@jupyter-widgets/controls",
       "_model_module_version": "1.5.0",
       "_model_name": "HTMLModel",
       "_view_count": null,
       "_view_module": "@jupyter-widgets/controls",
       "_view_module_version": "1.5.0",
       "_view_name": "HTMLView",
       "description": "",
       "description_tooltip": null,
       "layout": "IPY_MODEL_9af5fb45fd6b4f2f9167df06eb6f3411",
       "placeholder": "​",
       "style": "IPY_MODEL_3e3cf0647bba4d7e8d0d87aec7b6e793",
       "value": " 792k/792k [00:00&lt;00:00, 13.2MB/s]"
      }
     },
     "ee2bc853b9e7435f93ea4b4dce089128": {
      "model_module": "@jupyter-widgets/base",
      "model_module_version": "1.2.0",
      "model_name": "LayoutModel",
      "state": {
       "_model_module": "@jupyter-widgets/base",
       "_model_module_version": "1.2.0",
       "_model_name": "LayoutModel",
       "_view_count": null,
       "_view_module": "@jupyter-widgets/base",
       "_view_module_version": "1.2.0",
       "_view_name": "LayoutView",
       "align_content": null,
       "align_items": null,
       "align_self": null,
       "border": null,
       "bottom": null,
       "display": null,
       "flex": null,
       "flex_flow": null,
       "grid_area": null,
       "grid_auto_columns": null,
       "grid_auto_flow": null,
       "grid_auto_rows": null,
       "grid_column": null,
       "grid_gap": null,
       "grid_row": null,
       "grid_template_areas": null,
       "grid_template_columns": null,
       "grid_template_rows": null,
       "height": null,
       "justify_content": null,
       "justify_items": null,
       "left": null,
       "margin": null,
       "max_height": null,
       "max_width": null,
       "min_height": null,
       "min_width": null,
       "object_fit": null,
       "object_position": null,
       "order": null,
       "overflow": null,
       "overflow_x": null,
       "overflow_y": null,
       "padding": null,
       "right": null,
       "top": null,
       "visibility": null,
       "width": null
      }
     },
     "f0af4f606c094eefb0cdd5be1a3fa68f": {
      "model_module": "@jupyter-widgets/controls",
      "model_module_version": "1.5.0",
      "model_name": "DescriptionStyleModel",
      "state": {
       "_model_module": "@jupyter-widgets/controls",
       "_model_module_version": "1.5.0",
       "_model_name": "DescriptionStyleModel",
       "_view_count": null,
       "_view_module": "@jupyter-widgets/base",
       "_view_module_version": "1.2.0",
       "_view_name": "StyleView",
       "description_width": ""
      }
     },
     "f2d1f43d500f4100bb1b53393c72899e": {
      "model_module": "@jupyter-widgets/base",
      "model_module_version": "1.2.0",
      "model_name": "LayoutModel",
      "state": {
       "_model_module": "@jupyter-widgets/base",
       "_model_module_version": "1.2.0",
       "_model_name": "LayoutModel",
       "_view_count": null,
       "_view_module": "@jupyter-widgets/base",
       "_view_module_version": "1.2.0",
       "_view_name": "LayoutView",
       "align_content": null,
       "align_items": null,
       "align_self": null,
       "border": null,
       "bottom": null,
       "display": null,
       "flex": null,
       "flex_flow": null,
       "grid_area": null,
       "grid_auto_columns": null,
       "grid_auto_flow": null,
       "grid_auto_rows": null,
       "grid_column": null,
       "grid_gap": null,
       "grid_row": null,
       "grid_template_areas": null,
       "grid_template_columns": null,
       "grid_template_rows": null,
       "height": null,
       "justify_content": null,
       "justify_items": null,
       "left": null,
       "margin": null,
       "max_height": null,
       "max_width": null,
       "min_height": null,
       "min_width": null,
       "object_fit": null,
       "object_position": null,
       "order": null,
       "overflow": null,
       "overflow_x": null,
       "overflow_y": null,
       "padding": null,
       "right": null,
       "top": null,
       "visibility": null,
       "width": null
      }
     },
     "f6175c8d4d124be39e28d09c1fc11dca": {
      "model_module": "@jupyter-widgets/base",
      "model_module_version": "1.2.0",
      "model_name": "LayoutModel",
      "state": {
       "_model_module": "@jupyter-widgets/base",
       "_model_module_version": "1.2.0",
       "_model_name": "LayoutModel",
       "_view_count": null,
       "_view_module": "@jupyter-widgets/base",
       "_view_module_version": "1.2.0",
       "_view_name": "LayoutView",
       "align_content": null,
       "align_items": null,
       "align_self": null,
       "border": null,
       "bottom": null,
       "display": null,
       "flex": null,
       "flex_flow": null,
       "grid_area": null,
       "grid_auto_columns": null,
       "grid_auto_flow": null,
       "grid_auto_rows": null,
       "grid_column": null,
       "grid_gap": null,
       "grid_row": null,
       "grid_template_areas": null,
       "grid_template_columns": null,
       "grid_template_rows": null,
       "height": null,
       "justify_content": null,
       "justify_items": null,
       "left": null,
       "margin": null,
       "max_height": null,
       "max_width": null,
       "min_height": null,
       "min_width": null,
       "object_fit": null,
       "object_position": null,
       "order": null,
       "overflow": null,
       "overflow_x": null,
       "overflow_y": null,
       "padding": null,
       "right": null,
       "top": null,
       "visibility": null,
       "width": null
      }
     }
    },
    "version_major": 2,
    "version_minor": 0
   }
  }
 },
 "nbformat": 4,
 "nbformat_minor": 5
}
