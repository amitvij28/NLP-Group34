{
  "metadata": {
    "colab": {
      "provenance": [],
      "machine_shape": "hm",
      "gpuType": "T4"
    },
    "kernelspec": {
      "name": "python3",
      "display_name": "Python 3",
      "language": "python"
    },
    "language_info": {
      "name": "python",
      "version": "3.10.13",
      "mimetype": "text/x-python",
      "codemirror_mode": {
        "name": "ipython",
        "version": 3
      },
      "pygments_lexer": "ipython3",
      "nbconvert_exporter": "python",
      "file_extension": ".py"
    },
    "accelerator": "GPU",
    "widgets": {
      "application/vnd.jupyter.widget-state+json": {
        "dde617be720a4592b591ecc36640b1d1": {
          "model_module": "@jupyter-widgets/controls",
          "model_name": "HBoxModel",
          "model_module_version": "1.5.0",
          "state": {
            "_dom_classes": [],
            "_model_module": "@jupyter-widgets/controls",
            "_model_module_version": "1.5.0",
            "_model_name": "HBoxModel",
            "_view_count": null,
            "_view_module": "@jupyter-widgets/controls",
            "_view_module_version": "1.5.0",
            "_view_name": "HBoxView",
            "box_style": "",
            "children": [
              "IPY_MODEL_a31a5389efb44b00b20e514ea488e029",
              "IPY_MODEL_a75c5b91913c4240965c84c3a8bf9771",
              "IPY_MODEL_dee66f1ba2be4ac0ac4e87040aa53616"
            ],
            "layout": "IPY_MODEL_22aa0c3cf6544558b9d44841e472b618"
          }
        },
        "a31a5389efb44b00b20e514ea488e029": {
          "model_module": "@jupyter-widgets/controls",
          "model_name": "HTMLModel",
          "model_module_version": "1.5.0",
          "state": {
            "_dom_classes": [],
            "_model_module": "@jupyter-widgets/controls",
            "_model_module_version": "1.5.0",
            "_model_name": "HTMLModel",
            "_view_count": null,
            "_view_module": "@jupyter-widgets/controls",
            "_view_module_version": "1.5.0",
            "_view_name": "HTMLView",
            "description": "",
            "description_tooltip": null,
            "layout": "IPY_MODEL_b0d21bfb70a5462bb01bbee7d0d0685c",
            "placeholder": "​",
            "style": "IPY_MODEL_1ddd1be5085f47848e7d2123694bc4d0",
            "value": "pytorch_model.bin: 100%"
          }
        },
        "a75c5b91913c4240965c84c3a8bf9771": {
          "model_module": "@jupyter-widgets/controls",
          "model_name": "FloatProgressModel",
          "model_module_version": "1.5.0",
          "state": {
            "_dom_classes": [],
            "_model_module": "@jupyter-widgets/controls",
            "_model_module_version": "1.5.0",
            "_model_name": "FloatProgressModel",
            "_view_count": null,
            "_view_module": "@jupyter-widgets/controls",
            "_view_module_version": "1.5.0",
            "_view_name": "ProgressView",
            "bar_style": "success",
            "description": "",
            "description_tooltip": null,
            "layout": "IPY_MODEL_21b3ce3aebde4595924800d509fcbfa9",
            "max": 242087498,
            "min": 0,
            "orientation": "horizontal",
            "style": "IPY_MODEL_b44c539e1c594c4498bc2bfb06b373b4",
            "value": 242087498
          }
        },
        "dee66f1ba2be4ac0ac4e87040aa53616": {
          "model_module": "@jupyter-widgets/controls",
          "model_name": "HTMLModel",
          "model_module_version": "1.5.0",
          "state": {
            "_dom_classes": [],
            "_model_module": "@jupyter-widgets/controls",
            "_model_module_version": "1.5.0",
            "_model_name": "HTMLModel",
            "_view_count": null,
            "_view_module": "@jupyter-widgets/controls",
            "_view_module_version": "1.5.0",
            "_view_name": "HTMLView",
            "description": "",
            "description_tooltip": null,
            "layout": "IPY_MODEL_7e8c06263e5c40eab6047fff14d4dc87",
            "placeholder": "​",
            "style": "IPY_MODEL_f8e0e3014b5548d0981d9e4926fb624f",
            "value": " 242M/242M [00:02&lt;00:00, 78.0MB/s]"
          }
        },
        "22aa0c3cf6544558b9d44841e472b618": {
          "model_module": "@jupyter-widgets/base",
          "model_name": "LayoutModel",
          "model_module_version": "1.2.0",
          "state": {
            "_model_module": "@jupyter-widgets/base",
            "_model_module_version": "1.2.0",
            "_model_name": "LayoutModel",
            "_view_count": null,
            "_view_module": "@jupyter-widgets/base",
            "_view_module_version": "1.2.0",
            "_view_name": "LayoutView",
            "align_content": null,
            "align_items": null,
            "align_self": null,
            "border": null,
            "bottom": null,
            "display": null,
            "flex": null,
            "flex_flow": null,
            "grid_area": null,
            "grid_auto_columns": null,
            "grid_auto_flow": null,
            "grid_auto_rows": null,
            "grid_column": null,
            "grid_gap": null,
            "grid_row": null,
            "grid_template_areas": null,
            "grid_template_columns": null,
            "grid_template_rows": null,
            "height": null,
            "justify_content": null,
            "justify_items": null,
            "left": null,
            "margin": null,
            "max_height": null,
            "max_width": null,
            "min_height": null,
            "min_width": null,
            "object_fit": null,
            "object_position": null,
            "order": null,
            "overflow": null,
            "overflow_x": null,
            "overflow_y": null,
            "padding": null,
            "right": null,
            "top": null,
            "visibility": null,
            "width": null
          }
        },
        "b0d21bfb70a5462bb01bbee7d0d0685c": {
          "model_module": "@jupyter-widgets/base",
          "model_name": "LayoutModel",
          "model_module_version": "1.2.0",
          "state": {
            "_model_module": "@jupyter-widgets/base",
            "_model_module_version": "1.2.0",
            "_model_name": "LayoutModel",
            "_view_count": null,
            "_view_module": "@jupyter-widgets/base",
            "_view_module_version": "1.2.0",
            "_view_name": "LayoutView",
            "align_content": null,
            "align_items": null,
            "align_self": null,
            "border": null,
            "bottom": null,
            "display": null,
            "flex": null,
            "flex_flow": null,
            "grid_area": null,
            "grid_auto_columns": null,
            "grid_auto_flow": null,
            "grid_auto_rows": null,
            "grid_column": null,
            "grid_gap": null,
            "grid_row": null,
            "grid_template_areas": null,
            "grid_template_columns": null,
            "grid_template_rows": null,
            "height": null,
            "justify_content": null,
            "justify_items": null,
            "left": null,
            "margin": null,
            "max_height": null,
            "max_width": null,
            "min_height": null,
            "min_width": null,
            "object_fit": null,
            "object_position": null,
            "order": null,
            "overflow": null,
            "overflow_x": null,
            "overflow_y": null,
            "padding": null,
            "right": null,
            "top": null,
            "visibility": null,
            "width": null
          }
        },
        "1ddd1be5085f47848e7d2123694bc4d0": {
          "model_module": "@jupyter-widgets/controls",
          "model_name": "DescriptionStyleModel",
          "model_module_version": "1.5.0",
          "state": {
            "_model_module": "@jupyter-widgets/controls",
            "_model_module_version": "1.5.0",
            "_model_name": "DescriptionStyleModel",
            "_view_count": null,
            "_view_module": "@jupyter-widgets/base",
            "_view_module_version": "1.2.0",
            "_view_name": "StyleView",
            "description_width": ""
          }
        },
        "21b3ce3aebde4595924800d509fcbfa9": {
          "model_module": "@jupyter-widgets/base",
          "model_name": "LayoutModel",
          "model_module_version": "1.2.0",
          "state": {
            "_model_module": "@jupyter-widgets/base",
            "_model_module_version": "1.2.0",
            "_model_name": "LayoutModel",
            "_view_count": null,
            "_view_module": "@jupyter-widgets/base",
            "_view_module_version": "1.2.0",
            "_view_name": "LayoutView",
            "align_content": null,
            "align_items": null,
            "align_self": null,
            "border": null,
            "bottom": null,
            "display": null,
            "flex": null,
            "flex_flow": null,
            "grid_area": null,
            "grid_auto_columns": null,
            "grid_auto_flow": null,
            "grid_auto_rows": null,
            "grid_column": null,
            "grid_gap": null,
            "grid_row": null,
            "grid_template_areas": null,
            "grid_template_columns": null,
            "grid_template_rows": null,
            "height": null,
            "justify_content": null,
            "justify_items": null,
            "left": null,
            "margin": null,
            "max_height": null,
            "max_width": null,
            "min_height": null,
            "min_width": null,
            "object_fit": null,
            "object_position": null,
            "order": null,
            "overflow": null,
            "overflow_x": null,
            "overflow_y": null,
            "padding": null,
            "right": null,
            "top": null,
            "visibility": null,
            "width": null
          }
        },
        "b44c539e1c594c4498bc2bfb06b373b4": {
          "model_module": "@jupyter-widgets/controls",
          "model_name": "ProgressStyleModel",
          "model_module_version": "1.5.0",
          "state": {
            "_model_module": "@jupyter-widgets/controls",
            "_model_module_version": "1.5.0",
            "_model_name": "ProgressStyleModel",
            "_view_count": null,
            "_view_module": "@jupyter-widgets/base",
            "_view_module_version": "1.2.0",
            "_view_name": "StyleView",
            "bar_color": null,
            "description_width": ""
          }
        },
        "7e8c06263e5c40eab6047fff14d4dc87": {
          "model_module": "@jupyter-widgets/base",
          "model_name": "LayoutModel",
          "model_module_version": "1.2.0",
          "state": {
            "_model_module": "@jupyter-widgets/base",
            "_model_module_version": "1.2.0",
            "_model_name": "LayoutModel",
            "_view_count": null,
            "_view_module": "@jupyter-widgets/base",
            "_view_module_version": "1.2.0",
            "_view_name": "LayoutView",
            "align_content": null,
            "align_items": null,
            "align_self": null,
            "border": null,
            "bottom": null,
            "display": null,
            "flex": null,
            "flex_flow": null,
            "grid_area": null,
            "grid_auto_columns": null,
            "grid_auto_flow": null,
            "grid_auto_rows": null,
            "grid_column": null,
            "grid_gap": null,
            "grid_row": null,
            "grid_template_areas": null,
            "grid_template_columns": null,
            "grid_template_rows": null,
            "height": null,
            "justify_content": null,
            "justify_items": null,
            "left": null,
            "margin": null,
            "max_height": null,
            "max_width": null,
            "min_height": null,
            "min_width": null,
            "object_fit": null,
            "object_position": null,
            "order": null,
            "overflow": null,
            "overflow_x": null,
            "overflow_y": null,
            "padding": null,
            "right": null,
            "top": null,
            "visibility": null,
            "width": null
          }
        },
        "f8e0e3014b5548d0981d9e4926fb624f": {
          "model_module": "@jupyter-widgets/controls",
          "model_name": "DescriptionStyleModel",
          "model_module_version": "1.5.0",
          "state": {
            "_model_module": "@jupyter-widgets/controls",
            "_model_module_version": "1.5.0",
            "_model_name": "DescriptionStyleModel",
            "_view_count": null,
            "_view_module": "@jupyter-widgets/base",
            "_view_module_version": "1.2.0",
            "_view_name": "StyleView",
            "description_width": ""
          }
        }
      }
    },
    "kaggle": {
      "accelerator": "none",
      "dataSources": [
        {
          "sourceId": 8658376,
          "sourceType": "datasetVersion",
          "datasetId": 5187260
        },
        {
          "sourceId": 8658382,
          "sourceType": "datasetVersion",
          "datasetId": 5187265
        }
      ],
      "dockerImageVersionId": 30733,
      "isInternetEnabled": true,
      "language": "python",
      "sourceType": "notebook",
      "isGpuEnabled": false
    }
  },
  "nbformat_minor": 0,
  "nbformat": 4,
  "cells": [
    {
      "cell_type": "code",
      "source": [
        "import os\n",
        "os.environ['CUDA_LAUNCH_BLOCKING'] = \"1\"\n",
        "import torch\n",
        "import logging\n",
        "logging.basicConfig(level=logging.ERROR)\n",
        "# If there's a GPU available...\n",
        "if torch.cuda.is_available():\n",
        "\n",
        "    # Tell PyTorch to use the GPU.\n",
        "    device = torch.device(\"cuda\")\n",
        "\n",
        "    print('There are %d GPU(s) available.' % torch.cuda.device_count())\n",
        "\n",
        "    print('We will use the GPU:', torch.cuda.get_device_name(0))\n",
        "\n",
        "# If not...\n",
        "else:\n",
        "    print('No GPU available, using the CPU instead.')\n",
        "    device = torch.device(\"cpu\")"
      ],
      "metadata": {
        "id": "egtdWTvcOeTy",
        "outputId": "f3fdd5a0-031c-4f65-e54c-8b217de4bd32",
        "execution": {
          "iopub.status.busy": "2024-06-10T18:37:00.719670Z",
          "iopub.execute_input": "2024-06-10T18:37:00.720014Z",
          "iopub.status.idle": "2024-06-10T18:37:03.501963Z",
          "shell.execute_reply.started": "2024-06-10T18:37:00.719987Z",
          "shell.execute_reply": "2024-06-10T18:37:03.500932Z"
        },
        "trusted": true,
        "colab": {
          "base_uri": "https://localhost:8080/"
        }
      },
      "execution_count": null,
      "outputs": [
        {
          "output_type": "stream",
          "name": "stdout",
          "text": [
            "There are 1 GPU(s) available.\n",
            "We will use the GPU: Tesla T4\n"
          ]
        }
      ]
    },
    {
      "cell_type": "code",
      "source": [
        "!pip install transformers"
      ],
      "metadata": {
        "id": "8AlOzas-OzjA",
        "outputId": "c7f0f3fe-293d-435a-a2d5-d3f273551829",
        "execution": {
          "iopub.status.busy": "2024-06-10T18:59:14.517040Z",
          "iopub.execute_input": "2024-06-10T18:59:14.517439Z",
          "iopub.status.idle": "2024-06-10T18:59:26.691011Z",
          "shell.execute_reply.started": "2024-06-10T18:59:14.517409Z",
          "shell.execute_reply": "2024-06-10T18:59:26.689825Z"
        },
        "trusted": true,
        "colab": {
          "base_uri": "https://localhost:8080/"
        }
      },
      "execution_count": null,
      "outputs": [
        {
          "output_type": "stream",
          "name": "stdout",
          "text": [
            "Requirement already satisfied: transformers in /usr/local/lib/python3.10/dist-packages (4.41.2)\n",
            "Requirement already satisfied: filelock in /usr/local/lib/python3.10/dist-packages (from transformers) (3.14.0)\n",
            "Requirement already satisfied: huggingface-hub<1.0,>=0.23.0 in /usr/local/lib/python3.10/dist-packages (from transformers) (0.23.2)\n",
            "Requirement already satisfied: numpy>=1.17 in /usr/local/lib/python3.10/dist-packages (from transformers) (1.25.2)\n",
            "Requirement already satisfied: packaging>=20.0 in /usr/local/lib/python3.10/dist-packages (from transformers) (24.0)\n",
            "Requirement already satisfied: pyyaml>=5.1 in /usr/local/lib/python3.10/dist-packages (from transformers) (6.0.1)\n",
            "Requirement already satisfied: regex!=2019.12.17 in /usr/local/lib/python3.10/dist-packages (from transformers) (2024.5.15)\n",
            "Requirement already satisfied: requests in /usr/local/lib/python3.10/dist-packages (from transformers) (2.31.0)\n",
            "Requirement already satisfied: tokenizers<0.20,>=0.19 in /usr/local/lib/python3.10/dist-packages (from transformers) (0.19.1)\n",
            "Requirement already satisfied: safetensors>=0.4.1 in /usr/local/lib/python3.10/dist-packages (from transformers) (0.4.3)\n",
            "Requirement already satisfied: tqdm>=4.27 in /usr/local/lib/python3.10/dist-packages (from transformers) (4.66.4)\n",
            "Requirement already satisfied: fsspec>=2023.5.0 in /usr/local/lib/python3.10/dist-packages (from huggingface-hub<1.0,>=0.23.0->transformers) (2023.6.0)\n",
            "Requirement already satisfied: typing-extensions>=3.7.4.3 in /usr/local/lib/python3.10/dist-packages (from huggingface-hub<1.0,>=0.23.0->transformers) (4.12.1)\n",
            "Requirement already satisfied: charset-normalizer<4,>=2 in /usr/local/lib/python3.10/dist-packages (from requests->transformers) (3.3.2)\n",
            "Requirement already satisfied: idna<4,>=2.5 in /usr/local/lib/python3.10/dist-packages (from requests->transformers) (3.7)\n",
            "Requirement already satisfied: urllib3<3,>=1.21.1 in /usr/local/lib/python3.10/dist-packages (from requests->transformers) (2.0.7)\n",
            "Requirement already satisfied: certifi>=2017.4.17 in /usr/local/lib/python3.10/dist-packages (from requests->transformers) (2024.6.2)\n"
          ]
        }
      ]
    },
    {
      "cell_type": "code",
      "source": [
        "from transformers import AutoTokenizer,AutoModel\n",
        "\n",
        "# Load the BERT tokenizer.\n",
        "print('Loading FLANT5 tokenizer...')\n",
        "tokenizer = AutoTokenizer.from_pretrained('nielsr/nt5-small-rc1', do_lower_case=True)"
      ],
      "metadata": {
        "id": "C_-uxEt3O1Y_",
        "outputId": "73c0e420-632d-4c15-bffc-9371b050c4ac",
        "execution": {
          "iopub.status.busy": "2024-06-10T18:37:27.033686Z",
          "iopub.execute_input": "2024-06-10T18:37:27.034603Z",
          "iopub.status.idle": "2024-06-10T18:37:31.731568Z",
          "shell.execute_reply.started": "2024-06-10T18:37:27.034554Z",
          "shell.execute_reply": "2024-06-10T18:37:31.730572Z"
        },
        "trusted": true,
        "colab": {
          "base_uri": "https://localhost:8080/"
        }
      },
      "execution_count": null,
      "outputs": [
        {
          "output_type": "stream",
          "name": "stdout",
          "text": [
            "Loading FLANT5 tokenizer...\n"
          ]
        }
      ]
    },
    {
      "cell_type": "code",
      "source": [
        "import json\n",
        "with open(\"/content/train_claims_quantemp_bm25.json\") as f:\n",
        "  train_data = json.load(f)\n",
        "len(train_data\n",
        "    )"
      ],
      "metadata": {
        "id": "wIK7glJvkXRH",
        "outputId": "2555187e-0f57-489f-9777-feec2c9e6a9d",
        "execution": {
          "iopub.status.busy": "2024-06-10T18:37:37.659502Z",
          "iopub.execute_input": "2024-06-10T18:37:37.660347Z",
          "iopub.status.idle": "2024-06-10T18:37:37.978006Z",
          "shell.execute_reply.started": "2024-06-10T18:37:37.660313Z",
          "shell.execute_reply": "2024-06-10T18:37:37.977088Z"
        },
        "trusted": true,
        "colab": {
          "base_uri": "https://localhost:8080/"
        }
      },
      "execution_count": null,
      "outputs": [
        {
          "output_type": "execute_result",
          "data": {
            "text/plain": [
              "9935"
            ]
          },
          "metadata": {},
          "execution_count": 8
        }
      ]
    },
    {
      "cell_type": "code",
      "source": [
        "train_data[-1]"
      ],
      "metadata": {
        "id": "LjbPPEMKW4CM",
        "outputId": "e9adb986-534b-4a50-fccf-e4870313e6ce",
        "execution": {
          "iopub.status.busy": "2024-06-10T18:37:41.039980Z",
          "iopub.execute_input": "2024-06-10T18:37:41.040416Z",
          "iopub.status.idle": "2024-06-10T18:37:41.048029Z",
          "shell.execute_reply.started": "2024-06-10T18:37:41.040386Z",
          "shell.execute_reply": "2024-06-10T18:37:41.047135Z"
        },
        "trusted": true,
        "colab": {
          "base_uri": "https://localhost:8080/"
        }
      },
      "execution_count": null,
      "outputs": [
        {
          "output_type": "execute_result",
          "data": {
            "text/plain": [
              "{'claim': 'FAKE:  Commandos from &#8220;Berkut&#8221; who refused to kneel have been burned alive in Lviv',\n",
              " 'label': 'False',\n",
              " 'doc': \"head injuries are rising dramatically--about 1.7 million people have a tbi each year. millions of americans are alive today who have had a head injury and now ...these settlements underwent periodical acts of destruction and re-creation, as they were burned and then rebuilt every 6080 years. ... have been consistently ...the corral fire was a wildfire that burned from november 24 until november 27, 2007 in the malibu creek state park. the fire, which burned 4,901 acres (20 ...the only animals skinned alive are skinned alive by peta, greenpeace and ... fact check: was this 7-month-old white fox skinned alive for lady gaga's fur ...the american dream is alive and well in this memoir of a muslim immigrant from india who arrived planning to start a business, working so hard toward his ...\",\n",
              " 'retrieved_evidence': ['head injuries are rising dramatically--about 1.7 million people have a tbi each year. millions of americans are alive today who have had a head injury and now ...',\n",
              "  'these settlements underwent periodical acts of destruction and re-creation, as they were burned and then rebuilt every 6080 years. ... have been consistently ...',\n",
              "  'the corral fire was a wildfire that burned from november 24 until november 27, 2007 in the malibu creek state park. the fire, which burned 4,901 acres (20 ...',\n",
              "  \"the only animals skinned alive are skinned alive by peta, greenpeace and ... fact check: was this 7-month-old white fox skinned alive for lady gaga's fur ...\",\n",
              "  'the american dream is alive and well in this memoir of a muslim immigrant from india who arrived planning to start a business, working so hard toward his ...']}"
            ]
          },
          "metadata": {},
          "execution_count": 9
        }
      ]
    },
    {
      "cell_type": "code",
      "source": [
        "import json\n",
        "with open(\"/content/val_claims_quantemp_bm25.json\") as f:\n",
        "  val_data = json.load(f)\n",
        "len(val_data\n",
        "    )"
      ],
      "metadata": {
        "id": "HD0NZfDFkvW1",
        "outputId": "3f010d8d-d4d3-4445-fbd7-10689c13b873",
        "execution": {
          "iopub.status.busy": "2024-06-10T18:38:01.624696Z",
          "iopub.execute_input": "2024-06-10T18:38:01.625088Z",
          "iopub.status.idle": "2024-06-10T18:38:01.780605Z",
          "shell.execute_reply.started": "2024-06-10T18:38:01.625062Z",
          "shell.execute_reply": "2024-06-10T18:38:01.779714Z"
        },
        "trusted": true,
        "colab": {
          "base_uri": "https://localhost:8080/"
        }
      },
      "execution_count": null,
      "outputs": [
        {
          "output_type": "execute_result",
          "data": {
            "text/plain": [
              "3084"
            ]
          },
          "metadata": {},
          "execution_count": 10
        }
      ]
    },
    {
      "cell_type": "raw",
      "source": [
        "val_data[-1]"
      ],
      "metadata": {
        "id": "ZT-q3h48kxdg",
        "outputId": "d5290e0b-29f5-4839-c1b2-065411713679",
        "execution": {
          "iopub.status.busy": "2024-06-10T17:34:11.350449Z",
          "iopub.execute_input": "2024-06-10T17:34:11.351525Z",
          "iopub.status.idle": "2024-06-10T17:34:11.359041Z",
          "shell.execute_reply.started": "2024-06-10T17:34:11.351478Z",
          "shell.execute_reply": "2024-06-10T17:34:11.357769Z"
        }
      }
    },
    {
      "cell_type": "code",
      "source": [
        "from sklearn.preprocessing import LabelEncoder\n",
        "LE = LabelEncoder()"
      ],
      "metadata": {
        "id": "7cYv6F4Nk4SJ",
        "execution": {
          "iopub.status.busy": "2024-06-10T18:38:06.415092Z",
          "iopub.execute_input": "2024-06-10T18:38:06.415766Z",
          "iopub.status.idle": "2024-06-10T18:38:06.865431Z",
          "shell.execute_reply.started": "2024-06-10T18:38:06.415732Z",
          "shell.execute_reply": "2024-06-10T18:38:06.864460Z"
        },
        "trusted": true
      },
      "execution_count": null,
      "outputs": []
    },
    {
      "cell_type": "code",
      "source": [
        "def get_features(data):\n",
        "  features = []\n",
        "  evidences = []\n",
        "\n",
        "  for index, fact in enumerate(data):\n",
        "    claim = fact[\"claim\"]\n",
        "\n",
        "\n",
        "    feature = \"[Claim]:\"+claim+\"[Evidences]:\"+\".\".join(fact[\"retrieved_evidence\"])\n",
        "    features.append(feature)\n",
        "  return features\n",
        "\n",
        "\n"
      ],
      "metadata": {
        "id": "8eKFjiC3i8Yx",
        "execution": {
          "iopub.status.busy": "2024-06-10T18:38:17.594744Z",
          "iopub.execute_input": "2024-06-10T18:38:17.595124Z",
          "iopub.status.idle": "2024-06-10T18:38:17.601660Z",
          "shell.execute_reply.started": "2024-06-10T18:38:17.595096Z",
          "shell.execute_reply": "2024-06-10T18:38:17.600642Z"
        },
        "trusted": true
      },
      "execution_count": null,
      "outputs": []
    },
    {
      "cell_type": "code",
      "source": [
        "train_features = get_features(train_data)"
      ],
      "metadata": {
        "id": "qY7Gux6Yn5rI",
        "execution": {
          "iopub.status.busy": "2024-06-10T18:38:26.576509Z",
          "iopub.execute_input": "2024-06-10T18:38:26.577392Z",
          "iopub.status.idle": "2024-06-10T18:38:26.605821Z",
          "shell.execute_reply.started": "2024-06-10T18:38:26.577356Z",
          "shell.execute_reply": "2024-06-10T18:38:26.605020Z"
        },
        "trusted": true
      },
      "execution_count": null,
      "outputs": []
    },
    {
      "cell_type": "code",
      "source": [
        "len(train_features)"
      ],
      "metadata": {
        "id": "VJ5AoF54oV2t",
        "outputId": "d2249fa8-02d3-4d8f-b013-89233afd9099",
        "execution": {
          "iopub.status.busy": "2024-06-10T18:38:30.156037Z",
          "iopub.execute_input": "2024-06-10T18:38:30.157092Z",
          "iopub.status.idle": "2024-06-10T18:38:30.163186Z",
          "shell.execute_reply.started": "2024-06-10T18:38:30.157058Z",
          "shell.execute_reply": "2024-06-10T18:38:30.162045Z"
        },
        "trusted": true,
        "colab": {
          "base_uri": "https://localhost:8080/"
        }
      },
      "execution_count": null,
      "outputs": [
        {
          "output_type": "execute_result",
          "data": {
            "text/plain": [
              "9935"
            ]
          },
          "metadata": {},
          "execution_count": 14
        }
      ]
    },
    {
      "cell_type": "code",
      "source": [
        "train_features[0]"
      ],
      "metadata": {
        "id": "FHml9DUHn_bh",
        "outputId": "903bb3e7-49b6-499c-c41b-a4065017e1f9",
        "execution": {
          "iopub.status.busy": "2024-06-10T18:38:32.628076Z",
          "iopub.execute_input": "2024-06-10T18:38:32.628885Z",
          "iopub.status.idle": "2024-06-10T18:38:32.634668Z",
          "shell.execute_reply.started": "2024-06-10T18:38:32.628852Z",
          "shell.execute_reply": "2024-06-10T18:38:32.633554Z"
        },
        "trusted": true,
        "colab": {
          "base_uri": "https://localhost:8080/",
          "height": 145
        }
      },
      "execution_count": null,
      "outputs": [
        {
          "output_type": "execute_result",
          "data": {
            "text/plain": [
              "\"[Claim]:In her budget speech, Nirmala Sitharaman claimed that the Government distributed 35,000 crore LED bulbs in the country.[Evidences]:5 gen 2022  the power ministry has distributed 36.78 crore led lights under the ujala programme in seven years, which saved 47778 million units of ....5 gen 2023  state-owned energy efficiency services ltd (eesl) on thursday said it has distributed over 36.8 crore led bulbs under the government's unnat ....5 gen 2022  ujala completes 7 years of energy-efficient and affordable led distribution. 36.78 crore leds distributed across the country under ujala ujala ....5 gen 2022  with ujala, the cost of led bulbs has come down by 85 per cent. this ... for distribution of led bulbs under the ujala programme, it stated..nov 22, 2013  from incandescent bulbs to fluorescents to leds, we're exploring the long history of the light bulb.\""
            ],
            "application/vnd.google.colaboratory.intrinsic+json": {
              "type": "string"
            }
          },
          "metadata": {},
          "execution_count": 15
        }
      ]
    },
    {
      "cell_type": "code",
      "source": [
        "val_features = get_features(val_data)"
      ],
      "metadata": {
        "id": "SeHEwL3doMD6",
        "execution": {
          "iopub.status.busy": "2024-06-10T18:38:41.012892Z",
          "iopub.execute_input": "2024-06-10T18:38:41.013260Z",
          "iopub.status.idle": "2024-06-10T18:38:41.025368Z",
          "shell.execute_reply.started": "2024-06-10T18:38:41.013233Z",
          "shell.execute_reply": "2024-06-10T18:38:41.024407Z"
        },
        "trusted": true
      },
      "execution_count": null,
      "outputs": []
    },
    {
      "cell_type": "code",
      "source": [
        "len(val_features)"
      ],
      "metadata": {
        "id": "DQ-ipHaHoiY-",
        "outputId": "9751585d-8a5e-4b48-852a-bd066d492fd1",
        "execution": {
          "iopub.status.busy": "2024-06-10T18:38:44.503060Z",
          "iopub.execute_input": "2024-06-10T18:38:44.503848Z",
          "iopub.status.idle": "2024-06-10T18:38:44.509605Z",
          "shell.execute_reply.started": "2024-06-10T18:38:44.503812Z",
          "shell.execute_reply": "2024-06-10T18:38:44.508655Z"
        },
        "trusted": true,
        "colab": {
          "base_uri": "https://localhost:8080/"
        }
      },
      "execution_count": null,
      "outputs": [
        {
          "output_type": "execute_result",
          "data": {
            "text/plain": [
              "3084"
            ]
          },
          "metadata": {},
          "execution_count": 17
        }
      ]
    },
    {
      "cell_type": "code",
      "source": [
        "val_features[2]"
      ],
      "metadata": {
        "id": "Iyh75sm2ok_6",
        "outputId": "1c79e436-0e5c-4fe8-c86f-ab9bb583b0bd",
        "execution": {
          "iopub.status.busy": "2024-06-10T18:38:47.470734Z",
          "iopub.execute_input": "2024-06-10T18:38:47.471604Z",
          "iopub.status.idle": "2024-06-10T18:38:47.477041Z",
          "shell.execute_reply.started": "2024-06-10T18:38:47.471552Z",
          "shell.execute_reply": "2024-06-10T18:38:47.476195Z"
        },
        "trusted": true,
        "colab": {
          "base_uri": "https://localhost:8080/",
          "height": 145
        }
      },
      "execution_count": null,
      "outputs": [
        {
          "output_type": "execute_result",
          "data": {
            "text/plain": [
              "'[Claim]:Says Dino Rossi \"stripped\" health care \"from 45,000 children.\"[Evidences]:... seniors can be charged five times what anybody else is charged for health care for pre-existing conditions\" under the republican health care bill. the ....state and local nondiscrimination laws prohibit health care discrimination against transgender people in many circumstances. ... health care to non-binary people ....spent on these beneficiaries, on average, according to medpac. this overall health care spending trends: higher health care price and cost.south carolina and across the country is health care costs themselves. single-payer health care system. kucinich: i actually introduced the.services provided at the primary health care level, are in fact, a shifting ... ayushman bharat: comprehensive primary health care through health and wellness ...96 pages'"
            ],
            "application/vnd.google.colaboratory.intrinsic+json": {
              "type": "string"
            }
          },
          "metadata": {},
          "execution_count": 18
        }
      ]
    },
    {
      "cell_type": "code",
      "source": [
        "train_labels = [fact[\"label\"] for fact in train_data]\n",
        "val_labels = [fact[\"label\"] for fact in val_data]\n"
      ],
      "metadata": {
        "id": "98BSyfIZontr",
        "execution": {
          "iopub.status.busy": "2024-06-10T18:39:15.956678Z",
          "iopub.execute_input": "2024-06-10T18:39:15.957288Z",
          "iopub.status.idle": "2024-06-10T18:39:15.963372Z",
          "shell.execute_reply.started": "2024-06-10T18:39:15.957255Z",
          "shell.execute_reply": "2024-06-10T18:39:15.962366Z"
        },
        "trusted": true
      },
      "execution_count": null,
      "outputs": []
    },
    {
      "cell_type": "code",
      "source": [
        "train_labels_final = LE.fit_transform(train_labels)\n",
        "train_labels_final"
      ],
      "metadata": {
        "id": "XJYf-sJ4pHCd",
        "outputId": "ac915488-382d-4c75-8877-84aa457ca5d7",
        "execution": {
          "iopub.status.busy": "2024-06-10T18:39:18.972986Z",
          "iopub.execute_input": "2024-06-10T18:39:18.973830Z",
          "iopub.status.idle": "2024-06-10T18:39:18.988568Z",
          "shell.execute_reply.started": "2024-06-10T18:39:18.973802Z",
          "shell.execute_reply": "2024-06-10T18:39:18.987363Z"
        },
        "trusted": true,
        "colab": {
          "base_uri": "https://localhost:8080/"
        }
      },
      "execution_count": null,
      "outputs": [
        {
          "output_type": "execute_result",
          "data": {
            "text/plain": [
              "array([1, 1, 1, ..., 0, 0, 1])"
            ]
          },
          "metadata": {},
          "execution_count": 20
        }
      ]
    },
    {
      "cell_type": "code",
      "source": [
        "train_labels_final[:20]"
      ],
      "metadata": {
        "id": "-cjPop6cpdiA",
        "outputId": "d0bdb580-e8b1-4861-db5e-26f5bf4a7ff7",
        "execution": {
          "iopub.status.busy": "2024-06-10T18:39:22.141927Z",
          "iopub.execute_input": "2024-06-10T18:39:22.142300Z",
          "iopub.status.idle": "2024-06-10T18:39:22.148746Z",
          "shell.execute_reply.started": "2024-06-10T18:39:22.142272Z",
          "shell.execute_reply": "2024-06-10T18:39:22.147757Z"
        },
        "trusted": true,
        "colab": {
          "base_uri": "https://localhost:8080/"
        }
      },
      "execution_count": null,
      "outputs": [
        {
          "output_type": "execute_result",
          "data": {
            "text/plain": [
              "array([1, 1, 1, 1, 1, 0, 1, 2, 1, 1, 1, 1, 1, 0, 1, 2, 2, 1, 1, 0])"
            ]
          },
          "metadata": {},
          "execution_count": 21
        }
      ]
    },
    {
      "cell_type": "code",
      "source": [
        "val_labels_final = LE.transform(val_labels)\n",
        "val_labels_final"
      ],
      "metadata": {
        "id": "9dO586pApTPH",
        "outputId": "ee7f05fb-433c-4053-b701-f01009839687",
        "execution": {
          "iopub.status.busy": "2024-06-10T18:39:25.212235Z",
          "iopub.execute_input": "2024-06-10T18:39:25.212817Z",
          "iopub.status.idle": "2024-06-10T18:39:25.223104Z",
          "shell.execute_reply.started": "2024-06-10T18:39:25.212776Z",
          "shell.execute_reply": "2024-06-10T18:39:25.222150Z"
        },
        "trusted": true,
        "colab": {
          "base_uri": "https://localhost:8080/"
        }
      },
      "execution_count": null,
      "outputs": [
        {
          "output_type": "execute_result",
          "data": {
            "text/plain": [
              "array([1, 1, 2, ..., 1, 0, 2])"
            ]
          },
          "metadata": {},
          "execution_count": 22
        }
      ]
    },
    {
      "cell_type": "code",
      "source": [
        "val_data[-1]"
      ],
      "metadata": {
        "id": "sDzDVC1lnmwD",
        "outputId": "f7259a3e-23b4-48ee-e397-bd301bdcacae",
        "execution": {
          "iopub.status.busy": "2024-06-10T18:39:28.314988Z",
          "iopub.execute_input": "2024-06-10T18:39:28.315965Z",
          "iopub.status.idle": "2024-06-10T18:39:28.322378Z",
          "shell.execute_reply.started": "2024-06-10T18:39:28.315931Z",
          "shell.execute_reply": "2024-06-10T18:39:28.321289Z"
        },
        "trusted": true,
        "colab": {
          "base_uri": "https://localhost:8080/"
        }
      },
      "execution_count": null,
      "outputs": [
        {
          "output_type": "execute_result",
          "data": {
            "text/plain": [
              "{'claim': 'The Biden administration \"published a study concluding 4 (of) 5 new cars on the road by 2050 will still require liquid fuels.\"',\n",
              " 'label': 'True',\n",
              " 'doc': \"5 ott 2020  on my second visit to the site of the former huanan seafood wholesale market, at the intersection of new china road and development road, ...5 avr. 2012  africa's urban population will increase from 414 million to over 1.2 billion by 2050 ... india and china. also, the 2011 revision, for the first ...5 apr 2023  the state, heavily dependent on the auto industry, is a case study in whether electric vehicles will create or destroy jobs.5 apr 2021  a new space jam movie is coming, but the original still remains a classic. the promotional site for space jam still exists, and has remained ...5 set 2023  new jersey will raise its gasoline tax by about a penny per gallon next month, gov. phil murphy's administration said friday.\",\n",
              " 'retrieved_evidence': ['5 ott 2020  on my second visit to the site of the former huanan seafood wholesale market, at the intersection of new china road and development road, ...',\n",
              "  \"5 avr. 2012  africa's urban population will increase from 414 million to over 1.2 billion by 2050 ... india and china. also, the 2011 revision, for the first ...\",\n",
              "  '5 apr 2023  the state, heavily dependent on the auto industry, is a case study in whether electric vehicles will create or destroy jobs.',\n",
              "  '5 apr 2021  a new space jam movie is coming, but the original still remains a classic. the promotional site for space jam still exists, and has remained ...',\n",
              "  \"5 set 2023  new jersey will raise its gasoline tax by about a penny per gallon next month, gov. phil murphy's administration said friday.\"]}"
            ]
          },
          "metadata": {},
          "execution_count": 23
        }
      ]
    },
    {
      "cell_type": "code",
      "source": [
        "len(val_labels_final)"
      ],
      "metadata": {
        "id": "FardkyUtyT2B",
        "outputId": "ab5512af-b680-42e2-ef03-2eb615473bac",
        "execution": {
          "iopub.status.busy": "2024-06-10T18:39:33.102000Z",
          "iopub.execute_input": "2024-06-10T18:39:33.103022Z",
          "iopub.status.idle": "2024-06-10T18:39:33.109673Z",
          "shell.execute_reply.started": "2024-06-10T18:39:33.102977Z",
          "shell.execute_reply": "2024-06-10T18:39:33.108543Z"
        },
        "trusted": true,
        "colab": {
          "base_uri": "https://localhost:8080/"
        }
      },
      "execution_count": null,
      "outputs": [
        {
          "output_type": "execute_result",
          "data": {
            "text/plain": [
              "3084"
            ]
          },
          "metadata": {},
          "execution_count": 24
        }
      ]
    },
    {
      "cell_type": "code",
      "source": [
        "input_ids = []\n",
        "attention_masks = []\n",
        "\n",
        "for sent in train_features:\n",
        "    # `encode_plus` will:\n",
        "    #   (1) Tokenize the sentence.\n",
        "    #   (2) Prepend the `[CLS]` token to the start.\n",
        "    #   (3) Append the `[SEP]` token to the end.\n",
        "    #   (4) Map tokens to their IDs.\n",
        "    #   (5) Pad or truncate the sentence to `max_length`\n",
        "    #   (6) Create attention masks for [PAD] tokens.\n",
        "    encoded_dict = tokenizer.encode_plus(\n",
        "                        sent,                      # Sentence to encode.\n",
        "                        add_special_tokens = True, # Add '[CLS]' and '[SEP]'\n",
        "                        max_length = 256,           # Pad & truncate all sentences.\n",
        "                        pad_to_max_length = True,\n",
        "                        truncation=True,\n",
        "                        return_attention_mask = True,   # Construct attn. masks.\n",
        "                        return_tensors = 'pt',     # Return pytorch tensors.\n",
        "                   )\n",
        "\n",
        "    # Add the encoded sentence to the list.\n",
        "    input_ids.append(encoded_dict['input_ids'])\n",
        "\n",
        "    # And its attention mask (simply differentiates padding from non-padding).\n",
        "    attention_masks.append(encoded_dict['attention_mask'])\n",
        "# Convert the lists into tensors.\n",
        "input_ids = torch.cat(input_ids, dim=0)\n",
        "attention_masks = torch.cat(attention_masks, dim=0)\n",
        "\n",
        "\n",
        "# Print sentence 0, now as a list of IDs.\n",
        "print('Original: ', train_features[0])\n",
        "print('Token IDs:', input_ids[0])"
      ],
      "metadata": {
        "id": "M9xEVEmzpcSS",
        "outputId": "12ac0317-860f-440c-e0d9-a7b94835f7ec",
        "execution": {
          "iopub.status.busy": "2024-06-10T18:39:54.819501Z",
          "iopub.execute_input": "2024-06-10T18:39:54.819892Z",
          "iopub.status.idle": "2024-06-10T18:40:06.513733Z",
          "shell.execute_reply.started": "2024-06-10T18:39:54.819865Z",
          "shell.execute_reply": "2024-06-10T18:40:06.512740Z"
        },
        "trusted": true,
        "colab": {
          "base_uri": "https://localhost:8080/"
        }
      },
      "execution_count": null,
      "outputs": [
        {
          "output_type": "stream",
          "name": "stderr",
          "text": [
            "/usr/local/lib/python3.10/dist-packages/transformers/tokenization_utils_base.py:2699: FutureWarning: The `pad_to_max_length` argument is deprecated and will be removed in a future version, use `padding=True` or `padding='longest'` to pad to the longest sequence in the batch, or use `padding='max_length'` to pad to a max length. In this case, you can give a specific length with `max_length` (e.g. `max_length=45`) or leave max_length to None to pad to the maximal input size of the model (e.g. 512 for Bert).\n",
            "  warnings.warn(\n"
          ]
        },
        {
          "output_type": "stream",
          "name": "stdout",
          "text": [
            "Original:  [Claim]:In her budget speech, Nirmala Sitharaman claimed that the Government distributed 35,000 crore LED bulbs in the country.[Evidences]:5 gen 2022  the power ministry has distributed 36.78 crore led lights under the ujala programme in seven years, which saved 47778 million units of ....5 gen 2023  state-owned energy efficiency services ltd (eesl) on thursday said it has distributed over 36.8 crore led bulbs under the government's unnat ....5 gen 2022  ujala completes 7 years of energy-efficient and affordable led distribution. 36.78 crore leds distributed across the country under ujala ujala ....5 gen 2022  with ujala, the cost of led bulbs has come down by 85 per cent. this ... for distribution of led bulbs under the ujala programme, it stated..nov 22, 2013  from incandescent bulbs to fluorescents to leds, we're exploring the long history of the light bulb.\n",
            "Token IDs: tensor([  784,   254,   521,   603,   908,    10,  1570,   160,  1487,  5023,\n",
            "            6,  2504,    52,  1982,     9,   925,    17, 14888,   348,  7760,\n",
            "           24,     8,  3141,  8308,   519,   755,     3,     6,   632,   632,\n",
            "          632, 23095,  4429, 18851,    16,     8,   684,     5,  6306,   427,\n",
            "         6961,  1433,     7,   908,    10,   755,     3,   729,   357,   632,\n",
            "          357,   357,     8,   579,  8409,    65,  8308,   519,   948,     3,\n",
            "            5,   940,   927, 23095,  2237,  4113,   365,     8,     3,    76,\n",
            "         1191,   521,  2486,    16,  2391,   203,     6,    84,  6024,   591,\n",
            "          940,   940,   940,   927,   770,  3173,    13,     3,  2824,   755,\n",
            "            3,   729,   357,   632,   357,   519,   538,    18,  9160,   827,\n",
            "         3949,   364,     3,    40,    17,    26,    41,    15,    15,     7,\n",
            "           40,    61,    30,     3,   189,  3589,  1135,   243,    34,    65,\n",
            "         8308,   147,   519,   948,     3,     5,   927, 23095,  2237, 18851,\n",
            "          365,     8,   789,    31,     7,    73,    29,   144,     3,  2824,\n",
            "          755,     3,   729,   357,   632,   357,   357,     3,    76,  1191,\n",
            "          521,   743,     7,   940,   203,    13,   827,    18, 16995,    11,\n",
            "         2950,  2237,  3438,     5,   519,   948,     3,     5,   940,   927,\n",
            "        23095,  2237,     7,  8308,   640,     8,   684,   365,     3,    76,\n",
            "         1191,   521,     3,    76,  1191,   521,     3,  2824,   755,     3,\n",
            "          729,   357,   632,   357,   357,    28,     3,    76,  1191,   521,\n",
            "            6,     8,   583,    13,  2237, 18851,    65,   369,   323,    57,\n",
            "          927,   755,   399,  3151,     5,    48,     3,   233,    21,  3438,\n",
            "           13,  2237, 18851,   365,     8,     3,    76,  1191,   521,  2486,\n",
            "            6,    34,  4568,     5,     5,  5326,   357,   357,     3,     6,\n",
            "          357,   632,   536,   519,    45,    16,    75,   232, 11719, 18851,\n",
            "           12, 27468,     7,    12,  2237,     1])\n"
          ]
        }
      ]
    },
    {
      "cell_type": "code",
      "source": [
        "val_input_ids = []\n",
        "val_attention_masks = []\n",
        "\n",
        "for sent in val_features:\n",
        "    # `encode_plus` will:\n",
        "    #   (1) Tokenize the sentence.\n",
        "    #   (2) Prepend the `[CLS]` token to the start.\n",
        "    #   (3) Append the `[SEP]` token to the end.\n",
        "    #   (4) Map tokens to their IDs.\n",
        "    #   (5) Pad or truncate the sentence to `max_length`\n",
        "    #   (6) Create attention masks for [PAD] tokens.\n",
        "    encoded_dict = tokenizer.encode_plus(\n",
        "                        sent,                      # Sentence to encode.\n",
        "                        add_special_tokens = True, # Add '[CLS]' and '[SEP]'\n",
        "                        max_length = 256,           # Pad & truncate all sentences.\n",
        "                        pad_to_max_length = True,\n",
        "                        truncation=True,\n",
        "                        return_attention_mask = True,   # Construct attn. masks.\n",
        "                        return_tensors = 'pt',     # Return pytorch tensors.\n",
        "                   )\n",
        "\n",
        "    # Add the encoded sentence to the list.\n",
        "    val_input_ids.append(encoded_dict['input_ids'])\n",
        "\n",
        "    # And its attention mask (simply differentiates padding from non-padding).\n",
        "    val_attention_masks.append(encoded_dict['attention_mask'])\n",
        "# Convert the lists into tensors.\n",
        "val_input_ids = torch.cat(val_input_ids, dim=0)\n",
        "val_attention_masks = torch.cat(val_attention_masks, dim=0)\n",
        "\n",
        "\n",
        "# Print sentence 0, now as a list of IDs.\n",
        "print('Original: ', val_features[0])\n",
        "print('Token IDs:', val_attention_masks[0])"
      ],
      "metadata": {
        "id": "qZavNUqipvVV",
        "outputId": "288f753f-f194-487e-ca5a-e1c6dd66f575",
        "execution": {
          "iopub.status.busy": "2024-06-10T18:40:23.236846Z",
          "iopub.execute_input": "2024-06-10T18:40:23.237211Z",
          "iopub.status.idle": "2024-06-10T18:40:27.004846Z",
          "shell.execute_reply.started": "2024-06-10T18:40:23.237184Z",
          "shell.execute_reply": "2024-06-10T18:40:27.003804Z"
        },
        "trusted": true,
        "colab": {
          "base_uri": "https://localhost:8080/"
        }
      },
      "execution_count": null,
      "outputs": [
        {
          "output_type": "stream",
          "name": "stdout",
          "text": [
            "Original:  [Claim]:Amit Shah said Narendra Modi sleeps for 24 hours for the welfare of the poor.[Evidences]:mar 23, 2022  he sleeps for 3.5 to 4 hours every day. he sleeps late at around 12 o clock and gets up early around 4 o clock. yet, he is so fresh and energetic throughout the ....mar 20, 2020  the study found that the virus is viable for up to 72 hours on plastics, 48 hours on stainless steel, 24 hours on cardboard, and 4 hours on ....march 12, 2013: the obama administration issued a statement of administration policy on h.r. 890, noting that ultimately, no states formally applied for state waivers of welfare work requirements. friday, july 12, 2013 marks one year since the obama administration first declared that it had the authority to waive the work requirements for welfare recipients. work requirements were created in the 1996 welfare reform law, and they have been key to the success of welfare reform in increasing work and earnings and reducing poverty and welfare dependence. no prior administration has ever claimed to have authority to waive these requirements, and for one simple reason  because it doesnt exist in law..many states had waivers of the rules for the cash welfare program for states to account for certain administrative costs that previously had.in august president kenyatta died, passing responsibility for the welfare of the average citizen to daniel arap moi. karanja was urged to ease the shortage by ...\n",
            "Token IDs: tensor([1, 1, 1, 1, 1, 1, 1, 1, 1, 1, 1, 1, 1, 1, 1, 1, 1, 1, 1, 1, 1, 1, 1, 1,\n",
            "        1, 1, 1, 1, 1, 1, 1, 1, 1, 1, 1, 1, 1, 1, 1, 1, 1, 1, 1, 1, 1, 1, 1, 1,\n",
            "        1, 1, 1, 1, 1, 1, 1, 1, 1, 1, 1, 1, 1, 1, 1, 1, 1, 1, 1, 1, 1, 1, 1, 1,\n",
            "        1, 1, 1, 1, 1, 1, 1, 1, 1, 1, 1, 1, 1, 1, 1, 1, 1, 1, 1, 1, 1, 1, 1, 1,\n",
            "        1, 1, 1, 1, 1, 1, 1, 1, 1, 1, 1, 1, 1, 1, 1, 1, 1, 1, 1, 1, 1, 1, 1, 1,\n",
            "        1, 1, 1, 1, 1, 1, 1, 1, 1, 1, 1, 1, 1, 1, 1, 1, 1, 1, 1, 1, 1, 1, 1, 1,\n",
            "        1, 1, 1, 1, 1, 1, 1, 1, 1, 1, 1, 1, 1, 1, 1, 1, 1, 1, 1, 1, 1, 1, 1, 1,\n",
            "        1, 1, 1, 1, 1, 1, 1, 1, 1, 1, 1, 1, 1, 1, 1, 1, 1, 1, 1, 1, 1, 1, 1, 1,\n",
            "        1, 1, 1, 1, 1, 1, 1, 1, 1, 1, 1, 1, 1, 1, 1, 1, 1, 1, 1, 1, 1, 1, 1, 1,\n",
            "        1, 1, 1, 1, 1, 1, 1, 1, 1, 1, 1, 1, 1, 1, 1, 1, 1, 1, 1, 1, 1, 1, 1, 1,\n",
            "        1, 1, 1, 1, 1, 1, 1, 1, 1, 1, 1, 1, 1, 1, 1, 1])\n"
          ]
        }
      ]
    },
    {
      "cell_type": "code",
      "source": [
        "train_labels_final = torch.tensor(train_labels_final)\n",
        "val_labels_final = torch.tensor(val_labels_final)"
      ],
      "metadata": {
        "id": "evSioYADp_y4",
        "execution": {
          "iopub.status.busy": "2024-06-10T18:40:32.158619Z",
          "iopub.execute_input": "2024-06-10T18:40:32.159545Z",
          "iopub.status.idle": "2024-06-10T18:40:32.167684Z",
          "shell.execute_reply.started": "2024-06-10T18:40:32.159504Z",
          "shell.execute_reply": "2024-06-10T18:40:32.166724Z"
        },
        "trusted": true
      },
      "execution_count": null,
      "outputs": []
    },
    {
      "cell_type": "code",
      "source": [],
      "metadata": {
        "id": "7Nk-HGh0yWwf"
      },
      "execution_count": null,
      "outputs": []
    },
    {
      "cell_type": "code",
      "source": [
        "val_labels_final.shape"
      ],
      "metadata": {
        "id": "GC7Tt92syW5Z",
        "outputId": "e6663ac8-1750-440c-9647-30d5b47c83c3",
        "execution": {
          "iopub.status.busy": "2024-06-10T18:40:36.537562Z",
          "iopub.execute_input": "2024-06-10T18:40:36.537950Z",
          "iopub.status.idle": "2024-06-10T18:40:36.544230Z",
          "shell.execute_reply.started": "2024-06-10T18:40:36.537922Z",
          "shell.execute_reply": "2024-06-10T18:40:36.543275Z"
        },
        "trusted": true,
        "colab": {
          "base_uri": "https://localhost:8080/"
        }
      },
      "execution_count": null,
      "outputs": [
        {
          "output_type": "execute_result",
          "data": {
            "text/plain": [
              "torch.Size([3084])"
            ]
          },
          "metadata": {},
          "execution_count": 28
        }
      ]
    },
    {
      "cell_type": "code",
      "source": [
        "len(val_input_ids)"
      ],
      "metadata": {
        "id": "SLCxP_iqzspd",
        "outputId": "5facf789-2c66-49fe-d4d7-3e204d92633e",
        "execution": {
          "iopub.status.busy": "2024-06-10T18:40:39.209425Z",
          "iopub.execute_input": "2024-06-10T18:40:39.210382Z",
          "iopub.status.idle": "2024-06-10T18:40:39.216158Z",
          "shell.execute_reply.started": "2024-06-10T18:40:39.210348Z",
          "shell.execute_reply": "2024-06-10T18:40:39.215224Z"
        },
        "trusted": true,
        "colab": {
          "base_uri": "https://localhost:8080/"
        }
      },
      "execution_count": null,
      "outputs": [
        {
          "output_type": "execute_result",
          "data": {
            "text/plain": [
              "3084"
            ]
          },
          "metadata": {},
          "execution_count": 29
        }
      ]
    },
    {
      "cell_type": "code",
      "source": [
        "num_classes = len(list(set(train_labels)))\n",
        "list(set(train_labels))"
      ],
      "metadata": {
        "id": "HIo3GxyUrMml",
        "outputId": "2811e1fd-f8ad-456b-fb19-86fbd8ae7156",
        "execution": {
          "iopub.status.busy": "2024-06-10T18:40:43.701448Z",
          "iopub.execute_input": "2024-06-10T18:40:43.702153Z",
          "iopub.status.idle": "2024-06-10T18:40:43.709483Z",
          "shell.execute_reply.started": "2024-06-10T18:40:43.702118Z",
          "shell.execute_reply": "2024-06-10T18:40:43.708384Z"
        },
        "trusted": true,
        "colab": {
          "base_uri": "https://localhost:8080/"
        }
      },
      "execution_count": null,
      "outputs": [
        {
          "output_type": "execute_result",
          "data": {
            "text/plain": [
              "['True', 'Conflicting', 'False']"
            ]
          },
          "metadata": {},
          "execution_count": 30
        }
      ]
    },
    {
      "cell_type": "code",
      "source": [
        "num_classes"
      ],
      "metadata": {
        "id": "Wg90AQJcrZFD",
        "outputId": "8cb75abd-346b-493b-b1a9-474eed1f01fc",
        "execution": {
          "iopub.status.busy": "2024-06-10T18:59:40.965377Z",
          "iopub.execute_input": "2024-06-10T18:59:40.965801Z",
          "iopub.status.idle": "2024-06-10T18:59:40.972385Z",
          "shell.execute_reply.started": "2024-06-10T18:59:40.965766Z",
          "shell.execute_reply": "2024-06-10T18:59:40.971401Z"
        },
        "trusted": true,
        "colab": {
          "base_uri": "https://localhost:8080/"
        }
      },
      "execution_count": null,
      "outputs": [
        {
          "output_type": "execute_result",
          "data": {
            "text/plain": [
              "3"
            ]
          },
          "metadata": {},
          "execution_count": 31
        }
      ]
    },
    {
      "cell_type": "code",
      "source": [
        "from torch.utils.data import TensorDataset, random_split\n",
        "# train_poincare_tensor = torch.tensor(poincare_embeddings_final,dtype=torch.float)\n",
        "# difficulty_tensor = torch.tensor(difficulty_level_vectors,dtype=torch.float)\n",
        "# Combine the training inputs into a TensorDataset.\n",
        "dataset = TensorDataset(input_ids, attention_masks, train_labels_final)\n",
        "val_dataset = TensorDataset(val_input_ids, val_attention_masks,val_labels_final)\n",
        "#"
      ],
      "metadata": {
        "id": "KOK3P-9Gra78",
        "execution": {
          "iopub.status.busy": "2024-06-10T18:48:16.321243Z",
          "iopub.execute_input": "2024-06-10T18:48:16.321675Z",
          "iopub.status.idle": "2024-06-10T18:48:16.328290Z",
          "shell.execute_reply.started": "2024-06-10T18:48:16.321637Z",
          "shell.execute_reply": "2024-06-10T18:48:16.327306Z"
        },
        "trusted": true
      },
      "execution_count": null,
      "outputs": []
    },
    {
      "cell_type": "code",
      "source": [
        "from torch.utils.data import DataLoader, RandomSampler, SequentialSampler\n",
        "batch_size = 16\n",
        "train_dataloader = DataLoader(\n",
        "            dataset,  # The training samples.\n",
        "            sampler = RandomSampler(dataset), # Select batches randomly\n",
        "            batch_size = batch_size # Trains with this batch size.\n",
        "        )\n",
        "\n",
        "validation_dataloader = DataLoader(\n",
        "            val_dataset, # The validation samples.\n",
        "            sampler = SequentialSampler(val_dataset),\n",
        "            batch_size = batch_size\n",
        "        )"
      ],
      "metadata": {
        "id": "c6ALqnRkrjBN",
        "execution": {
          "iopub.status.busy": "2024-06-10T18:48:21.949262Z",
          "iopub.execute_input": "2024-06-10T18:48:21.949913Z",
          "iopub.status.idle": "2024-06-10T18:48:21.955765Z",
          "shell.execute_reply.started": "2024-06-10T18:48:21.949883Z",
          "shell.execute_reply": "2024-06-10T18:48:21.954615Z"
        },
        "trusted": true
      },
      "execution_count": null,
      "outputs": []
    },
    {
      "cell_type": "code",
      "source": [
        "from torch import nn\n",
        "from transformers import T5EncoderModel\n",
        "class MultiClassClassifier(nn.Module):\n",
        "    def __init__(self, t5_model_path, labels_count, hidden_dim=768, mlp_dim=500, extras_dim=100, dropout=0.1, freeze_t5=False):\n",
        "        super().__init__()\n",
        "\n",
        "        self.t5_encoder = T5EncoderModel.from_pretrained(t5_model_path)\n",
        "        self.dropout = nn.Dropout(dropout)\n",
        "        self.mlp = nn.Sequential(\n",
        "            nn.Linear(hidden_dim, mlp_dim),\n",
        "            nn.ReLU(),\n",
        "            nn.Linear(mlp_dim, labels_count)\n",
        "        )\n",
        "        if freeze_t5:\n",
        "            print(\"Freezing T5 layers\")\n",
        "            for param in self.t5_encoder.parameters():\n",
        "                param.requires_grad = False\n",
        "\n",
        "# TODO:    There might be errors here\n",
        "    def forward(self, tokens, masks):\n",
        "        output = self.t5_encoder(input_ids=tokens, attention_mask=masks)\n",
        "        encoder_hidden_states = output.last_hidden_state\n",
        "        pooled_output = encoder_hidden_states[:, 0]  # Taking the representation of the [CLS] token\n",
        "        dropout_output = self.dropout(pooled_output)\n",
        "        mlp_output = self.mlp(dropout_output)\n",
        "\n",
        "        return mlp_output"
      ],
      "metadata": {
        "id": "cKSZPwobrl8y",
        "execution": {
          "iopub.status.busy": "2024-06-10T19:00:56.503270Z",
          "iopub.execute_input": "2024-06-10T19:00:56.504026Z",
          "iopub.status.idle": "2024-06-10T19:00:56.512806Z",
          "shell.execute_reply.started": "2024-06-10T19:00:56.503996Z",
          "shell.execute_reply": "2024-06-10T19:00:56.511783Z"
        },
        "trusted": true
      },
      "execution_count": null,
      "outputs": []
    },
    {
      "cell_type": "code",
      "source": [
        "from transformers import BertForSequenceClassification, AdamW, BertConfig\n",
        "\n",
        "# Loads BertForSequenceClassification, the pretrained BERT model with a single\n",
        "model = MultiClassClassifier('nielsr/nt5-small-rc1',num_classes, 512 ,500,100,dropout=0.1,freeze_t5=False)\n",
        "\n",
        "# model.load_state_dict(torch.load(\"model_bert_difficulty_prediction/model_weights\"))\n",
        "\n",
        "# Tell pytorch to run this model on the GPU.\n",
        "model.cuda()\n"
      ],
      "metadata": {
        "id": "CAxysrcNsFl8",
        "outputId": "1a0c0101-4eb9-4520-a879-c39d4fb0e17c",
        "execution": {
          "iopub.status.busy": "2024-06-10T19:01:00.250730Z",
          "iopub.execute_input": "2024-06-10T19:01:00.251453Z",
          "iopub.status.idle": "2024-06-10T19:01:01.834400Z",
          "shell.execute_reply.started": "2024-06-10T19:01:00.251419Z",
          "shell.execute_reply": "2024-06-10T19:01:01.832990Z"
        },
        "trusted": true,
        "colab": {
          "base_uri": "https://localhost:8080/",
          "height": 1000,
          "referenced_widgets": [
            "dde617be720a4592b591ecc36640b1d1",
            "a31a5389efb44b00b20e514ea488e029",
            "a75c5b91913c4240965c84c3a8bf9771",
            "dee66f1ba2be4ac0ac4e87040aa53616",
            "22aa0c3cf6544558b9d44841e472b618",
            "b0d21bfb70a5462bb01bbee7d0d0685c",
            "1ddd1be5085f47848e7d2123694bc4d0",
            "21b3ce3aebde4595924800d509fcbfa9",
            "b44c539e1c594c4498bc2bfb06b373b4",
            "7e8c06263e5c40eab6047fff14d4dc87",
            "f8e0e3014b5548d0981d9e4926fb624f"
          ]
        }
      },
      "execution_count": null,
      "outputs": [
        {
          "output_type": "display_data",
          "data": {
            "text/plain": [
              "pytorch_model.bin:   0%|          | 0.00/242M [00:00<?, ?B/s]"
            ],
            "application/vnd.jupyter.widget-view+json": {
              "version_major": 2,
              "version_minor": 0,
              "model_id": "dde617be720a4592b591ecc36640b1d1"
            }
          },
          "metadata": {}
        },
        {
          "output_type": "execute_result",
          "data": {
            "text/plain": [
              "MultiClassClassifier(\n",
              "  (t5_encoder): T5EncoderModel(\n",
              "    (shared): Embedding(32128, 512)\n",
              "    (encoder): T5Stack(\n",
              "      (embed_tokens): Embedding(32128, 512)\n",
              "      (block): ModuleList(\n",
              "        (0): T5Block(\n",
              "          (layer): ModuleList(\n",
              "            (0): T5LayerSelfAttention(\n",
              "              (SelfAttention): T5Attention(\n",
              "                (q): Linear(in_features=512, out_features=512, bias=False)\n",
              "                (k): Linear(in_features=512, out_features=512, bias=False)\n",
              "                (v): Linear(in_features=512, out_features=512, bias=False)\n",
              "                (o): Linear(in_features=512, out_features=512, bias=False)\n",
              "                (relative_attention_bias): Embedding(32, 8)\n",
              "              )\n",
              "              (layer_norm): T5LayerNorm()\n",
              "              (dropout): Dropout(p=0.1, inplace=False)\n",
              "            )\n",
              "            (1): T5LayerFF(\n",
              "              (DenseReluDense): T5DenseActDense(\n",
              "                (wi): Linear(in_features=512, out_features=2048, bias=False)\n",
              "                (wo): Linear(in_features=2048, out_features=512, bias=False)\n",
              "                (dropout): Dropout(p=0.1, inplace=False)\n",
              "                (act): ReLU()\n",
              "              )\n",
              "              (layer_norm): T5LayerNorm()\n",
              "              (dropout): Dropout(p=0.1, inplace=False)\n",
              "            )\n",
              "          )\n",
              "        )\n",
              "        (1-5): 5 x T5Block(\n",
              "          (layer): ModuleList(\n",
              "            (0): T5LayerSelfAttention(\n",
              "              (SelfAttention): T5Attention(\n",
              "                (q): Linear(in_features=512, out_features=512, bias=False)\n",
              "                (k): Linear(in_features=512, out_features=512, bias=False)\n",
              "                (v): Linear(in_features=512, out_features=512, bias=False)\n",
              "                (o): Linear(in_features=512, out_features=512, bias=False)\n",
              "              )\n",
              "              (layer_norm): T5LayerNorm()\n",
              "              (dropout): Dropout(p=0.1, inplace=False)\n",
              "            )\n",
              "            (1): T5LayerFF(\n",
              "              (DenseReluDense): T5DenseActDense(\n",
              "                (wi): Linear(in_features=512, out_features=2048, bias=False)\n",
              "                (wo): Linear(in_features=2048, out_features=512, bias=False)\n",
              "                (dropout): Dropout(p=0.1, inplace=False)\n",
              "                (act): ReLU()\n",
              "              )\n",
              "              (layer_norm): T5LayerNorm()\n",
              "              (dropout): Dropout(p=0.1, inplace=False)\n",
              "            )\n",
              "          )\n",
              "        )\n",
              "      )\n",
              "      (final_layer_norm): T5LayerNorm()\n",
              "      (dropout): Dropout(p=0.1, inplace=False)\n",
              "    )\n",
              "  )\n",
              "  (dropout): Dropout(p=0.1, inplace=False)\n",
              "  (mlp): Sequential(\n",
              "    (0): Linear(in_features=512, out_features=500, bias=True)\n",
              "    (1): ReLU()\n",
              "    (2): Linear(in_features=500, out_features=3, bias=True)\n",
              "  )\n",
              ")"
            ]
          },
          "metadata": {},
          "execution_count": 35
        }
      ]
    },
    {
      "cell_type": "code",
      "source": [],
      "metadata": {
        "id": "iilNEZRCsJjH"
      },
      "execution_count": null,
      "outputs": []
    },
    {
      "cell_type": "code",
      "source": [
        "optimizer = AdamW(model.parameters(),\n",
        "                  lr = 2e-5,\n",
        "                  eps = 1e-8 # args.adam_epsilon  - default is 1e-8.\n",
        "                )"
      ],
      "metadata": {
        "id": "awQ2Y9Jb3kht",
        "colab": {
          "base_uri": "https://localhost:8080/"
        },
        "outputId": "632a46de-cbad-4d8f-f986-52d78bebac4c"
      },
      "execution_count": null,
      "outputs": [
        {
          "output_type": "stream",
          "name": "stderr",
          "text": [
            "/usr/local/lib/python3.10/dist-packages/transformers/optimization.py:588: FutureWarning: This implementation of AdamW is deprecated and will be removed in a future version. Use the PyTorch implementation torch.optim.AdamW instead, or set `no_deprecation_warning=True` to disable this warning\n",
            "  warnings.warn(\n"
          ]
        }
      ]
    },
    {
      "cell_type": "code",
      "source": [
        "from transformers import get_linear_schedule_with_warmup\n",
        "\n",
        "\n",
        "epochs = 20\n",
        "\n",
        "# Total number of training steps is [number of batches] x [number of epochs].\n",
        "total_steps = len(train_dataloader) * epochs\n",
        "\n"
      ],
      "metadata": {
        "id": "2Ys-M4-e3khv"
      },
      "execution_count": null,
      "outputs": []
    },
    {
      "cell_type": "code",
      "source": [
        "len(train_dataloader)"
      ],
      "metadata": {
        "id": "QrYqErOD3khx",
        "outputId": "b70a9602-3490-4af7-82bc-98f4ee14a909",
        "colab": {
          "base_uri": "https://localhost:8080/"
        }
      },
      "execution_count": null,
      "outputs": [
        {
          "output_type": "execute_result",
          "data": {
            "text/plain": [
              "621"
            ]
          },
          "metadata": {},
          "execution_count": 38
        }
      ]
    },
    {
      "cell_type": "code",
      "source": [
        "1935 * 32"
      ],
      "metadata": {
        "id": "EWVSE9LM3kh0",
        "outputId": "fd9641c9-48c1-4de5-8c4c-ed2e0adc210a",
        "colab": {
          "base_uri": "https://localhost:8080/"
        }
      },
      "execution_count": null,
      "outputs": [
        {
          "output_type": "execute_result",
          "data": {
            "text/plain": [
              "61920"
            ]
          },
          "metadata": {},
          "execution_count": 39
        }
      ]
    },
    {
      "cell_type": "code",
      "source": [
        "scheduler = get_linear_schedule_with_warmup(optimizer,\n",
        "                                            num_warmup_steps = 0, # Default value in run_glue.py\n",
        "                                            num_training_steps = total_steps)"
      ],
      "metadata": {
        "id": "rcvxVVi63kh3"
      },
      "execution_count": null,
      "outputs": []
    },
    {
      "cell_type": "code",
      "source": [
        "import numpy as np\n",
        "\n",
        "# Function to calculate the accuracy of our predictions vs labels\n",
        "def flat_accuracy(preds, labels):\n",
        "    pred_flat = np.argmax(preds, axis=1).flatten()\n",
        "    labels_flat = labels.flatten()\n",
        "    return np.sum(pred_flat == labels_flat) / len(labels_flat)"
      ],
      "metadata": {
        "id": "GUw3zm6g3kh5"
      },
      "execution_count": null,
      "outputs": []
    },
    {
      "cell_type": "code",
      "source": [
        "import time\n",
        "import datetime\n",
        "\n",
        "def format_time(elapsed):\n",
        "    '''\n",
        "    Takes a time in seconds and returns a string hh:mm:ss\n",
        "    '''\n",
        "    # Round to the nearest second.\n",
        "    elapsed_rounded = int(round((elapsed)))\n",
        "\n",
        "    # Format as hh:mm:ss\n",
        "    return str(datetime.timedelta(seconds=elapsed_rounded))"
      ],
      "metadata": {
        "id": "ta6zfUTa3kh7"
      },
      "execution_count": null,
      "outputs": []
    },
    {
      "cell_type": "code",
      "source": [
        "import os\n",
        "os.environ['CUDA_LAUNCH_BLOCKING'] = \"1\"\n"
      ],
      "metadata": {
        "id": "GFq9gd5kQSHb"
      },
      "execution_count": null,
      "outputs": []
    },
    {
      "cell_type": "code",
      "source": [
        "class EarlyStopping:\n",
        "    \"\"\"Early stops the training if validation loss doesn't improve after a given patience.\"\"\"\n",
        "    def __init__(self, patience=7, verbose=False, delta=0, path='checkpoint.pt', trace_func=print):\n",
        "        \"\"\"\n",
        "        Args:\n",
        "            patience (int): How long to wait after last time validation loss improved.\n",
        "                            Default: 7\n",
        "            verbose (bool): If True, prints a message for each validation loss improvement.\n",
        "                            Default: False\n",
        "            delta (float): Minimum change in the monitored quantity to qualify as an improvement.\n",
        "                            Default: 0\n",
        "            path (str): Path for the checkpoint to be saved to.\n",
        "                            Default: 'checkpoint.pt'\n",
        "            trace_func (function): trace print function.\n",
        "                            Default: print\n",
        "        \"\"\"\n",
        "        self.patience = patience\n",
        "        self.verbose = verbose\n",
        "        self.counter = 0\n",
        "        self.best_score = None\n",
        "        self.early_stop = False\n",
        "        self.val_loss_min = np.Inf\n",
        "        self.delta = delta\n",
        "        self.path = path\n",
        "        self.trace_func = trace_func\n",
        "    def __call__(self, val_loss, model):\n",
        "\n",
        "        score = -val_loss\n",
        "\n",
        "        if self.best_score is None:\n",
        "            self.best_score = score\n",
        "            self.save_checkpoint(val_loss, model)\n",
        "        elif score < self.best_score + self.delta:\n",
        "            self.counter += 1\n",
        "            self.trace_func(f'EarlyStopping counter: {self.counter} out of {self.patience}')\n",
        "            if self.counter >= self.patience:\n",
        "                self.early_stop = True\n",
        "        else:\n",
        "            self.best_score = score\n",
        "            self.save_checkpoint(val_loss, model)\n",
        "            self.counter = 0\n",
        "\n",
        "    def save_checkpoint(self, val_loss, model):\n",
        "        '''Saves model when validation loss decrease.'''\n",
        "        if self.verbose:\n",
        "            self.trace_func(f'Validation loss decreased ({self.val_loss_min:.6f} --> {val_loss:.6f}).  Saving model ...')\n",
        "        torch.save(model.state_dict(), self.path)\n",
        "        self.val_loss_min = val_loss"
      ],
      "metadata": {
        "id": "a_nmuoSgQ5t3"
      },
      "execution_count": null,
      "outputs": []
    },
    {
      "cell_type": "code",
      "source": [
        "# for param in model.t5_encoder.encoder.layer[0:5].parameters():\n",
        "#     param.requires_grad=False"
      ],
      "metadata": {
        "id": "ugVDrHu20c8G"
      },
      "execution_count": null,
      "outputs": []
    },
    {
      "cell_type": "code",
      "source": [
        "loss_func = nn.CrossEntropyLoss()\n"
      ],
      "metadata": {
        "id": "E1rDO58zMfc8"
      },
      "execution_count": null,
      "outputs": []
    },
    {
      "cell_type": "code",
      "source": [
        "import random\n",
        "import numpy as np\n",
        "\n",
        "# This training code is based on the `run_glue.py` script here:\n",
        "# https://github.com/huggingface/transformers/blob/5bfcd0485ece086ebcbed2d008813037968a9e58/examples/run_glue.py#L128\n",
        "\n",
        "# Set the seed value all over the place to make this reproducible.\n",
        "seed_val = 42\n",
        "\n",
        "random.seed(seed_val)\n",
        "np.random.seed(seed_val)\n",
        "torch.manual_seed(seed_val)\n",
        "# torch.cuda.manual_seed_all(seed_val)\n",
        "\n",
        "# We'll store a number of quantities such as training and validation loss,\n",
        "# validation accuracy, and timings.\n",
        "training_stats = []\n",
        "\n",
        "# Measure the total training time for the whole run.\n",
        "total_t0 = time.time()\n",
        "early_stopping = EarlyStopping(patience=7, verbose=True)\n",
        "# For each epoch...\n",
        "for epoch_i in range(0, epochs):\n",
        "\n",
        "    # ========================================\n",
        "    #               Training\n",
        "    # ========================================\n",
        "\n",
        "    # Perform one full pass over the training set.\n",
        "\n",
        "    print(\"\")\n",
        "    print('======== Epoch {:} / {:} ========'.format(epoch_i + 1, epochs))\n",
        "    print('Training...')\n",
        "\n",
        "    # Measure how long the training epoch takes.\n",
        "    t0 = time.time()\n",
        "\n",
        "    # Reset the total loss for this epoch.\n",
        "    total_train_accuracy = 0\n",
        "    total_train_loss = 0\n",
        "\n",
        "    # Put the model into training mode. Don't be mislead--the call to\n",
        "    # `train` just changes the *mode*, it doesn't *perform* the training.\n",
        "    # `dropout` and `batchnorm` layers behave differently during training\n",
        "    # vs. test (source: https://stackoverflow.com/questimport gensim.downloader as api\n",
        "    model.train()\n",
        "\n",
        "    # For each batch of training data...\n",
        "    for step, batch in enumerate(train_dataloader):\n",
        "\n",
        "        # Progress update every 40 batches.\n",
        "        if step % 40 == 0 and not step == 0:\n",
        "            # Calculate elapsed time in minutes.\n",
        "            elapsed = format_time(time.time() - t0)\n",
        "\n",
        "            # Report progress.\n",
        "            print('  Batch {:>5,}  of  {:>5,}.    Elapsed: {:}.'.format(step, len(train_dataloader), elapsed))\n",
        "\n",
        "        # Unpack this training batch from our dataloader.\n",
        "        #\n",
        "        # As we unpack the batch, we'll also copy each tensor to the GPU using the\n",
        "        # `to` method.\n",
        "        #\n",
        "        # `batch` contains three pytorch tensors:\n",
        "        #   [0]: input ids\n",
        "        #   [1]: attention masks\n",
        "        #   [2]: labels\n",
        "\n",
        "        b_input_ids = batch[0].to(device)\n",
        "        b_input_mask = batch[1].to(device)\n",
        "        # b_poincare = batch[2].to(device)\n",
        "        # b_difficulty = batch[3].to(device)\n",
        "        b_labels = batch[2].to(device)\n",
        "        # skill_labels = batch[3].to(device)\n",
        "\n",
        "        # Always clear any previously calculated gradients before performing a\n",
        "        # backward pass. PyTorch doesn't do this automatically because\n",
        "        # accumulating the gradients is \"convenient while training RNNs\".\n",
        "        # (source: https://stackoverflow.com/questions/48001598/why-do-we-need-to-call-zero-grad-in-pytorch)\n",
        "        model.zero_grad()\n",
        "\n",
        "        # Perform a forward pass (evaluate the model on this training batch).\n",
        "        probas = model(b_input_ids,b_input_mask)\n",
        "\n",
        "        # Accumulate the training loss over all of the batches so that we can\n",
        "        # calculate the average loss at the end. `loss` is a Tensor containing a\n",
        "        # single value; the `.item()` function just returns the Python value\n",
        "        # from the tensor.\n",
        "        loss = loss_func(probas, b_labels)\n",
        "        total_train_loss += loss.item()\n",
        "\n",
        "        # Perform a backward pass to calculate the gradients.\n",
        "        loss.backward()\n",
        "\n",
        "        # Clip the norm of the gradients to 1.0.\n",
        "        # This is to help prevent the \"exploding gradients\" problem.\n",
        "        # torch.nn.utils.clip_grad_norm_(model.parameters(), 1.0)\n",
        "\n",
        "        # Update parameters and take a step using the computed gradient.\n",
        "        # The optimizer dictates the \"update rule\"--how the parameters are\n",
        "        # modified based on their gradients, the learning rate, etc.\n",
        "        optimizer.step()\n",
        "\n",
        "        # Update the learning rate.\n",
        "        # scheduler.step()\n",
        "        logits = probas.detach().cpu().numpy()\n",
        "        label_ids = b_labels.to('cpu').numpy()\n",
        "        total_train_accuracy += flat_accuracy(logits, label_ids)\n",
        "    avg_train_accuracy = total_train_accuracy / len(train_dataloader)\n",
        "    print(\" Train Accuracy: {0:.2f}\".format(avg_train_accuracy))\n",
        "\n",
        "    # Calculate the average loss over all of the batches.\n",
        "    avg_train_loss = total_train_loss / len(train_dataloader)\n",
        "\n",
        "\n",
        "\n",
        "    # Measure how long this epoch took.\n",
        "    training_time = format_time(time.time() - t0)\n",
        "\n",
        "    print(\"\")\n",
        "    print(\"  Average training loss: {0:.2f}\".format(avg_train_loss))\n",
        "    print(\"  Training epcoh took: {:}\".format(training_time))\n",
        "\n",
        "    # ========================================\n",
        "    #               Validation\n",
        "    # ========================================\n",
        "    # After the completion of each training epoch, measure our performance on\n",
        "    # our validation set.\n",
        "\n",
        "    print(\"\")\n",
        "    print(\"Running Validation...\")\n",
        "\n",
        "    t0 = time.time()\n",
        "\n",
        "    # Put the model in evaluation mode--the dropout layers behave differently\n",
        "    # during evaluation.\n",
        "    model.eval()\n",
        "\n",
        "    # Tracking variables\n",
        "    total_eval_accuracy = 0\n",
        "    total_eval_loss = 0\n",
        "    nb_eval_steps = 0\n",
        "\n",
        "    # Evaluate data for one epoch\n",
        "    for batch in validation_dataloader:\n",
        "\n",
        "        # Unpack this training batch from our dataloader.\n",
        "        #\n",
        "        # As we unpack the batch, we'll also copy each tensor to the GPU using\n",
        "        # the `to` method.\n",
        "        #\n",
        "        # `batch` contains three pytorch tensors:\n",
        "        #   [0]: input ids\n",
        "        #   [1]: attention masks\n",
        "        #   [2]: labels\n",
        "        b_input_ids = batch[0].to(device)\n",
        "\n",
        "        b_input_mask = batch[1].to(device)\n",
        "        # b_poincare = batch[2].to(device)\n",
        "        # b_difficulty = batch[3].to(device)\n",
        "        b_labels = batch[2].to(device)\n",
        "        # skill_labels = batch[3].to(device)\n",
        "\n",
        "        # Tell pytorch not to bother with constructing the compute graph during\n",
        "        # the forward pass, since this is only needed for backprop (training).\n",
        "        with torch.no_grad():\n",
        "\n",
        "            # Forward pass, calculate logit predictions.\n",
        "\n",
        "          logits = model(b_input_ids,b_input_mask)\n",
        "\n",
        "        # Accumulate the validation loss.\n",
        "        loss = loss_func(logits, b_labels)\n",
        "        total_eval_loss += loss.item()\n",
        "\n",
        "        # Move logits and labels to CPU\n",
        "        logits = logits.detach().cpu().numpy()\n",
        "        label_ids = b_labels.to('cpu').numpy()\n",
        "\n",
        "        # Calculate the accuracy for this batch of test sentences, and\n",
        "        # accumulate it over all batches.\n",
        "        total_eval_accuracy += flat_accuracy(logits, label_ids)\n",
        "\n",
        "\n",
        "    # Report the final accuracy for this validation run.\n",
        "    avg_val_accuracy = total_eval_accuracy / len(validation_dataloader)\n",
        "    print(\"  Accuracy: {0:.2f}\".format(avg_val_accuracy))\n",
        "\n",
        "    # Calculate the average loss over all of the batches.\n",
        "    avg_val_loss = total_eval_loss / len(validation_dataloader)\n",
        "    early_stopping(avg_val_loss, model)\n",
        "    if early_stopping.early_stop:\n",
        "      print(\"Early stopping\")\n",
        "      break\n",
        "    # Measure how long the validation run took.\n",
        "    validation_time = format_time(time.time() - t0)\n",
        "\n",
        "    print(\"  Validation Loss: {0:.2f}\".format(avg_val_loss))\n",
        "    print(\"  Validation took: {:}\".format(validation_time))\n",
        "    output_dir = \"/content/model_nt5/\"\n",
        "    if not os.path.exists(output_dir):\n",
        "        os.makedirs(output_dir)\n",
        "\n",
        "    print(\"Saving model to %s\" % output_dir)\n",
        "    tokenizer.save_pretrained(output_dir)\n",
        "    torch.save(model.state_dict(), os.path.join(output_dir, 'model_weights'))\n",
        "\n",
        "#     !rm -rf \"/kaggle/working/models\"\n",
        "#     !mv model_roberta_large_oracle \"/content/drive/My Drive/ecir_compnumfacts/\"\n",
        "    # Record all statistics from this epoch.\n",
        "    training_stats.append(\n",
        "        {\n",
        "            'epoch': epoch_i + 1,\n",
        "            'Training Loss': avg_train_loss,\n",
        "            'Valid. Loss': avg_val_loss,\n",
        "            'Valid. Accur.': avg_val_accuracy,\n",
        "            'Training Time': training_time,\n",
        "            'Validation Time': validation_time\n",
        "        }\n",
        "    )\n",
        "\n",
        "print(\"\")\n",
        "print(\"Training complete!\")\n",
        "\n",
        "print(\"Total training took {:} (h:mm:ss)\".format(format_time(time.time()-total_t0)))"
      ],
      "metadata": {
        "id": "6LhAy2hZ3kh9",
        "outputId": "7665d090-a54e-44bc-a15f-18bcc87d648a",
        "colab": {
          "base_uri": "https://localhost:8080/"
        }
      },
      "execution_count": null,
      "outputs": [
        {
          "output_type": "stream",
          "name": "stdout",
          "text": [
            "\n",
            "======== Epoch 1 / 20 ========\n",
            "Training...\n",
            "  Batch    40  of    621.    Elapsed: 0:00:09.\n",
            "  Batch    80  of    621.    Elapsed: 0:00:17.\n",
            "  Batch   120  of    621.    Elapsed: 0:00:24.\n",
            "  Batch   160  of    621.    Elapsed: 0:00:32.\n",
            "  Batch   200  of    621.    Elapsed: 0:00:40.\n",
            "  Batch   240  of    621.    Elapsed: 0:00:48.\n",
            "  Batch   280  of    621.    Elapsed: 0:00:56.\n",
            "  Batch   320  of    621.    Elapsed: 0:01:04.\n",
            "  Batch   360  of    621.    Elapsed: 0:01:14.\n",
            "  Batch   400  of    621.    Elapsed: 0:01:22.\n",
            "  Batch   440  of    621.    Elapsed: 0:01:31.\n",
            "  Batch   480  of    621.    Elapsed: 0:01:39.\n",
            "  Batch   520  of    621.    Elapsed: 0:01:47.\n",
            "  Batch   560  of    621.    Elapsed: 0:01:55.\n",
            "  Batch   600  of    621.    Elapsed: 0:02:03.\n",
            " Train Accuracy: 0.58\n",
            "\n",
            "  Average training loss: 0.94\n",
            "  Training epcoh took: 0:02:08\n",
            "\n",
            "Running Validation...\n",
            "  Accuracy: 0.60\n",
            "Validation loss decreased (inf --> 0.864431).  Saving model ...\n",
            "  Validation Loss: 0.86\n",
            "  Validation took: 0:00:13\n",
            "Saving model to /content/model_nt5/\n",
            "\n",
            "======== Epoch 2 / 20 ========\n",
            "Training...\n",
            "  Batch    40  of    621.    Elapsed: 0:00:08.\n",
            "  Batch    80  of    621.    Elapsed: 0:00:16.\n",
            "  Batch   120  of    621.    Elapsed: 0:00:25.\n",
            "  Batch   160  of    621.    Elapsed: 0:00:33.\n",
            "  Batch   200  of    621.    Elapsed: 0:00:41.\n",
            "  Batch   240  of    621.    Elapsed: 0:00:49.\n",
            "  Batch   280  of    621.    Elapsed: 0:00:58.\n",
            "  Batch   320  of    621.    Elapsed: 0:01:06.\n",
            "  Batch   360  of    621.    Elapsed: 0:01:14.\n",
            "  Batch   400  of    621.    Elapsed: 0:01:22.\n",
            "  Batch   440  of    621.    Elapsed: 0:01:30.\n",
            "  Batch   480  of    621.    Elapsed: 0:01:38.\n",
            "  Batch   520  of    621.    Elapsed: 0:01:46.\n",
            "  Batch   560  of    621.    Elapsed: 0:01:55.\n",
            "  Batch   600  of    621.    Elapsed: 0:02:03.\n",
            " Train Accuracy: 0.61\n",
            "\n",
            "  Average training loss: 0.86\n",
            "  Training epcoh took: 0:02:07\n",
            "\n",
            "Running Validation...\n",
            "  Accuracy: 0.62\n",
            "Validation loss decreased (0.864431 --> 0.848735).  Saving model ...\n",
            "  Validation Loss: 0.85\n",
            "  Validation took: 0:00:13\n",
            "Saving model to /content/model_nt5/\n",
            "\n",
            "======== Epoch 3 / 20 ========\n",
            "Training...\n",
            "  Batch    40  of    621.    Elapsed: 0:00:08.\n",
            "  Batch    80  of    621.    Elapsed: 0:00:16.\n",
            "  Batch   120  of    621.    Elapsed: 0:00:24.\n",
            "  Batch   160  of    621.    Elapsed: 0:00:33.\n",
            "  Batch   200  of    621.    Elapsed: 0:00:41.\n",
            "  Batch   240  of    621.    Elapsed: 0:00:50.\n",
            "  Batch   280  of    621.    Elapsed: 0:00:57.\n",
            "  Batch   320  of    621.    Elapsed: 0:01:06.\n",
            "  Batch   360  of    621.    Elapsed: 0:01:14.\n",
            "  Batch   400  of    621.    Elapsed: 0:01:22.\n",
            "  Batch   440  of    621.    Elapsed: 0:01:30.\n",
            "  Batch   480  of    621.    Elapsed: 0:01:38.\n",
            "  Batch   520  of    621.    Elapsed: 0:01:46.\n",
            "  Batch   560  of    621.    Elapsed: 0:01:54.\n",
            "  Batch   600  of    621.    Elapsed: 0:02:03.\n",
            " Train Accuracy: 0.62\n",
            "\n",
            "  Average training loss: 0.84\n",
            "  Training epcoh took: 0:02:07\n",
            "\n",
            "Running Validation...\n",
            "  Accuracy: 0.60\n",
            "Validation loss decreased (0.848735 --> 0.848687).  Saving model ...\n",
            "  Validation Loss: 0.85\n",
            "  Validation took: 0:00:13\n",
            "Saving model to /content/model_nt5/\n",
            "\n",
            "======== Epoch 4 / 20 ========\n",
            "Training...\n",
            "  Batch    40  of    621.    Elapsed: 0:00:08.\n",
            "  Batch    80  of    621.    Elapsed: 0:00:16.\n",
            "  Batch   120  of    621.    Elapsed: 0:00:24.\n",
            "  Batch   160  of    621.    Elapsed: 0:00:33.\n",
            "  Batch   200  of    621.    Elapsed: 0:00:41.\n",
            "  Batch   240  of    621.    Elapsed: 0:00:49.\n",
            "  Batch   280  of    621.    Elapsed: 0:00:57.\n",
            "  Batch   320  of    621.    Elapsed: 0:01:05.\n",
            "  Batch   360  of    621.    Elapsed: 0:01:13.\n",
            "  Batch   400  of    621.    Elapsed: 0:01:21.\n",
            "  Batch   440  of    621.    Elapsed: 0:01:30.\n",
            "  Batch   480  of    621.    Elapsed: 0:01:38.\n",
            "  Batch   520  of    621.    Elapsed: 0:01:46.\n",
            "  Batch   560  of    621.    Elapsed: 0:01:54.\n",
            "  Batch   600  of    621.    Elapsed: 0:02:02.\n",
            " Train Accuracy: 0.62\n",
            "\n",
            "  Average training loss: 0.83\n",
            "  Training epcoh took: 0:02:06\n",
            "\n",
            "Running Validation...\n",
            "  Accuracy: 0.60\n",
            "Validation loss decreased (0.848687 --> 0.839628).  Saving model ...\n",
            "  Validation Loss: 0.84\n",
            "  Validation took: 0:00:13\n",
            "Saving model to /content/model_nt5/\n",
            "\n",
            "======== Epoch 5 / 20 ========\n",
            "Training...\n",
            "  Batch    40  of    621.    Elapsed: 0:00:08.\n",
            "  Batch    80  of    621.    Elapsed: 0:00:16.\n",
            "  Batch   120  of    621.    Elapsed: 0:00:24.\n",
            "  Batch   160  of    621.    Elapsed: 0:00:33.\n",
            "  Batch   200  of    621.    Elapsed: 0:00:41.\n",
            "  Batch   240  of    621.    Elapsed: 0:00:49.\n",
            "  Batch   280  of    621.    Elapsed: 0:00:57.\n",
            "  Batch   320  of    621.    Elapsed: 0:01:05.\n",
            "  Batch   360  of    621.    Elapsed: 0:01:13.\n",
            "  Batch   400  of    621.    Elapsed: 0:01:21.\n",
            "  Batch   440  of    621.    Elapsed: 0:01:30.\n",
            "  Batch   480  of    621.    Elapsed: 0:01:37.\n",
            "  Batch   520  of    621.    Elapsed: 0:01:46.\n",
            "  Batch   560  of    621.    Elapsed: 0:01:54.\n",
            "  Batch   600  of    621.    Elapsed: 0:02:02.\n",
            " Train Accuracy: 0.62\n",
            "\n",
            "  Average training loss: 0.82\n",
            "  Training epcoh took: 0:02:06\n",
            "\n",
            "Running Validation...\n",
            "  Accuracy: 0.61\n",
            "Validation loss decreased (0.839628 --> 0.831119).  Saving model ...\n",
            "  Validation Loss: 0.83\n",
            "  Validation took: 0:00:13\n",
            "Saving model to /content/model_nt5/\n",
            "\n",
            "======== Epoch 6 / 20 ========\n",
            "Training...\n",
            "  Batch    40  of    621.    Elapsed: 0:00:08.\n",
            "  Batch    80  of    621.    Elapsed: 0:00:16.\n",
            "  Batch   120  of    621.    Elapsed: 0:00:25.\n",
            "  Batch   160  of    621.    Elapsed: 0:00:33.\n",
            "  Batch   200  of    621.    Elapsed: 0:00:41.\n",
            "  Batch   240  of    621.    Elapsed: 0:00:49.\n",
            "  Batch   280  of    621.    Elapsed: 0:00:57.\n",
            "  Batch   320  of    621.    Elapsed: 0:01:05.\n",
            "  Batch   360  of    621.    Elapsed: 0:01:13.\n",
            "  Batch   400  of    621.    Elapsed: 0:01:22.\n",
            "  Batch   440  of    621.    Elapsed: 0:01:30.\n",
            "  Batch   480  of    621.    Elapsed: 0:01:38.\n",
            "  Batch   520  of    621.    Elapsed: 0:01:46.\n",
            "  Batch   560  of    621.    Elapsed: 0:01:54.\n",
            "  Batch   600  of    621.    Elapsed: 0:02:02.\n",
            " Train Accuracy: 0.62\n",
            "\n",
            "  Average training loss: 0.81\n",
            "  Training epcoh took: 0:02:07\n",
            "\n",
            "Running Validation...\n",
            "  Accuracy: 0.61\n",
            "EarlyStopping counter: 1 out of 7\n",
            "  Validation Loss: 0.84\n",
            "  Validation took: 0:00:12\n",
            "Saving model to /content/model_nt5/\n",
            "\n",
            "======== Epoch 7 / 20 ========\n",
            "Training...\n",
            "  Batch    40  of    621.    Elapsed: 0:00:08.\n",
            "  Batch    80  of    621.    Elapsed: 0:00:16.\n",
            "  Batch   120  of    621.    Elapsed: 0:00:24.\n",
            "  Batch   160  of    621.    Elapsed: 0:00:32.\n",
            "  Batch   200  of    621.    Elapsed: 0:00:41.\n",
            "  Batch   240  of    621.    Elapsed: 0:00:49.\n",
            "  Batch   280  of    621.    Elapsed: 0:00:57.\n",
            "  Batch   320  of    621.    Elapsed: 0:01:05.\n",
            "  Batch   360  of    621.    Elapsed: 0:01:13.\n",
            "  Batch   400  of    621.    Elapsed: 0:01:21.\n",
            "  Batch   440  of    621.    Elapsed: 0:01:29.\n",
            "  Batch   480  of    621.    Elapsed: 0:01:38.\n",
            "  Batch   520  of    621.    Elapsed: 0:01:46.\n",
            "  Batch   560  of    621.    Elapsed: 0:01:54.\n",
            "  Batch   600  of    621.    Elapsed: 0:02:02.\n",
            " Train Accuracy: 0.63\n",
            "\n",
            "  Average training loss: 0.80\n",
            "  Training epcoh took: 0:02:06\n",
            "\n",
            "Running Validation...\n",
            "  Accuracy: 0.61\n",
            "Validation loss decreased (0.831119 --> 0.827166).  Saving model ...\n",
            "  Validation Loss: 0.83\n",
            "  Validation took: 0:00:13\n",
            "Saving model to /content/model_nt5/\n",
            "\n",
            "======== Epoch 8 / 20 ========\n",
            "Training...\n",
            "  Batch    40  of    621.    Elapsed: 0:00:08.\n",
            "  Batch    80  of    621.    Elapsed: 0:00:16.\n",
            "  Batch   120  of    621.    Elapsed: 0:00:25.\n",
            "  Batch   160  of    621.    Elapsed: 0:00:33.\n",
            "  Batch   200  of    621.    Elapsed: 0:00:41.\n",
            "  Batch   240  of    621.    Elapsed: 0:00:49.\n",
            "  Batch   280  of    621.    Elapsed: 0:00:57.\n",
            "  Batch   320  of    621.    Elapsed: 0:01:05.\n",
            "  Batch   360  of    621.    Elapsed: 0:01:14.\n",
            "  Batch   400  of    621.    Elapsed: 0:01:22.\n",
            "  Batch   440  of    621.    Elapsed: 0:01:30.\n",
            "  Batch   480  of    621.    Elapsed: 0:01:38.\n",
            "  Batch   520  of    621.    Elapsed: 0:01:46.\n",
            "  Batch   560  of    621.    Elapsed: 0:01:55.\n",
            "  Batch   600  of    621.    Elapsed: 0:02:03.\n",
            " Train Accuracy: 0.64\n",
            "\n",
            "  Average training loss: 0.80\n",
            "  Training epcoh took: 0:02:07\n",
            "\n",
            "Running Validation...\n",
            "  Accuracy: 0.61\n",
            "EarlyStopping counter: 1 out of 7\n",
            "  Validation Loss: 0.83\n",
            "  Validation took: 0:00:12\n",
            "Saving model to /content/model_nt5/\n",
            "\n",
            "======== Epoch 9 / 20 ========\n",
            "Training...\n",
            "  Batch    40  of    621.    Elapsed: 0:00:08.\n",
            "  Batch    80  of    621.    Elapsed: 0:00:16.\n",
            "  Batch   120  of    621.    Elapsed: 0:00:25.\n",
            "  Batch   160  of    621.    Elapsed: 0:00:33.\n",
            "  Batch   200  of    621.    Elapsed: 0:00:41.\n",
            "  Batch   240  of    621.    Elapsed: 0:00:49.\n",
            "  Batch   280  of    621.    Elapsed: 0:00:57.\n",
            "  Batch   320  of    621.    Elapsed: 0:01:05.\n",
            "  Batch   360  of    621.    Elapsed: 0:01:13.\n",
            "  Batch   400  of    621.    Elapsed: 0:01:22.\n",
            "  Batch   440  of    621.    Elapsed: 0:01:30.\n",
            "  Batch   480  of    621.    Elapsed: 0:01:38.\n",
            "  Batch   520  of    621.    Elapsed: 0:01:46.\n",
            "  Batch   560  of    621.    Elapsed: 0:01:54.\n",
            "  Batch   600  of    621.    Elapsed: 0:02:02.\n",
            " Train Accuracy: 0.63\n",
            "\n",
            "  Average training loss: 0.79\n",
            "  Training epcoh took: 0:02:06\n",
            "\n",
            "Running Validation...\n",
            "  Accuracy: 0.62\n",
            "Validation loss decreased (0.827166 --> 0.821676).  Saving model ...\n",
            "  Validation Loss: 0.82\n",
            "  Validation took: 0:00:13\n",
            "Saving model to /content/model_nt5/\n",
            "\n",
            "======== Epoch 10 / 20 ========\n",
            "Training...\n",
            "  Batch    40  of    621.    Elapsed: 0:00:08.\n",
            "  Batch    80  of    621.    Elapsed: 0:00:16.\n",
            "  Batch   120  of    621.    Elapsed: 0:00:25.\n",
            "  Batch   160  of    621.    Elapsed: 0:00:33.\n",
            "  Batch   200  of    621.    Elapsed: 0:00:41.\n",
            "  Batch   240  of    621.    Elapsed: 0:00:49.\n",
            "  Batch   280  of    621.    Elapsed: 0:00:57.\n",
            "  Batch   320  of    621.    Elapsed: 0:01:06.\n",
            "  Batch   360  of    621.    Elapsed: 0:01:14.\n",
            "  Batch   400  of    621.    Elapsed: 0:01:22.\n",
            "  Batch   440  of    621.    Elapsed: 0:01:30.\n",
            "  Batch   480  of    621.    Elapsed: 0:01:38.\n",
            "  Batch   520  of    621.    Elapsed: 0:01:46.\n",
            "  Batch   560  of    621.    Elapsed: 0:01:54.\n",
            "  Batch   600  of    621.    Elapsed: 0:02:02.\n",
            " Train Accuracy: 0.64\n",
            "\n",
            "  Average training loss: 0.78\n",
            "  Training epcoh took: 0:02:07\n",
            "\n",
            "Running Validation...\n",
            "  Accuracy: 0.61\n",
            "EarlyStopping counter: 1 out of 7\n",
            "  Validation Loss: 0.82\n",
            "  Validation took: 0:00:13\n",
            "Saving model to /content/model_nt5/\n",
            "\n",
            "======== Epoch 11 / 20 ========\n",
            "Training...\n",
            "  Batch    40  of    621.    Elapsed: 0:00:08.\n",
            "  Batch    80  of    621.    Elapsed: 0:00:16.\n",
            "  Batch   120  of    621.    Elapsed: 0:00:25.\n",
            "  Batch   160  of    621.    Elapsed: 0:00:33.\n",
            "  Batch   200  of    621.    Elapsed: 0:00:41.\n",
            "  Batch   240  of    621.    Elapsed: 0:00:49.\n",
            "  Batch   280  of    621.    Elapsed: 0:00:57.\n",
            "  Batch   320  of    621.    Elapsed: 0:01:05.\n",
            "  Batch   360  of    621.    Elapsed: 0:01:14.\n",
            "  Batch   400  of    621.    Elapsed: 0:01:22.\n",
            "  Batch   440  of    621.    Elapsed: 0:01:30.\n",
            "  Batch   480  of    621.    Elapsed: 0:01:38.\n",
            "  Batch   520  of    621.    Elapsed: 0:01:46.\n",
            "  Batch   560  of    621.    Elapsed: 0:01:54.\n",
            "  Batch   600  of    621.    Elapsed: 0:02:02.\n",
            " Train Accuracy: 0.64\n",
            "\n",
            "  Average training loss: 0.78\n",
            "  Training epcoh took: 0:02:07\n",
            "\n",
            "Running Validation...\n",
            "  Accuracy: 0.60\n",
            "EarlyStopping counter: 2 out of 7\n",
            "  Validation Loss: 0.84\n",
            "  Validation took: 0:00:12\n",
            "Saving model to /content/model_nt5/\n",
            "\n",
            "======== Epoch 12 / 20 ========\n",
            "Training...\n",
            "  Batch    40  of    621.    Elapsed: 0:00:08.\n",
            "  Batch    80  of    621.    Elapsed: 0:00:16.\n",
            "  Batch   120  of    621.    Elapsed: 0:00:24.\n",
            "  Batch   160  of    621.    Elapsed: 0:00:33.\n",
            "  Batch   200  of    621.    Elapsed: 0:00:41.\n",
            "  Batch   240  of    621.    Elapsed: 0:00:49.\n",
            "  Batch   280  of    621.    Elapsed: 0:00:57.\n",
            "  Batch   320  of    621.    Elapsed: 0:01:05.\n",
            "  Batch   360  of    621.    Elapsed: 0:01:13.\n",
            "  Batch   400  of    621.    Elapsed: 0:01:21.\n",
            "  Batch   440  of    621.    Elapsed: 0:01:29.\n",
            "  Batch   480  of    621.    Elapsed: 0:01:37.\n",
            "  Batch   520  of    621.    Elapsed: 0:01:46.\n",
            "  Batch   560  of    621.    Elapsed: 0:01:54.\n",
            "  Batch   600  of    621.    Elapsed: 0:02:02.\n",
            " Train Accuracy: 0.65\n",
            "\n",
            "  Average training loss: 0.77\n",
            "  Training epcoh took: 0:02:06\n",
            "\n",
            "Running Validation...\n",
            "  Accuracy: 0.61\n",
            "EarlyStopping counter: 3 out of 7\n",
            "  Validation Loss: 0.82\n",
            "  Validation took: 0:00:12\n",
            "Saving model to /content/model_nt5/\n",
            "\n",
            "======== Epoch 13 / 20 ========\n",
            "Training...\n",
            "  Batch    40  of    621.    Elapsed: 0:00:08.\n",
            "  Batch    80  of    621.    Elapsed: 0:00:16.\n",
            "  Batch   120  of    621.    Elapsed: 0:00:24.\n",
            "  Batch   160  of    621.    Elapsed: 0:00:32.\n",
            "  Batch   200  of    621.    Elapsed: 0:00:41.\n",
            "  Batch   240  of    621.    Elapsed: 0:00:49.\n",
            "  Batch   280  of    621.    Elapsed: 0:00:57.\n",
            "  Batch   320  of    621.    Elapsed: 0:01:05.\n",
            "  Batch   360  of    621.    Elapsed: 0:01:13.\n",
            "  Batch   400  of    621.    Elapsed: 0:01:21.\n",
            "  Batch   440  of    621.    Elapsed: 0:01:29.\n",
            "  Batch   480  of    621.    Elapsed: 0:01:38.\n",
            "  Batch   520  of    621.    Elapsed: 0:01:46.\n",
            "  Batch   560  of    621.    Elapsed: 0:01:54.\n",
            "  Batch   600  of    621.    Elapsed: 0:02:02.\n",
            " Train Accuracy: 0.65\n",
            "\n",
            "  Average training loss: 0.76\n",
            "  Training epcoh took: 0:02:06\n",
            "\n",
            "Running Validation...\n",
            "  Accuracy: 0.61\n",
            "EarlyStopping counter: 4 out of 7\n",
            "  Validation Loss: 0.84\n",
            "  Validation took: 0:00:12\n",
            "Saving model to /content/model_nt5/\n",
            "\n",
            "======== Epoch 14 / 20 ========\n",
            "Training...\n",
            "  Batch    40  of    621.    Elapsed: 0:00:08.\n",
            "  Batch    80  of    621.    Elapsed: 0:00:16.\n",
            "  Batch   120  of    621.    Elapsed: 0:00:24.\n",
            "  Batch   160  of    621.    Elapsed: 0:00:32.\n",
            "  Batch   200  of    621.    Elapsed: 0:00:41.\n",
            "  Batch   240  of    621.    Elapsed: 0:00:49.\n",
            "  Batch   280  of    621.    Elapsed: 0:00:57.\n",
            "  Batch   320  of    621.    Elapsed: 0:01:05.\n",
            "  Batch   360  of    621.    Elapsed: 0:01:14.\n",
            "  Batch   400  of    621.    Elapsed: 0:01:22.\n",
            "  Batch   440  of    621.    Elapsed: 0:01:30.\n",
            "  Batch   480  of    621.    Elapsed: 0:01:38.\n",
            "  Batch   520  of    621.    Elapsed: 0:01:47.\n",
            "  Batch   560  of    621.    Elapsed: 0:01:55.\n",
            "  Batch   600  of    621.    Elapsed: 0:02:03.\n",
            " Train Accuracy: 0.66\n",
            "\n",
            "  Average training loss: 0.76\n",
            "  Training epcoh took: 0:02:07\n",
            "\n",
            "Running Validation...\n",
            "  Accuracy: 0.62\n",
            "EarlyStopping counter: 5 out of 7\n",
            "  Validation Loss: 0.83\n",
            "  Validation took: 0:00:13\n",
            "Saving model to /content/model_nt5/\n",
            "\n",
            "======== Epoch 15 / 20 ========\n",
            "Training...\n",
            "  Batch    40  of    621.    Elapsed: 0:00:08.\n",
            "  Batch    80  of    621.    Elapsed: 0:00:16.\n",
            "  Batch   120  of    621.    Elapsed: 0:00:25.\n",
            "  Batch   160  of    621.    Elapsed: 0:00:33.\n",
            "  Batch   200  of    621.    Elapsed: 0:00:41.\n",
            "  Batch   240  of    621.    Elapsed: 0:00:49.\n",
            "  Batch   280  of    621.    Elapsed: 0:00:57.\n",
            "  Batch   320  of    621.    Elapsed: 0:01:06.\n",
            "  Batch   360  of    621.    Elapsed: 0:01:14.\n",
            "  Batch   400  of    621.    Elapsed: 0:01:22.\n",
            "  Batch   440  of    621.    Elapsed: 0:01:30.\n",
            "  Batch   480  of    621.    Elapsed: 0:01:39.\n",
            "  Batch   520  of    621.    Elapsed: 0:01:47.\n",
            "  Batch   560  of    621.    Elapsed: 0:01:55.\n",
            "  Batch   600  of    621.    Elapsed: 0:02:03.\n",
            " Train Accuracy: 0.66\n",
            "\n",
            "  Average training loss: 0.74\n",
            "  Training epcoh took: 0:02:08\n",
            "\n",
            "Running Validation...\n",
            "  Accuracy: 0.60\n",
            "EarlyStopping counter: 6 out of 7\n",
            "  Validation Loss: 0.84\n",
            "  Validation took: 0:00:13\n",
            "Saving model to /content/model_nt5/\n",
            "\n",
            "======== Epoch 16 / 20 ========\n",
            "Training...\n",
            "  Batch    40  of    621.    Elapsed: 0:00:08.\n",
            "  Batch    80  of    621.    Elapsed: 0:00:17.\n",
            "  Batch   120  of    621.    Elapsed: 0:00:25.\n",
            "  Batch   160  of    621.    Elapsed: 0:00:33.\n",
            "  Batch   200  of    621.    Elapsed: 0:00:41.\n",
            "  Batch   240  of    621.    Elapsed: 0:00:49.\n",
            "  Batch   280  of    621.    Elapsed: 0:00:58.\n",
            "  Batch   320  of    621.    Elapsed: 0:01:06.\n",
            "  Batch   360  of    621.    Elapsed: 0:01:14.\n",
            "  Batch   400  of    621.    Elapsed: 0:01:22.\n",
            "  Batch   440  of    621.    Elapsed: 0:01:31.\n",
            "  Batch   480  of    621.    Elapsed: 0:01:39.\n",
            "  Batch   520  of    621.    Elapsed: 0:01:47.\n",
            "  Batch   560  of    621.    Elapsed: 0:01:55.\n",
            "  Batch   600  of    621.    Elapsed: 0:02:04.\n",
            " Train Accuracy: 0.66\n",
            "\n",
            "  Average training loss: 0.74\n",
            "  Training epcoh took: 0:02:08\n",
            "\n",
            "Running Validation...\n",
            "  Accuracy: 0.61\n",
            "EarlyStopping counter: 7 out of 7\n",
            "Early stopping\n",
            "\n",
            "Training complete!\n",
            "Total training took 0:37:47 (h:mm:ss)\n"
          ]
        }
      ]
    },
    {
      "cell_type": "code",
      "source": [
        "from google.colab import drive\n",
        "drive.mount('/content/drive')"
      ],
      "metadata": {
        "colab": {
          "base_uri": "https://localhost:8080/"
        },
        "id": "UioRr5gaTD4c",
        "outputId": "318ce7f8-598a-4890-ac6c-6be5d56f636b"
      },
      "execution_count": null,
      "outputs": [
        {
          "output_type": "stream",
          "name": "stdout",
          "text": [
            "Mounted at /content/drive\n"
          ]
        }
      ]
    },
    {
      "cell_type": "code",
      "source": [
        "# from google.colab import drive\n",
        "# drive.mount('/content/drive')"
      ],
      "metadata": {
        "id": "Y85_jMDiw9uP"
      },
      "execution_count": null,
      "outputs": []
    },
    {
      "cell_type": "code",
      "source": [
        "# from huggingface_hub import login"
      ],
      "metadata": {
        "id": "TEEKmPey0a8-"
      },
      "execution_count": null,
      "outputs": []
    },
    {
      "cell_type": "code",
      "source": [
        "# login()"
      ],
      "metadata": {
        "id": "MFR-s_8ZtATC"
      },
      "execution_count": null,
      "outputs": []
    },
    {
      "cell_type": "code",
      "source": [
        "# LE.classes_"
      ],
      "metadata": {
        "id": "GWkkt0F4Ifwc"
      },
      "execution_count": null,
      "outputs": []
    },
    {
      "cell_type": "code",
      "source": [],
      "metadata": {
        "id": "xy__BpY8VOQp"
      },
      "execution_count": null,
      "outputs": []
    }
  ]
}